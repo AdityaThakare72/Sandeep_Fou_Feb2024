{
 "cells": [
  {
   "cell_type": "code",
   "execution_count": 1,
   "id": "861261e5",
   "metadata": {},
   "outputs": [],
   "source": [
    "f = open('maha.txt')"
   ]
  },
  {
   "cell_type": "code",
   "execution_count": 2,
   "id": "6d990f1a",
   "metadata": {},
   "outputs": [
    {
     "data": {
      "text/plain": [
       "'The region that encompasses the state has a history going back many millennia. Notable dynasties that ruled the region include the Asmakas, the Mauryas, the Satavahanas, the Western Satraps, the Abhiras, the Vakatakas, the Chalukyas, the Rashtrakutas, the Western Chalukyas, the Seuna Yadavas, the Khaljis, the Tughlaqs, the Bahamanis and the Mughals. In the early nineteenth century, the region was divided beween the Dominions of the Peshwa in the Maratha Confederacy and the Nizamate of Hyderabad. After two wars and the proclamation of the Indian Empire, the region became a part of the Bombay Province, the Berar Province and the Central Provinces of India under direct British rule and the Deccan States Agency under Crown suzerainty. Between 1950 and 1956, the Bombay Province became the Bombay State in the Indian Union, and Berar, the Deccan states and the Gujarat states were merged into the Bombay State. On 1 May 1960, the State of Bombay was bifurcated into the State of Maharasthra and State of Gujarat after a long struggle for special state for Marathi language speaking people through Samyukta Maharashtra Movement (transl.\\u2009United Maharashtra movement).\\n'"
      ]
     },
     "execution_count": 2,
     "metadata": {},
     "output_type": "execute_result"
    }
   ],
   "source": [
    "data = f.read()\n",
    "data"
   ]
  },
  {
   "cell_type": "code",
   "execution_count": 3,
   "id": "b6f4c190",
   "metadata": {},
   "outputs": [],
   "source": [
    "words = data.split()"
   ]
  },
  {
   "cell_type": "code",
   "execution_count": 5,
   "id": "0759f87c",
   "metadata": {},
   "outputs": [
    {
     "data": {
      "text/plain": [
       "['The',\n",
       " 'region',\n",
       " 'that',\n",
       " 'encompasses',\n",
       " 'the',\n",
       " 'state',\n",
       " 'has',\n",
       " 'a',\n",
       " 'history',\n",
       " 'going',\n",
       " 'back',\n",
       " 'many',\n",
       " 'millennia.',\n",
       " 'Notable',\n",
       " 'dynasties',\n",
       " 'that',\n",
       " 'ruled',\n",
       " 'the',\n",
       " 'region',\n",
       " 'include',\n",
       " 'the',\n",
       " 'Asmakas,',\n",
       " 'the',\n",
       " 'Mauryas,',\n",
       " 'the',\n",
       " 'Satavahanas,',\n",
       " 'the',\n",
       " 'Western',\n",
       " 'Satraps,',\n",
       " 'the',\n",
       " 'Abhiras,',\n",
       " 'the',\n",
       " 'Vakatakas,',\n",
       " 'the',\n",
       " 'Chalukyas,',\n",
       " 'the',\n",
       " 'Rashtrakutas,',\n",
       " 'the',\n",
       " 'Western',\n",
       " 'Chalukyas,',\n",
       " 'the',\n",
       " 'Seuna',\n",
       " 'Yadavas,',\n",
       " 'the',\n",
       " 'Khaljis,',\n",
       " 'the',\n",
       " 'Tughlaqs,',\n",
       " 'the',\n",
       " 'Bahamanis',\n",
       " 'and',\n",
       " 'the',\n",
       " 'Mughals.',\n",
       " 'In',\n",
       " 'the',\n",
       " 'early',\n",
       " 'nineteenth',\n",
       " 'century,',\n",
       " 'the',\n",
       " 'region',\n",
       " 'was',\n",
       " 'divided',\n",
       " 'beween',\n",
       " 'the',\n",
       " 'Dominions',\n",
       " 'of',\n",
       " 'the',\n",
       " 'Peshwa',\n",
       " 'in',\n",
       " 'the',\n",
       " 'Maratha',\n",
       " 'Confederacy',\n",
       " 'and',\n",
       " 'the',\n",
       " 'Nizamate',\n",
       " 'of',\n",
       " 'Hyderabad.',\n",
       " 'After',\n",
       " 'two',\n",
       " 'wars',\n",
       " 'and',\n",
       " 'the',\n",
       " 'proclamation',\n",
       " 'of',\n",
       " 'the',\n",
       " 'Indian',\n",
       " 'Empire,',\n",
       " 'the',\n",
       " 'region',\n",
       " 'became',\n",
       " 'a',\n",
       " 'part',\n",
       " 'of',\n",
       " 'the',\n",
       " 'Bombay',\n",
       " 'Province,',\n",
       " 'the',\n",
       " 'Berar',\n",
       " 'Province',\n",
       " 'and',\n",
       " 'the',\n",
       " 'Central',\n",
       " 'Provinces',\n",
       " 'of',\n",
       " 'India',\n",
       " 'under',\n",
       " 'direct',\n",
       " 'British',\n",
       " 'rule',\n",
       " 'and',\n",
       " 'the',\n",
       " 'Deccan',\n",
       " 'States',\n",
       " 'Agency',\n",
       " 'under',\n",
       " 'Crown',\n",
       " 'suzerainty.',\n",
       " 'Between',\n",
       " '1950',\n",
       " 'and',\n",
       " '1956,',\n",
       " 'the',\n",
       " 'Bombay',\n",
       " 'Province',\n",
       " 'became',\n",
       " 'the',\n",
       " 'Bombay',\n",
       " 'State',\n",
       " 'in',\n",
       " 'the',\n",
       " 'Indian',\n",
       " 'Union,',\n",
       " 'and',\n",
       " 'Berar,',\n",
       " 'the',\n",
       " 'Deccan',\n",
       " 'states',\n",
       " 'and',\n",
       " 'the',\n",
       " 'Gujarat',\n",
       " 'states',\n",
       " 'were',\n",
       " 'merged',\n",
       " 'into',\n",
       " 'the',\n",
       " 'Bombay',\n",
       " 'State.',\n",
       " 'On',\n",
       " '1',\n",
       " 'May',\n",
       " '1960,',\n",
       " 'the',\n",
       " 'State',\n",
       " 'of',\n",
       " 'Bombay',\n",
       " 'was',\n",
       " 'bifurcated',\n",
       " 'into',\n",
       " 'the',\n",
       " 'State',\n",
       " 'of',\n",
       " 'Maharasthra',\n",
       " 'and',\n",
       " 'State',\n",
       " 'of',\n",
       " 'Gujarat',\n",
       " 'after',\n",
       " 'a',\n",
       " 'long',\n",
       " 'struggle',\n",
       " 'for',\n",
       " 'special',\n",
       " 'state',\n",
       " 'for',\n",
       " 'Marathi',\n",
       " 'language',\n",
       " 'speaking',\n",
       " 'people',\n",
       " 'through',\n",
       " 'Samyukta',\n",
       " 'Maharashtra',\n",
       " 'Movement',\n",
       " '(transl.',\n",
       " 'United',\n",
       " 'Maharashtra',\n",
       " 'movement).']"
      ]
     },
     "execution_count": 5,
     "metadata": {},
     "output_type": "execute_result"
    }
   ],
   "source": [
    "words"
   ]
  },
  {
   "cell_type": "code",
   "execution_count": 6,
   "id": "0581362c",
   "metadata": {},
   "outputs": [
    {
     "name": "stdout",
     "output_type": "stream",
     "text": [
      "4\n"
     ]
    }
   ],
   "source": [
    "print(words.count('region'))"
   ]
  },
  {
   "cell_type": "code",
   "execution_count": 7,
   "id": "7220bd1f",
   "metadata": {},
   "outputs": [],
   "source": [
    "f.close()"
   ]
  },
  {
   "cell_type": "code",
   "execution_count": 8,
   "id": "c34bea5d",
   "metadata": {},
   "outputs": [
    {
     "ename": "ValueError",
     "evalue": "I/O operation on closed file.",
     "output_type": "error",
     "traceback": [
      "\u001b[0;31m---------------------------------------------------------------------------\u001b[0m",
      "\u001b[0;31mValueError\u001b[0m                                Traceback (most recent call last)",
      "Cell \u001b[0;32mIn[8], line 1\u001b[0m\n\u001b[0;32m----> 1\u001b[0m data1 \u001b[38;5;241m=\u001b[39m f\u001b[38;5;241m.\u001b[39mread()\n\u001b[1;32m      2\u001b[0m data1\n",
      "\u001b[0;31mValueError\u001b[0m: I/O operation on closed file."
     ]
    }
   ],
   "source": [
    "data1 = f.read()\n",
    "data1"
   ]
  },
  {
   "cell_type": "code",
   "execution_count": 9,
   "id": "6212809b",
   "metadata": {},
   "outputs": [
    {
     "name": "stdout",
     "output_type": "stream",
     "text": [
      "The region that encompasses the state has a history going back many millennia. Notable dynasties that ruled the region include the Asmakas, the Mauryas, the Satavahanas, the Western Satraps, the Abhiras, the Vakatakas, the Chalukyas, the Rashtrakutas, the Western Chalukyas, the Seuna Yadavas, the Khaljis, the Tughlaqs, the Bahamanis and the Mughals. In the early nineteenth century, the region was divided beween the Dominions of the Peshwa in the Maratha Confederacy and the Nizamate of Hyderabad. After two wars and the proclamation of the Indian Empire, the region became a part of the Bombay Province, the Berar Province and the Central Provinces of India under direct British rule and the Deccan States Agency under Crown suzerainty. Between 1950 and 1956, the Bombay Province became the Bombay State in the Indian Union, and Berar, the Deccan states and the Gujarat states were merged into the Bombay State. On 1 May 1960, the State of Bombay was bifurcated into the State of Maharasthra and State of Gujarat after a long struggle for special state for Marathi language speaking people through Samyukta Maharashtra Movement (transl. United Maharashtra movement).\n",
      "\n"
     ]
    }
   ],
   "source": [
    "with open('maha.txt') as f:\n",
    "    print(f.read())"
   ]
  },
  {
   "cell_type": "code",
   "execution_count": 10,
   "id": "23e148e1",
   "metadata": {},
   "outputs": [],
   "source": [
    "f = open('maha.txt')\n",
    "w = open('test1.txt', 'w')\n",
    "data = f.read()\n",
    "w.write(data)\n",
    "f.close()\n",
    "w.close()"
   ]
  },
  {
   "cell_type": "code",
   "execution_count": 14,
   "id": "1618a625",
   "metadata": {},
   "outputs": [
    {
     "data": {
      "text/plain": [
       "True"
      ]
     },
     "execution_count": 14,
     "metadata": {},
     "output_type": "execute_result"
    }
   ],
   "source": [
    "with open('maha.txt') as f:\n",
    "    pass\n",
    "\n",
    "f.closed"
   ]
  },
  {
   "cell_type": "code",
   "execution_count": 17,
   "id": "e2c3bb96",
   "metadata": {},
   "outputs": [
    {
     "name": "stdout",
     "output_type": "stream",
     "text": [
      "['this is first line\\n', 'this is second line\\n', 'this is third line\\n', 'this is fourth line']\n"
     ]
    }
   ],
   "source": [
    "with open('lines.txt') as f:\n",
    "    content = f.readlines()\n",
    "    print(content)"
   ]
  },
  {
   "cell_type": "code",
   "execution_count": 20,
   "id": "52c7eaaf",
   "metadata": {},
   "outputs": [
    {
     "name": "stdout",
     "output_type": "stream",
     "text": [
      "this is first line\n",
      "this is second line\n"
     ]
    }
   ],
   "source": [
    "with open('lines.txt') as f:\n",
    "    content = f.readline()\n",
    "    print(content, end = '')\n",
    "    \n",
    "    content = f.readline()\n",
    "    print(content, end = '')"
   ]
  },
  {
   "cell_type": "code",
   "execution_count": 22,
   "id": "40df47a4",
   "metadata": {},
   "outputs": [
    {
     "name": "stdout",
     "output_type": "stream",
     "text": [
      "this is first line\n",
      "this is second line\n",
      "this is third line\n",
      "this is fourth line"
     ]
    }
   ],
   "source": [
    "with open('lines.txt') as f:\n",
    "    for line in f:\n",
    "        print(line, end='')"
   ]
  },
  {
   "cell_type": "code",
   "execution_count": 23,
   "id": "c399330c",
   "metadata": {},
   "outputs": [
    {
     "name": "stdout",
     "output_type": "stream",
     "text": [
      "this is fir"
     ]
    }
   ],
   "source": [
    "with open('lines.txt') as f:\n",
    "    content = f.read(11)\n",
    "    print(content, end = '')"
   ]
  },
  {
   "cell_type": "code",
   "execution_count": null,
   "id": "b2bc5036",
   "metadata": {},
   "outputs": [],
   "source": [
    "!pip install tkinter"
   ]
  },
  {
   "cell_type": "code",
   "execution_count": 24,
   "id": "c5dc183c",
   "metadata": {},
   "outputs": [],
   "source": [
    "import tkinter"
   ]
  },
  {
   "cell_type": "code",
   "execution_count": null,
   "id": "e47a810f",
   "metadata": {},
   "outputs": [],
   "source": []
  }
 ],
 "metadata": {
  "kernelspec": {
   "display_name": "Python 3 (ipykernel)",
   "language": "python",
   "name": "python3"
  },
  "language_info": {
   "codemirror_mode": {
    "name": "ipython",
    "version": 3
   },
   "file_extension": ".py",
   "mimetype": "text/x-python",
   "name": "python",
   "nbconvert_exporter": "python",
   "pygments_lexer": "ipython3",
   "version": "3.11.5"
  }
 },
 "nbformat": 4,
 "nbformat_minor": 5
}
