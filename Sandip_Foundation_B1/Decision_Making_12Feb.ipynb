{
 "cells": [
  {
   "cell_type": "code",
   "execution_count": 4,
   "id": "a10a8041",
   "metadata": {},
   "outputs": [],
   "source": [
    "num = 40"
   ]
  },
  {
   "cell_type": "code",
   "execution_count": 5,
   "id": "4a6fa5a2",
   "metadata": {},
   "outputs": [],
   "source": [
    "if num > 50:\n",
    "    print('OK')\n",
    "    print('Kay')"
   ]
  },
  {
   "cell_type": "code",
   "execution_count": 6,
   "id": "7a713c6d",
   "metadata": {},
   "outputs": [
    {
     "name": "stdout",
     "output_type": "stream",
     "text": [
      "Not ok\n"
     ]
    }
   ],
   "source": [
    "if num > 50:\n",
    "    print('OK')\n",
    "    print('Kay')\n",
    "else:\n",
    "    print('Not ok')"
   ]
  },
  {
   "cell_type": "code",
   "execution_count": 7,
   "id": "2e1e5f29",
   "metadata": {},
   "outputs": [],
   "source": [
    "# check if the number is positive or negative\n",
    "# Take user input"
   ]
  },
  {
   "cell_type": "code",
   "execution_count": 10,
   "id": "2cdd01f2",
   "metadata": {},
   "outputs": [
    {
     "name": "stdout",
     "output_type": "stream",
     "text": [
      "Enter the number -10\n",
      "Negative\n"
     ]
    }
   ],
   "source": [
    "num = int(input('Enter the number '))\n",
    "\n",
    "if num > 0:\n",
    "    print('Positive')\n",
    "else:\n",
    "    print('Negative')"
   ]
  },
  {
   "cell_type": "code",
   "execution_count": 12,
   "id": "d407182d",
   "metadata": {},
   "outputs": [
    {
     "name": "stdout",
     "output_type": "stream",
     "text": [
      "Enter the number 2\n",
      "Even\n"
     ]
    }
   ],
   "source": [
    "# check if the number is even or odd\n",
    "\n",
    "num = int(input('Enter the number '))\n",
    "\n",
    "if num % 2 == 0:\n",
    "    print('Even')\n",
    "else:\n",
    "    print('Odd')"
   ]
  },
  {
   "cell_type": "code",
   "execution_count": 14,
   "id": "fb6c6aa1",
   "metadata": {},
   "outputs": [
    {
     "name": "stdout",
     "output_type": "stream",
     "text": [
      "Enter the number 9\n",
      "Positive\n"
     ]
    }
   ],
   "source": [
    "num = int(input('Enter the number '))\n",
    "\n",
    "if num > 0:\n",
    "    print('Positive')\n",
    "elif num == 0:\n",
    "    print('Zero')\n",
    "else:\n",
    "    print('Negative')"
   ]
  },
  {
   "cell_type": "code",
   "execution_count": 17,
   "id": "769f7af6",
   "metadata": {},
   "outputs": [
    {
     "name": "stdout",
     "output_type": "stream",
     "text": [
      "Enter the number 21\n",
      "Incorrect\n"
     ]
    }
   ],
   "source": [
    "# check if the number is in between 50 and 100\n",
    "\n",
    "num = int(input('Enter the number '))\n",
    "\n",
    "if num > 50:\n",
    "    if num < 100:\n",
    "        print('Correct')\n",
    "    else:\n",
    "        print('GREATER THAN 100')\n",
    "else:\n",
    "    print('Incorrect')"
   ]
  },
  {
   "cell_type": "code",
   "execution_count": 19,
   "id": "b764216b",
   "metadata": {},
   "outputs": [
    {
     "name": "stdout",
     "output_type": "stream",
     "text": [
      "Enter the number 6\n",
      "Incorrect\n"
     ]
    }
   ],
   "source": [
    "num = int(input('Enter the number '))\n",
    "\n",
    "if num > 50 and num < 100:\n",
    "    print('correct')\n",
    "else:\n",
    "    print('Incorrect')"
   ]
  },
  {
   "cell_type": "code",
   "execution_count": 21,
   "id": "22c71e0d",
   "metadata": {},
   "outputs": [
    {
     "name": "stdout",
     "output_type": "stream",
     "text": [
      "Enter the purchase cost 200\n",
      "Enter the selling cost 50\n",
      "Loss: 150\n"
     ]
    }
   ],
   "source": [
    "# take purchase and selling cost\n",
    "# determine profit or loss and how much?\n",
    "\n",
    "purchase_cost = int(input('Enter the purchase cost '))\n",
    "selling_cost = int(input('Enter the selling cost '))\n",
    "\n",
    "if selling_cost > purchase_cost:\n",
    "    print('Profit:', selling_cost - purchase_cost)\n",
    "else:\n",
    "    print('Loss:', purchase_cost - selling_cost)"
   ]
  },
  {
   "cell_type": "code",
   "execution_count": 24,
   "id": "25e62662",
   "metadata": {},
   "outputs": [
    {
     "name": "stdout",
     "output_type": "stream",
     "text": [
      "Enter 1st number 10\n",
      "Enter 2nd number 30\n",
      "Enter 3rd number 20\n",
      "Largest: 30\n"
     ]
    }
   ],
   "source": [
    "# read 3 numbers find out the largest\n",
    "# not allowed to use 'and' or 'or'\n",
    "\n",
    "num1 = int(input('Enter 1st number '))\n",
    "num2 = int(input('Enter 2nd number '))\n",
    "num3 = int(input('Enter 3rd number '))\n",
    "\n",
    "if num1 > num2:\n",
    "    if num1 > num3:\n",
    "        print('Largest:', num1)\n",
    "    else:\n",
    "        print('Largest:', num3)\n",
    "else:\n",
    "    if num2 > num3:\n",
    "        print('Largest:', num2)\n",
    "    else:\n",
    "        print('Largest:', num3)"
   ]
  },
  {
   "cell_type": "code",
   "execution_count": 36,
   "id": "8efcc7a8",
   "metadata": {},
   "outputs": [
    {
     "name": "stdout",
     "output_type": "stream",
     "text": [
      "Enter the year 1900\n",
      "Not Leap CY\n"
     ]
    }
   ],
   "source": [
    "# 2024 = leap\n",
    "# 1997 = not leap\n",
    "# 2000 = leap\n",
    "# 1900 = not leap\n",
    "\n",
    "year = int(input('Enter the year '))\n",
    "\n",
    "if year % 4 == 0:\n",
    "    if year % 100 == 0:\n",
    "        if year % 400 == 0:\n",
    "            print('Leap CY')\n",
    "        else:\n",
    "            print('Not Leap CY')\n",
    "    else:\n",
    "        print('Leap Year')\n",
    "else:\n",
    "    print('Not Leap')"
   ]
  },
  {
   "cell_type": "code",
   "execution_count": 32,
   "id": "df6521d9",
   "metadata": {},
   "outputs": [
    {
     "name": "stdout",
     "output_type": "stream",
     "text": [
      "Enter the number 10\n",
      "MENU\n",
      "1.square\n",
      "2.cube\n",
      "3.positive or negative\n",
      "Enter Your Choice 2\n",
      "Cube: 1000\n"
     ]
    }
   ],
   "source": [
    "\"\"\"\n",
    "read the number and perform following\n",
    "1. square\n",
    "2. cube\n",
    "3. positive or negative\n",
    "\"\"\"\n",
    "\n",
    "num = int(input('Enter the number '))\n",
    "\n",
    "print('MENU\\n1.square\\n2.cube\\n3.positive or negative')\n",
    "\n",
    "ch = int(input('Enter Your Choice '))\n",
    "\n",
    "if ch == 1:\n",
    "    print('Square:', num * num)\n",
    "elif ch == 2:\n",
    "    print('Cube:', num ** 3)\n",
    "elif ch == 3:\n",
    "    if num > 0:\n",
    "        print('Positive')\n",
    "    else:\n",
    "        print('Negative')\n",
    "else:\n",
    "    print('INVALID')"
   ]
  },
  {
   "cell_type": "code",
   "execution_count": null,
   "id": "e12c07ef",
   "metadata": {},
   "outputs": [],
   "source": []
  }
 ],
 "metadata": {
  "kernelspec": {
   "display_name": "Python 3 (ipykernel)",
   "language": "python",
   "name": "python3"
  },
  "language_info": {
   "codemirror_mode": {
    "name": "ipython",
    "version": 3
   },
   "file_extension": ".py",
   "mimetype": "text/x-python",
   "name": "python",
   "nbconvert_exporter": "python",
   "pygments_lexer": "ipython3",
   "version": "3.11.5"
  }
 },
 "nbformat": 4,
 "nbformat_minor": 5
}
