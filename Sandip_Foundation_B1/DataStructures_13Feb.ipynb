{
 "cells": [
  {
   "cell_type": "markdown",
   "id": "9caf626f",
   "metadata": {},
   "source": [
    "# List"
   ]
  },
  {
   "cell_type": "code",
   "execution_count": 8,
   "id": "a1c370d8",
   "metadata": {},
   "outputs": [],
   "source": [
    "# Duplicate values are allowed\n",
    "# hetero\n",
    "# ordered\n",
    "# mutable"
   ]
  },
  {
   "cell_type": "code",
   "execution_count": 9,
   "id": "0f16ec5e",
   "metadata": {},
   "outputs": [],
   "source": [
    "l1 = [56,67,43,23,45,45]"
   ]
  },
  {
   "cell_type": "code",
   "execution_count": 10,
   "id": "e5db84dd",
   "metadata": {},
   "outputs": [
    {
     "name": "stdout",
     "output_type": "stream",
     "text": [
      "[56, 67, 43, 23, 45, 45]\n"
     ]
    }
   ],
   "source": [
    "print(l1)"
   ]
  },
  {
   "cell_type": "code",
   "execution_count": 11,
   "id": "c1f5227f",
   "metadata": {},
   "outputs": [
    {
     "data": {
      "text/plain": [
       "list"
      ]
     },
     "execution_count": 11,
     "metadata": {},
     "output_type": "execute_result"
    }
   ],
   "source": [
    "type(l1)"
   ]
  },
  {
   "cell_type": "code",
   "execution_count": 12,
   "id": "93f5031f",
   "metadata": {},
   "outputs": [
    {
     "data": {
      "text/plain": [
       "[56, 67, 43, 23, 45, 45, 'Aditya', 78.99]"
      ]
     },
     "execution_count": 12,
     "metadata": {},
     "output_type": "execute_result"
    }
   ],
   "source": [
    "l2 = [56,67,43,23,45,45,'Aditya',78.99]\n",
    "l2"
   ]
  },
  {
   "cell_type": "code",
   "execution_count": 13,
   "id": "633365ac",
   "metadata": {},
   "outputs": [
    {
     "data": {
      "text/plain": [
       "67"
      ]
     },
     "execution_count": 13,
     "metadata": {},
     "output_type": "execute_result"
    }
   ],
   "source": [
    "l2[1]"
   ]
  },
  {
   "cell_type": "code",
   "execution_count": 14,
   "id": "09b8c3ee",
   "metadata": {},
   "outputs": [
    {
     "data": {
      "text/plain": [
       "'Aditya'"
      ]
     },
     "execution_count": 14,
     "metadata": {},
     "output_type": "execute_result"
    }
   ],
   "source": [
    "l2[6]"
   ]
  },
  {
   "cell_type": "code",
   "execution_count": 15,
   "id": "ef77a1c0",
   "metadata": {},
   "outputs": [
    {
     "data": {
      "text/plain": [
       "78.99"
      ]
     },
     "execution_count": 15,
     "metadata": {},
     "output_type": "execute_result"
    }
   ],
   "source": [
    "l2[-1]"
   ]
  },
  {
   "cell_type": "code",
   "execution_count": 16,
   "id": "c0175e70",
   "metadata": {},
   "outputs": [
    {
     "data": {
      "text/plain": [
       "23"
      ]
     },
     "execution_count": 16,
     "metadata": {},
     "output_type": "execute_result"
    }
   ],
   "source": [
    "l2[-5]"
   ]
  },
  {
   "cell_type": "code",
   "execution_count": 17,
   "id": "180a35b2",
   "metadata": {},
   "outputs": [
    {
     "data": {
      "text/plain": [
       "[56, 67, 43, 23, 45, 45]"
      ]
     },
     "execution_count": 17,
     "metadata": {},
     "output_type": "execute_result"
    }
   ],
   "source": [
    "l1"
   ]
  },
  {
   "cell_type": "code",
   "execution_count": 18,
   "id": "2fc0cf34",
   "metadata": {},
   "outputs": [],
   "source": [
    "l1[2] = 78"
   ]
  },
  {
   "cell_type": "code",
   "execution_count": 19,
   "id": "eca652ee",
   "metadata": {},
   "outputs": [
    {
     "data": {
      "text/plain": [
       "[56, 67, 78, 23, 45, 45]"
      ]
     },
     "execution_count": 19,
     "metadata": {},
     "output_type": "execute_result"
    }
   ],
   "source": [
    "l1"
   ]
  },
  {
   "cell_type": "code",
   "execution_count": 20,
   "id": "2ca63c6e",
   "metadata": {},
   "outputs": [],
   "source": [
    "# slicing"
   ]
  },
  {
   "cell_type": "code",
   "execution_count": 21,
   "id": "253b87d3",
   "metadata": {},
   "outputs": [
    {
     "data": {
      "text/plain": [
       "[67, 78, 23]"
      ]
     },
     "execution_count": 21,
     "metadata": {},
     "output_type": "execute_result"
    }
   ],
   "source": [
    "l1[1:4]"
   ]
  },
  {
   "cell_type": "code",
   "execution_count": 26,
   "id": "0db0b41d",
   "metadata": {},
   "outputs": [
    {
     "data": {
      "text/plain": [
       "[67, 78, 23, 45, 45]"
      ]
     },
     "execution_count": 26,
     "metadata": {},
     "output_type": "execute_result"
    }
   ],
   "source": [
    "l1[1:]"
   ]
  },
  {
   "cell_type": "code",
   "execution_count": 27,
   "id": "0ab8a8e9",
   "metadata": {},
   "outputs": [
    {
     "data": {
      "text/plain": [
       "[56, 67, 78, 23]"
      ]
     },
     "execution_count": 27,
     "metadata": {},
     "output_type": "execute_result"
    }
   ],
   "source": [
    "l1[:4]"
   ]
  },
  {
   "cell_type": "code",
   "execution_count": 28,
   "id": "73878b85",
   "metadata": {},
   "outputs": [
    {
     "data": {
      "text/plain": [
       "[56, 12, 14, 16, 45, 45]"
      ]
     },
     "execution_count": 28,
     "metadata": {},
     "output_type": "execute_result"
    }
   ],
   "source": [
    "l1[1:4] = [12,14,16]\n",
    "l1"
   ]
  },
  {
   "cell_type": "code",
   "execution_count": 29,
   "id": "ae795bc5",
   "metadata": {},
   "outputs": [
    {
     "data": {
      "text/plain": [
       "True"
      ]
     },
     "execution_count": 29,
     "metadata": {},
     "output_type": "execute_result"
    }
   ],
   "source": [
    "56 in l1"
   ]
  },
  {
   "cell_type": "code",
   "execution_count": 30,
   "id": "a2a4b8e0",
   "metadata": {},
   "outputs": [
    {
     "data": {
      "text/plain": [
       "False"
      ]
     },
     "execution_count": 30,
     "metadata": {},
     "output_type": "execute_result"
    }
   ],
   "source": [
    "777 in l1"
   ]
  },
  {
   "cell_type": "code",
   "execution_count": 31,
   "id": "b797b23f",
   "metadata": {},
   "outputs": [],
   "source": [
    "# remove the element\n",
    "del l1[1]"
   ]
  },
  {
   "cell_type": "code",
   "execution_count": 32,
   "id": "fd014750",
   "metadata": {},
   "outputs": [
    {
     "data": {
      "text/plain": [
       "[56, 14, 16, 45, 45]"
      ]
     },
     "execution_count": 32,
     "metadata": {},
     "output_type": "execute_result"
    }
   ],
   "source": [
    "l1"
   ]
  },
  {
   "cell_type": "code",
   "execution_count": 33,
   "id": "7451b2df",
   "metadata": {
    "scrolled": true
   },
   "outputs": [
    {
     "data": {
      "text/plain": [
       "[56, 14, 16, 45, 45, 56, 14, 16, 45, 45]"
      ]
     },
     "execution_count": 33,
     "metadata": {},
     "output_type": "execute_result"
    }
   ],
   "source": [
    "l1 * 2"
   ]
  },
  {
   "cell_type": "code",
   "execution_count": 36,
   "id": "4ca8cfed",
   "metadata": {},
   "outputs": [],
   "source": [
    "l1 += [10,20]"
   ]
  },
  {
   "cell_type": "code",
   "execution_count": 37,
   "id": "8c71a492",
   "metadata": {},
   "outputs": [
    {
     "data": {
      "text/plain": [
       "[56, 14, 16, 45, 45, 10, 20]"
      ]
     },
     "execution_count": 37,
     "metadata": {},
     "output_type": "execute_result"
    }
   ],
   "source": [
    "l1"
   ]
  },
  {
   "cell_type": "code",
   "execution_count": 38,
   "id": "4d520012",
   "metadata": {},
   "outputs": [
    {
     "name": "stdout",
     "output_type": "stream",
     "text": [
      "45 45 "
     ]
    }
   ],
   "source": [
    "# iterate and print the odd numbers in this list\n",
    "\n",
    "for i in l1:\n",
    "    if i % 2 == 1:\n",
    "        print(i, end = ' ')"
   ]
  },
  {
   "cell_type": "code",
   "execution_count": 41,
   "id": "c6ac2390",
   "metadata": {},
   "outputs": [
    {
     "data": {
      "text/plain": [
       "[56, 14, 16, 45, 45, 10, 20]"
      ]
     },
     "execution_count": 41,
     "metadata": {},
     "output_type": "execute_result"
    }
   ],
   "source": [
    "l1"
   ]
  },
  {
   "cell_type": "code",
   "execution_count": 39,
   "id": "bf9658ff",
   "metadata": {},
   "outputs": [],
   "source": [
    "# list comprehension\n",
    "\n",
    "new = [n/2 for n in l1]"
   ]
  },
  {
   "cell_type": "code",
   "execution_count": 40,
   "id": "6ae41f77",
   "metadata": {},
   "outputs": [
    {
     "data": {
      "text/plain": [
       "[28.0, 7.0, 8.0, 22.5, 22.5, 5.0, 10.0]"
      ]
     },
     "execution_count": 40,
     "metadata": {},
     "output_type": "execute_result"
    }
   ],
   "source": [
    "new"
   ]
  },
  {
   "cell_type": "code",
   "execution_count": 42,
   "id": "5b39065e",
   "metadata": {},
   "outputs": [
    {
     "data": {
      "text/plain": [
       "[3136, 196, 256, 2025, 2025, 100, 400]"
      ]
     },
     "execution_count": 42,
     "metadata": {},
     "output_type": "execute_result"
    }
   ],
   "source": [
    "[n*n for n in l1]"
   ]
  },
  {
   "cell_type": "code",
   "execution_count": 43,
   "id": "95015279",
   "metadata": {},
   "outputs": [
    {
     "data": {
      "text/plain": [
       "[56, 14, 16, 45, 45, 10, 20]"
      ]
     },
     "execution_count": 43,
     "metadata": {},
     "output_type": "execute_result"
    }
   ],
   "source": [
    "l1"
   ]
  },
  {
   "cell_type": "code",
   "execution_count": 44,
   "id": "57e5d2b0",
   "metadata": {},
   "outputs": [
    {
     "data": {
      "text/plain": [
       "[3136, 196, 256, 100, 400]"
      ]
     },
     "execution_count": 44,
     "metadata": {},
     "output_type": "execute_result"
    }
   ],
   "source": [
    "[n*n for n in l1 if n % 2 == 0]"
   ]
  },
  {
   "cell_type": "code",
   "execution_count": 48,
   "id": "c9c4fc26",
   "metadata": {},
   "outputs": [],
   "source": [
    "# empty list\n",
    "e = []"
   ]
  },
  {
   "cell_type": "code",
   "execution_count": 49,
   "id": "f3011a4b",
   "metadata": {},
   "outputs": [
    {
     "data": {
      "text/plain": [
       "[]"
      ]
     },
     "execution_count": 49,
     "metadata": {},
     "output_type": "execute_result"
    }
   ],
   "source": [
    "e"
   ]
  },
  {
   "cell_type": "code",
   "execution_count": 52,
   "id": "ea56ec46",
   "metadata": {},
   "outputs": [],
   "source": [
    "e = [10]"
   ]
  },
  {
   "cell_type": "code",
   "execution_count": 53,
   "id": "b8b3517a",
   "metadata": {},
   "outputs": [
    {
     "data": {
      "text/plain": [
       "[10]"
      ]
     },
     "execution_count": 53,
     "metadata": {},
     "output_type": "execute_result"
    }
   ],
   "source": [
    "e"
   ]
  },
  {
   "cell_type": "code",
   "execution_count": 54,
   "id": "565d2513",
   "metadata": {},
   "outputs": [],
   "source": [
    "l3 = [23,12,43,[45,32],67]"
   ]
  },
  {
   "cell_type": "code",
   "execution_count": 55,
   "id": "a03599e6",
   "metadata": {},
   "outputs": [
    {
     "data": {
      "text/plain": [
       "[23, 12, 43, [45, 32], 67]"
      ]
     },
     "execution_count": 55,
     "metadata": {},
     "output_type": "execute_result"
    }
   ],
   "source": [
    "l3"
   ]
  },
  {
   "cell_type": "code",
   "execution_count": 58,
   "id": "8ddffff8",
   "metadata": {},
   "outputs": [
    {
     "data": {
      "text/plain": [
       "[45, 32]"
      ]
     },
     "execution_count": 58,
     "metadata": {},
     "output_type": "execute_result"
    }
   ],
   "source": [
    "l3[3]"
   ]
  },
  {
   "cell_type": "code",
   "execution_count": 59,
   "id": "f58a5e9b",
   "metadata": {},
   "outputs": [
    {
     "data": {
      "text/plain": [
       "32"
      ]
     },
     "execution_count": 59,
     "metadata": {},
     "output_type": "execute_result"
    }
   ],
   "source": [
    "l3[3][1]"
   ]
  },
  {
   "cell_type": "code",
   "execution_count": 60,
   "id": "bce6cd5a",
   "metadata": {},
   "outputs": [],
   "source": [
    "l4 = [12,13,14]"
   ]
  },
  {
   "cell_type": "code",
   "execution_count": 61,
   "id": "d5a405ca",
   "metadata": {},
   "outputs": [],
   "source": [
    "x, y, z = l4"
   ]
  },
  {
   "cell_type": "code",
   "execution_count": 62,
   "id": "67278746",
   "metadata": {},
   "outputs": [
    {
     "data": {
      "text/plain": [
       "12"
      ]
     },
     "execution_count": 62,
     "metadata": {},
     "output_type": "execute_result"
    }
   ],
   "source": [
    "x"
   ]
  },
  {
   "cell_type": "code",
   "execution_count": 63,
   "id": "40055fea",
   "metadata": {},
   "outputs": [
    {
     "data": {
      "text/plain": [
       "13"
      ]
     },
     "execution_count": 63,
     "metadata": {},
     "output_type": "execute_result"
    }
   ],
   "source": [
    "y"
   ]
  },
  {
   "cell_type": "code",
   "execution_count": 64,
   "id": "54f7c9aa",
   "metadata": {},
   "outputs": [
    {
     "data": {
      "text/plain": [
       "14"
      ]
     },
     "execution_count": 64,
     "metadata": {},
     "output_type": "execute_result"
    }
   ],
   "source": [
    "z"
   ]
  },
  {
   "cell_type": "code",
   "execution_count": 65,
   "id": "236865af",
   "metadata": {},
   "outputs": [
    {
     "data": {
      "text/plain": [
       "[56, 14, 16, 45, 45, 10, 20]"
      ]
     },
     "execution_count": 65,
     "metadata": {},
     "output_type": "execute_result"
    }
   ],
   "source": [
    "l1"
   ]
  },
  {
   "cell_type": "code",
   "execution_count": 66,
   "id": "d1eca7a5",
   "metadata": {},
   "outputs": [
    {
     "data": {
      "text/plain": [
       "10"
      ]
     },
     "execution_count": 66,
     "metadata": {},
     "output_type": "execute_result"
    }
   ],
   "source": [
    "min(l1)"
   ]
  },
  {
   "cell_type": "code",
   "execution_count": 67,
   "id": "f0ecab8e",
   "metadata": {},
   "outputs": [
    {
     "data": {
      "text/plain": [
       "56"
      ]
     },
     "execution_count": 67,
     "metadata": {},
     "output_type": "execute_result"
    }
   ],
   "source": [
    "max(l1)"
   ]
  },
  {
   "cell_type": "code",
   "execution_count": 68,
   "id": "c131faeb",
   "metadata": {},
   "outputs": [
    {
     "data": {
      "text/plain": [
       "206"
      ]
     },
     "execution_count": 68,
     "metadata": {},
     "output_type": "execute_result"
    }
   ],
   "source": [
    "sum(l1)"
   ]
  },
  {
   "cell_type": "code",
   "execution_count": 70,
   "id": "b6580013",
   "metadata": {},
   "outputs": [
    {
     "data": {
      "text/plain": [
       "[56, 45, 45, 20, 16, 14, 10]"
      ]
     },
     "execution_count": 70,
     "metadata": {},
     "output_type": "execute_result"
    }
   ],
   "source": [
    "sorted(l1, reverse= True)"
   ]
  },
  {
   "cell_type": "code",
   "execution_count": 71,
   "id": "3310dbfb",
   "metadata": {},
   "outputs": [],
   "source": [
    "name = 'Aditya'"
   ]
  },
  {
   "cell_type": "code",
   "execution_count": 72,
   "id": "c1e70eca",
   "metadata": {},
   "outputs": [
    {
     "data": {
      "text/plain": [
       "['A', 'd', 'i', 't', 'y', 'a']"
      ]
     },
     "execution_count": 72,
     "metadata": {},
     "output_type": "execute_result"
    }
   ],
   "source": [
    "list(name)"
   ]
  },
  {
   "cell_type": "code",
   "execution_count": 73,
   "id": "a376d1c6",
   "metadata": {},
   "outputs": [],
   "source": [
    "# Methods on list"
   ]
  },
  {
   "cell_type": "code",
   "execution_count": 75,
   "id": "e2724008",
   "metadata": {},
   "outputs": [
    {
     "data": {
      "text/plain": [
       "[56, 14, 16, 45, 45, 10, 20]"
      ]
     },
     "execution_count": 75,
     "metadata": {},
     "output_type": "execute_result"
    }
   ],
   "source": [
    "l1"
   ]
  },
  {
   "cell_type": "code",
   "execution_count": 76,
   "id": "608831c3",
   "metadata": {},
   "outputs": [],
   "source": [
    "l1.append(100)"
   ]
  },
  {
   "cell_type": "code",
   "execution_count": 77,
   "id": "f48656bc",
   "metadata": {},
   "outputs": [
    {
     "data": {
      "text/plain": [
       "[56, 14, 16, 45, 45, 10, 20, 100]"
      ]
     },
     "execution_count": 77,
     "metadata": {},
     "output_type": "execute_result"
    }
   ],
   "source": [
    "l1"
   ]
  },
  {
   "cell_type": "code",
   "execution_count": 78,
   "id": "3913401e",
   "metadata": {},
   "outputs": [],
   "source": [
    "x = [1,2,3]\n",
    "y = [1,2,3]"
   ]
  },
  {
   "cell_type": "code",
   "execution_count": 79,
   "id": "bd46ec8d",
   "metadata": {},
   "outputs": [],
   "source": [
    "x.append([4,5])\n",
    "y.extend([4,5])"
   ]
  },
  {
   "cell_type": "code",
   "execution_count": 80,
   "id": "0752331a",
   "metadata": {},
   "outputs": [
    {
     "data": {
      "text/plain": [
       "[1, 2, 3, [4, 5]]"
      ]
     },
     "execution_count": 80,
     "metadata": {},
     "output_type": "execute_result"
    }
   ],
   "source": [
    "x"
   ]
  },
  {
   "cell_type": "code",
   "execution_count": 81,
   "id": "99028bdd",
   "metadata": {},
   "outputs": [
    {
     "data": {
      "text/plain": [
       "[1, 2, 3, 4, 5]"
      ]
     },
     "execution_count": 81,
     "metadata": {},
     "output_type": "execute_result"
    }
   ],
   "source": [
    "y"
   ]
  },
  {
   "cell_type": "code",
   "execution_count": 82,
   "id": "d2032b4e",
   "metadata": {},
   "outputs": [
    {
     "data": {
      "text/plain": [
       "[1, 2, 3]"
      ]
     },
     "execution_count": 82,
     "metadata": {},
     "output_type": "execute_result"
    }
   ],
   "source": [
    "x = [1,2,3]\n",
    "x"
   ]
  },
  {
   "cell_type": "code",
   "execution_count": 83,
   "id": "29a7bd3e",
   "metadata": {},
   "outputs": [
    {
     "data": {
      "text/plain": [
       "[1, 2, 3]"
      ]
     },
     "execution_count": 83,
     "metadata": {},
     "output_type": "execute_result"
    }
   ],
   "source": [
    "z = x.copy()\n",
    "z"
   ]
  },
  {
   "cell_type": "code",
   "execution_count": 84,
   "id": "5104903d",
   "metadata": {},
   "outputs": [
    {
     "data": {
      "text/plain": [
       "[1, 100, 3]"
      ]
     },
     "execution_count": 84,
     "metadata": {},
     "output_type": "execute_result"
    }
   ],
   "source": [
    "x[1] = 100\n",
    "x"
   ]
  },
  {
   "cell_type": "code",
   "execution_count": 85,
   "id": "d9e1cb79",
   "metadata": {},
   "outputs": [
    {
     "data": {
      "text/plain": [
       "[1, 2, 3]"
      ]
     },
     "execution_count": 85,
     "metadata": {},
     "output_type": "execute_result"
    }
   ],
   "source": [
    "z"
   ]
  },
  {
   "cell_type": "code",
   "execution_count": 86,
   "id": "90e41ac3",
   "metadata": {},
   "outputs": [],
   "source": [
    "a = [1,2,3]\n",
    "b = a"
   ]
  },
  {
   "cell_type": "code",
   "execution_count": 87,
   "id": "b550d9dd",
   "metadata": {},
   "outputs": [],
   "source": [
    "a[1] = 100"
   ]
  },
  {
   "cell_type": "code",
   "execution_count": 88,
   "id": "babc28cd",
   "metadata": {},
   "outputs": [
    {
     "data": {
      "text/plain": [
       "[1, 100, 3]"
      ]
     },
     "execution_count": 88,
     "metadata": {},
     "output_type": "execute_result"
    }
   ],
   "source": [
    "b"
   ]
  },
  {
   "cell_type": "code",
   "execution_count": 89,
   "id": "98892921",
   "metadata": {},
   "outputs": [
    {
     "data": {
      "text/plain": [
       "[56, 14, 16, 45, 45, 10, 20, 100]"
      ]
     },
     "execution_count": 89,
     "metadata": {},
     "output_type": "execute_result"
    }
   ],
   "source": [
    "l1"
   ]
  },
  {
   "cell_type": "code",
   "execution_count": 90,
   "id": "3e4b2426",
   "metadata": {},
   "outputs": [
    {
     "data": {
      "text/plain": [
       "[56, 14, 45, 45, 10, 20, 100]"
      ]
     },
     "execution_count": 90,
     "metadata": {},
     "output_type": "execute_result"
    }
   ],
   "source": [
    "l1.remove(16)\n",
    "l1"
   ]
  },
  {
   "cell_type": "code",
   "execution_count": 91,
   "id": "4986a66e",
   "metadata": {},
   "outputs": [
    {
     "data": {
      "text/plain": [
       "100"
      ]
     },
     "execution_count": 91,
     "metadata": {},
     "output_type": "execute_result"
    }
   ],
   "source": [
    "l1.pop()"
   ]
  },
  {
   "cell_type": "code",
   "execution_count": 92,
   "id": "0e4df61e",
   "metadata": {
    "scrolled": true
   },
   "outputs": [
    {
     "data": {
      "text/plain": [
       "14"
      ]
     },
     "execution_count": 92,
     "metadata": {},
     "output_type": "execute_result"
    }
   ],
   "source": [
    "l1.pop(1)"
   ]
  },
  {
   "cell_type": "code",
   "execution_count": 94,
   "id": "e6127168",
   "metadata": {},
   "outputs": [
    {
     "data": {
      "text/plain": [
       "[56, 45, 45, 10, 20]"
      ]
     },
     "execution_count": 94,
     "metadata": {},
     "output_type": "execute_result"
    }
   ],
   "source": [
    "l1"
   ]
  },
  {
   "cell_type": "code",
   "execution_count": 93,
   "id": "d2724f14",
   "metadata": {},
   "outputs": [
    {
     "data": {
      "text/plain": [
       "4"
      ]
     },
     "execution_count": 93,
     "metadata": {},
     "output_type": "execute_result"
    }
   ],
   "source": [
    "l1.index(20)"
   ]
  },
  {
   "cell_type": "code",
   "execution_count": 95,
   "id": "2bf31ded",
   "metadata": {},
   "outputs": [
    {
     "data": {
      "text/plain": [
       "2"
      ]
     },
     "execution_count": 95,
     "metadata": {},
     "output_type": "execute_result"
    }
   ],
   "source": [
    "l1.count(45)"
   ]
  },
  {
   "cell_type": "code",
   "execution_count": 98,
   "id": "c163dffd",
   "metadata": {},
   "outputs": [
    {
     "data": {
      "text/plain": [
       "[10, 20, 45, 45, 56]"
      ]
     },
     "execution_count": 98,
     "metadata": {},
     "output_type": "execute_result"
    }
   ],
   "source": [
    "l1.sort()\n",
    "l1"
   ]
  },
  {
   "cell_type": "code",
   "execution_count": 99,
   "id": "1c760114",
   "metadata": {},
   "outputs": [],
   "source": [
    "l1.clear()"
   ]
  },
  {
   "cell_type": "code",
   "execution_count": 100,
   "id": "4b693716",
   "metadata": {},
   "outputs": [
    {
     "data": {
      "text/plain": [
       "[]"
      ]
     },
     "execution_count": 100,
     "metadata": {},
     "output_type": "execute_result"
    }
   ],
   "source": [
    "l1"
   ]
  },
  {
   "cell_type": "code",
   "execution_count": 102,
   "id": "19014e1c",
   "metadata": {},
   "outputs": [
    {
     "name": "stdout",
     "output_type": "stream",
     "text": [
      "Enter the number of elements 3\n",
      "Enter the elements 24\n",
      "Enter the elements 54\n",
      "Enter the elements 21\n",
      "List is: [24, 54, 21]\n"
     ]
    }
   ],
   "source": [
    "# take user input of number of elements \n",
    "# specify the elements and make a list of them\n",
    "\n",
    "l = []\n",
    "count = int(input('Enter the number of elements '))\n",
    "\n",
    "for n in range(count):\n",
    "    x = int(input('Enter the elements '))\n",
    "    l.append(x)\n",
    "    \n",
    "print('List is:', l)"
   ]
  },
  {
   "cell_type": "markdown",
   "id": "867b41c1",
   "metadata": {},
   "source": [
    "# Tuple"
   ]
  },
  {
   "cell_type": "code",
   "execution_count": 8,
   "id": "6e9b16ea",
   "metadata": {},
   "outputs": [],
   "source": [
    "# ordered\n",
    "# hetero\n",
    "# immutable"
   ]
  },
  {
   "cell_type": "code",
   "execution_count": 2,
   "id": "2bddf01f",
   "metadata": {},
   "outputs": [],
   "source": [
    "t1 = (1,2,3)"
   ]
  },
  {
   "cell_type": "code",
   "execution_count": 3,
   "id": "e312c3a4",
   "metadata": {},
   "outputs": [
    {
     "data": {
      "text/plain": [
       "(1, 2, 3)"
      ]
     },
     "execution_count": 3,
     "metadata": {},
     "output_type": "execute_result"
    }
   ],
   "source": [
    "t1"
   ]
  },
  {
   "cell_type": "code",
   "execution_count": 4,
   "id": "ca483feb",
   "metadata": {},
   "outputs": [
    {
     "data": {
      "text/plain": [
       "tuple"
      ]
     },
     "execution_count": 4,
     "metadata": {},
     "output_type": "execute_result"
    }
   ],
   "source": [
    "type(t1)"
   ]
  },
  {
   "cell_type": "code",
   "execution_count": 5,
   "id": "15d7cd0d",
   "metadata": {},
   "outputs": [
    {
     "data": {
      "text/plain": [
       "2"
      ]
     },
     "execution_count": 5,
     "metadata": {},
     "output_type": "execute_result"
    }
   ],
   "source": [
    "t1[1]"
   ]
  },
  {
   "cell_type": "code",
   "execution_count": 6,
   "id": "e92bbec0",
   "metadata": {},
   "outputs": [
    {
     "data": {
      "text/plain": [
       "(1, 2, 3.5, 'Aditya')"
      ]
     },
     "execution_count": 6,
     "metadata": {},
     "output_type": "execute_result"
    }
   ],
   "source": [
    "t2 = (1,2,3.5,'Aditya')\n",
    "t2"
   ]
  },
  {
   "cell_type": "code",
   "execution_count": 7,
   "id": "b6e27456",
   "metadata": {},
   "outputs": [
    {
     "ename": "TypeError",
     "evalue": "'tuple' object does not support item assignment",
     "output_type": "error",
     "traceback": [
      "\u001b[0;31m---------------------------------------------------------------------------\u001b[0m",
      "\u001b[0;31mTypeError\u001b[0m                                 Traceback (most recent call last)",
      "Cell \u001b[0;32mIn[7], line 1\u001b[0m\n\u001b[0;32m----> 1\u001b[0m t1[\u001b[38;5;241m1\u001b[39m] \u001b[38;5;241m=\u001b[39m \u001b[38;5;241m5\u001b[39m\n",
      "\u001b[0;31mTypeError\u001b[0m: 'tuple' object does not support item assignment"
     ]
    }
   ],
   "source": [
    "t1[1] = 5"
   ]
  },
  {
   "cell_type": "code",
   "execution_count": 9,
   "id": "77d314ab",
   "metadata": {},
   "outputs": [],
   "source": [
    "t3 = (1,2,3)\n",
    "t4 = (4,5,6)"
   ]
  },
  {
   "cell_type": "code",
   "execution_count": 10,
   "id": "c2d7d8b6",
   "metadata": {},
   "outputs": [
    {
     "data": {
      "text/plain": [
       "(1, 2, 3, 4, 5, 6)"
      ]
     },
     "execution_count": 10,
     "metadata": {},
     "output_type": "execute_result"
    }
   ],
   "source": [
    "# concate\n",
    "t5 = t3 + t4\n",
    "t5"
   ]
  },
  {
   "cell_type": "code",
   "execution_count": 11,
   "id": "54188c06",
   "metadata": {},
   "outputs": [
    {
     "data": {
      "text/plain": [
       "(1, 2, 3, 1, 2, 3)"
      ]
     },
     "execution_count": 11,
     "metadata": {},
     "output_type": "execute_result"
    }
   ],
   "source": [
    "t3 * 2"
   ]
  },
  {
   "cell_type": "code",
   "execution_count": 12,
   "id": "625047c6",
   "metadata": {},
   "outputs": [
    {
     "data": {
      "text/plain": [
       "6"
      ]
     },
     "execution_count": 12,
     "metadata": {},
     "output_type": "execute_result"
    }
   ],
   "source": [
    "len(t5)"
   ]
  },
  {
   "cell_type": "code",
   "execution_count": 13,
   "id": "42f8643f",
   "metadata": {},
   "outputs": [
    {
     "data": {
      "text/plain": [
       "[6, 5, 4, 3, 2, 1]"
      ]
     },
     "execution_count": 13,
     "metadata": {},
     "output_type": "execute_result"
    }
   ],
   "source": [
    "sorted(t5, reverse= True)"
   ]
  },
  {
   "cell_type": "code",
   "execution_count": 14,
   "id": "c3542123",
   "metadata": {},
   "outputs": [
    {
     "data": {
      "text/plain": [
       "[1, 2, 3, 4, 5, 6]"
      ]
     },
     "execution_count": 14,
     "metadata": {},
     "output_type": "execute_result"
    }
   ],
   "source": [
    "list(t5)"
   ]
  },
  {
   "cell_type": "code",
   "execution_count": 15,
   "id": "ee34c4b3",
   "metadata": {},
   "outputs": [
    {
     "data": {
      "text/plain": [
       "(1, 2, 3, 4, 5, 6, 7, 8)"
      ]
     },
     "execution_count": 15,
     "metadata": {},
     "output_type": "execute_result"
    }
   ],
   "source": [
    "t5 + (7,8)"
   ]
  },
  {
   "cell_type": "code",
   "execution_count": 17,
   "id": "bdf96a35",
   "metadata": {},
   "outputs": [
    {
     "name": "stdout",
     "output_type": "stream",
     "text": [
      "1 2 3 4 5 6 "
     ]
    }
   ],
   "source": [
    "for i in t5:\n",
    "    print(i, end = ' ')"
   ]
  },
  {
   "cell_type": "markdown",
   "id": "40ff855c",
   "metadata": {},
   "source": [
    "# set"
   ]
  },
  {
   "cell_type": "code",
   "execution_count": 28,
   "id": "f54e4f8d",
   "metadata": {},
   "outputs": [],
   "source": [
    "s1 = {1,2,3,4,4,5,4}"
   ]
  },
  {
   "cell_type": "code",
   "execution_count": 29,
   "id": "7237bf4d",
   "metadata": {},
   "outputs": [
    {
     "data": {
      "text/plain": [
       "{1, 2, 3, 4, 5}"
      ]
     },
     "execution_count": 29,
     "metadata": {},
     "output_type": "execute_result"
    }
   ],
   "source": [
    "s1"
   ]
  },
  {
   "cell_type": "code",
   "execution_count": 30,
   "id": "852c6cf4",
   "metadata": {},
   "outputs": [
    {
     "data": {
      "text/plain": [
       "set"
      ]
     },
     "execution_count": 30,
     "metadata": {},
     "output_type": "execute_result"
    }
   ],
   "source": [
    "type(s1)"
   ]
  },
  {
   "cell_type": "code",
   "execution_count": 31,
   "id": "4a69abcc",
   "metadata": {
    "scrolled": true
   },
   "outputs": [
    {
     "ename": "TypeError",
     "evalue": "'set' object is not subscriptable",
     "output_type": "error",
     "traceback": [
      "\u001b[0;31m---------------------------------------------------------------------------\u001b[0m",
      "\u001b[0;31mTypeError\u001b[0m                                 Traceback (most recent call last)",
      "Cell \u001b[0;32mIn[31], line 1\u001b[0m\n\u001b[0;32m----> 1\u001b[0m s1[\u001b[38;5;241m1\u001b[39m]\n",
      "\u001b[0;31mTypeError\u001b[0m: 'set' object is not subscriptable"
     ]
    }
   ],
   "source": [
    "s1[1]"
   ]
  },
  {
   "cell_type": "code",
   "execution_count": 32,
   "id": "b4aa992f",
   "metadata": {},
   "outputs": [
    {
     "data": {
      "text/plain": [
       "{1, 2, 3, 4, 5}"
      ]
     },
     "execution_count": 32,
     "metadata": {},
     "output_type": "execute_result"
    }
   ],
   "source": [
    "s1"
   ]
  },
  {
   "cell_type": "code",
   "execution_count": 33,
   "id": "fb175d6d",
   "metadata": {},
   "outputs": [],
   "source": [
    "s1.add(11)"
   ]
  },
  {
   "cell_type": "code",
   "execution_count": 34,
   "id": "264af3c6",
   "metadata": {},
   "outputs": [
    {
     "data": {
      "text/plain": [
       "{1, 2, 3, 4, 5, 11}"
      ]
     },
     "execution_count": 34,
     "metadata": {},
     "output_type": "execute_result"
    }
   ],
   "source": [
    "s1"
   ]
  },
  {
   "cell_type": "code",
   "execution_count": 35,
   "id": "3d3ff554",
   "metadata": {},
   "outputs": [],
   "source": [
    "s1.add(3)"
   ]
  },
  {
   "cell_type": "code",
   "execution_count": 36,
   "id": "acf434aa",
   "metadata": {},
   "outputs": [
    {
     "data": {
      "text/plain": [
       "{1, 2, 3, 4, 5, 11}"
      ]
     },
     "execution_count": 36,
     "metadata": {},
     "output_type": "execute_result"
    }
   ],
   "source": [
    "s1"
   ]
  },
  {
   "cell_type": "code",
   "execution_count": 37,
   "id": "cf32415c",
   "metadata": {},
   "outputs": [],
   "source": [
    "s1.remove(2)"
   ]
  },
  {
   "cell_type": "code",
   "execution_count": 38,
   "id": "d26bf767",
   "metadata": {},
   "outputs": [
    {
     "data": {
      "text/plain": [
       "{1, 3, 4, 5, 11}"
      ]
     },
     "execution_count": 38,
     "metadata": {},
     "output_type": "execute_result"
    }
   ],
   "source": [
    "s1"
   ]
  },
  {
   "cell_type": "code",
   "execution_count": 39,
   "id": "44c76019",
   "metadata": {},
   "outputs": [
    {
     "ename": "KeyError",
     "evalue": "2",
     "output_type": "error",
     "traceback": [
      "\u001b[0;31m---------------------------------------------------------------------------\u001b[0m",
      "\u001b[0;31mKeyError\u001b[0m                                  Traceback (most recent call last)",
      "Cell \u001b[0;32mIn[39], line 1\u001b[0m\n\u001b[0;32m----> 1\u001b[0m s1\u001b[38;5;241m.\u001b[39mremove(\u001b[38;5;241m2\u001b[39m)\n",
      "\u001b[0;31mKeyError\u001b[0m: 2"
     ]
    }
   ],
   "source": [
    "s1.remove(2)"
   ]
  },
  {
   "cell_type": "code",
   "execution_count": 40,
   "id": "111826c0",
   "metadata": {},
   "outputs": [],
   "source": [
    "s1.discard(3)"
   ]
  },
  {
   "cell_type": "code",
   "execution_count": 41,
   "id": "0cb3a275",
   "metadata": {},
   "outputs": [
    {
     "data": {
      "text/plain": [
       "{1, 4, 5, 11}"
      ]
     },
     "execution_count": 41,
     "metadata": {},
     "output_type": "execute_result"
    }
   ],
   "source": [
    "s1"
   ]
  },
  {
   "cell_type": "code",
   "execution_count": 42,
   "id": "812adf7c",
   "metadata": {},
   "outputs": [],
   "source": [
    "s1.discard(3)"
   ]
  },
  {
   "cell_type": "code",
   "execution_count": 43,
   "id": "e7277bef",
   "metadata": {},
   "outputs": [],
   "source": [
    "s1 = {1,2,3}\n",
    "s2 = {3,4,5}"
   ]
  },
  {
   "cell_type": "code",
   "execution_count": 44,
   "id": "eff90a11",
   "metadata": {},
   "outputs": [
    {
     "data": {
      "text/plain": [
       "{1, 2, 3, 4, 5}"
      ]
     },
     "execution_count": 44,
     "metadata": {},
     "output_type": "execute_result"
    }
   ],
   "source": [
    "s1.union(s2)"
   ]
  },
  {
   "cell_type": "code",
   "execution_count": 45,
   "id": "479cd816",
   "metadata": {},
   "outputs": [
    {
     "data": {
      "text/plain": [
       "{3}"
      ]
     },
     "execution_count": 45,
     "metadata": {},
     "output_type": "execute_result"
    }
   ],
   "source": [
    "s1.intersection(s2)"
   ]
  },
  {
   "cell_type": "code",
   "execution_count": 46,
   "id": "0741afea",
   "metadata": {},
   "outputs": [
    {
     "data": {
      "text/plain": [
       "{1, 2}"
      ]
     },
     "execution_count": 46,
     "metadata": {},
     "output_type": "execute_result"
    }
   ],
   "source": [
    "s1.difference(s2)"
   ]
  },
  {
   "cell_type": "markdown",
   "id": "5f67e87a",
   "metadata": {},
   "source": [
    "# Dictionary"
   ]
  },
  {
   "cell_type": "code",
   "execution_count": 47,
   "id": "39c7026f",
   "metadata": {},
   "outputs": [],
   "source": [
    "d1 = {1: 'channakeshava', 2: 'Aniket', 3:'Shiva'}"
   ]
  },
  {
   "cell_type": "code",
   "execution_count": 48,
   "id": "2c84f765",
   "metadata": {},
   "outputs": [
    {
     "data": {
      "text/plain": [
       "{1: 'channakeshava', 2: 'Aniket', 3: 'Shiva'}"
      ]
     },
     "execution_count": 48,
     "metadata": {},
     "output_type": "execute_result"
    }
   ],
   "source": [
    "d1"
   ]
  },
  {
   "cell_type": "code",
   "execution_count": 49,
   "id": "ff0307c8",
   "metadata": {},
   "outputs": [],
   "source": [
    "d1[4] = 'Aditya'"
   ]
  },
  {
   "cell_type": "code",
   "execution_count": 50,
   "id": "ab91e3c1",
   "metadata": {},
   "outputs": [
    {
     "data": {
      "text/plain": [
       "{1: 'channakeshava', 2: 'Aniket', 3: 'Shiva', 4: 'Aditya'}"
      ]
     },
     "execution_count": 50,
     "metadata": {},
     "output_type": "execute_result"
    }
   ],
   "source": [
    "d1"
   ]
  },
  {
   "cell_type": "code",
   "execution_count": 51,
   "id": "968fadb2",
   "metadata": {},
   "outputs": [
    {
     "data": {
      "text/plain": [
       "'Aniket'"
      ]
     },
     "execution_count": 51,
     "metadata": {},
     "output_type": "execute_result"
    }
   ],
   "source": [
    "d1[2]"
   ]
  },
  {
   "cell_type": "code",
   "execution_count": 52,
   "id": "2a9bdd10",
   "metadata": {},
   "outputs": [],
   "source": [
    "d1['mult'] = 'ajay', 'raj'"
   ]
  },
  {
   "cell_type": "code",
   "execution_count": 53,
   "id": "01effb10",
   "metadata": {},
   "outputs": [
    {
     "data": {
      "text/plain": [
       "{1: 'channakeshava',\n",
       " 2: 'Aniket',\n",
       " 3: 'Shiva',\n",
       " 4: 'Aditya',\n",
       " 'mult': ('ajay', 'raj')}"
      ]
     },
     "execution_count": 53,
     "metadata": {},
     "output_type": "execute_result"
    }
   ],
   "source": [
    "d1"
   ]
  },
  {
   "cell_type": "code",
   "execution_count": 54,
   "id": "4cbf3a6d",
   "metadata": {},
   "outputs": [],
   "source": [
    "d1['mult2'] = ['Riya', 'Natasha']"
   ]
  },
  {
   "cell_type": "code",
   "execution_count": 55,
   "id": "ef919dd2",
   "metadata": {},
   "outputs": [
    {
     "data": {
      "text/plain": [
       "{1: 'channakeshava',\n",
       " 2: 'Aniket',\n",
       " 3: 'Shiva',\n",
       " 4: 'Aditya',\n",
       " 'mult': ('ajay', 'raj'),\n",
       " 'mult2': ['Riya', 'Natasha']}"
      ]
     },
     "execution_count": 55,
     "metadata": {},
     "output_type": "execute_result"
    }
   ],
   "source": [
    "d1"
   ]
  },
  {
   "cell_type": "code",
   "execution_count": 56,
   "id": "91ecf204",
   "metadata": {},
   "outputs": [],
   "source": [
    "del d1['mult2']"
   ]
  },
  {
   "cell_type": "code",
   "execution_count": 57,
   "id": "28935a9a",
   "metadata": {},
   "outputs": [
    {
     "data": {
      "text/plain": [
       "{1: 'channakeshava',\n",
       " 2: 'Aniket',\n",
       " 3: 'Shiva',\n",
       " 4: 'Aditya',\n",
       " 'mult': ('ajay', 'raj')}"
      ]
     },
     "execution_count": 57,
     "metadata": {},
     "output_type": "execute_result"
    }
   ],
   "source": [
    "d1"
   ]
  },
  {
   "cell_type": "code",
   "execution_count": 58,
   "id": "9376d707",
   "metadata": {},
   "outputs": [
    {
     "data": {
      "text/plain": [
       "dict_keys([1, 2, 3, 4, 'mult'])"
      ]
     },
     "execution_count": 58,
     "metadata": {},
     "output_type": "execute_result"
    }
   ],
   "source": [
    "d1.keys()"
   ]
  },
  {
   "cell_type": "code",
   "execution_count": 59,
   "id": "504264c0",
   "metadata": {
    "scrolled": true
   },
   "outputs": [
    {
     "data": {
      "text/plain": [
       "dict_values(['channakeshava', 'Aniket', 'Shiva', 'Aditya', ('ajay', 'raj')])"
      ]
     },
     "execution_count": 59,
     "metadata": {},
     "output_type": "execute_result"
    }
   ],
   "source": [
    "d1.values()"
   ]
  },
  {
   "cell_type": "code",
   "execution_count": 61,
   "id": "ab0cb69e",
   "metadata": {},
   "outputs": [
    {
     "data": {
      "text/plain": [
       "{1: 'channakeshava',\n",
       " 2: 'Aniket',\n",
       " 3: 'Shiva',\n",
       " 4: 'Aditya',\n",
       " 'mult': ('ajay', 'raj')}"
      ]
     },
     "execution_count": 61,
     "metadata": {},
     "output_type": "execute_result"
    }
   ],
   "source": [
    "d1"
   ]
  },
  {
   "cell_type": "code",
   "execution_count": 60,
   "id": "7da45c70",
   "metadata": {},
   "outputs": [],
   "source": [
    "d2 = {10: 65, 12: 51}"
   ]
  },
  {
   "cell_type": "code",
   "execution_count": 62,
   "id": "4881f8e4",
   "metadata": {},
   "outputs": [],
   "source": [
    "d1.update(d2)"
   ]
  },
  {
   "cell_type": "code",
   "execution_count": 63,
   "id": "f37a0757",
   "metadata": {},
   "outputs": [
    {
     "data": {
      "text/plain": [
       "{1: 'channakeshava',\n",
       " 2: 'Aniket',\n",
       " 3: 'Shiva',\n",
       " 4: 'Aditya',\n",
       " 'mult': ('ajay', 'raj'),\n",
       " 10: 65,\n",
       " 12: 51}"
      ]
     },
     "execution_count": 63,
     "metadata": {},
     "output_type": "execute_result"
    }
   ],
   "source": [
    "d1"
   ]
  },
  {
   "cell_type": "code",
   "execution_count": 64,
   "id": "187bda70",
   "metadata": {},
   "outputs": [],
   "source": [
    "d1.clear()"
   ]
  },
  {
   "cell_type": "code",
   "execution_count": 65,
   "id": "6c3f2d59",
   "metadata": {},
   "outputs": [
    {
     "data": {
      "text/plain": [
       "{}"
      ]
     },
     "execution_count": 65,
     "metadata": {},
     "output_type": "execute_result"
    }
   ],
   "source": [
    "d1"
   ]
  },
  {
   "cell_type": "code",
   "execution_count": null,
   "id": "7799753c",
   "metadata": {},
   "outputs": [],
   "source": []
  }
 ],
 "metadata": {
  "kernelspec": {
   "display_name": "Python 3 (ipykernel)",
   "language": "python",
   "name": "python3"
  },
  "language_info": {
   "codemirror_mode": {
    "name": "ipython",
    "version": 3
   },
   "file_extension": ".py",
   "mimetype": "text/x-python",
   "name": "python",
   "nbconvert_exporter": "python",
   "pygments_lexer": "ipython3",
   "version": "3.11.5"
  }
 },
 "nbformat": 4,
 "nbformat_minor": 5
}
