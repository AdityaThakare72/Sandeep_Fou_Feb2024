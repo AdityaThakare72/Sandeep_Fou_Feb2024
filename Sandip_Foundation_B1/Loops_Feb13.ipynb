{
 "cells": [
  {
   "cell_type": "code",
   "execution_count": 1,
   "id": "6bdf6648",
   "metadata": {},
   "outputs": [
    {
     "name": "stdout",
     "output_type": "stream",
     "text": [
      "Aditya\n",
      "Aditya\n",
      "Aditya\n",
      "Aditya\n",
      "Aditya\n"
     ]
    }
   ],
   "source": [
    "num = 1\n",
    "\n",
    "while num <= 5:\n",
    "    print('Aditya')\n",
    "    num += 1   #=> num = num + 1"
   ]
  },
  {
   "cell_type": "code",
   "execution_count": 2,
   "id": "f3dc5390",
   "metadata": {},
   "outputs": [
    {
     "name": "stdout",
     "output_type": "stream",
     "text": [
      "6\n"
     ]
    }
   ],
   "source": [
    "print(num)"
   ]
  },
  {
   "cell_type": "code",
   "execution_count": 3,
   "id": "55d18592",
   "metadata": {},
   "outputs": [
    {
     "name": "stdout",
     "output_type": "stream",
     "text": [
      "25\n",
      "26\n",
      "27\n",
      "28\n",
      "29\n",
      "30\n",
      "31\n",
      "32\n",
      "33\n",
      "34\n",
      "35\n",
      "36\n",
      "37\n",
      "38\n",
      "39\n",
      "40\n",
      "41\n",
      "42\n",
      "43\n",
      "44\n",
      "45\n",
      "46\n",
      "47\n",
      "48\n",
      "49\n",
      "50\n"
     ]
    }
   ],
   "source": [
    "# print numbers from 25 to 50 using while loop\n",
    "\n",
    "num = 25\n",
    "\n",
    "while num <= 50:\n",
    "    print(num)\n",
    "    num += 1"
   ]
  },
  {
   "cell_type": "code",
   "execution_count": 4,
   "id": "fdfafd23",
   "metadata": {},
   "outputs": [
    {
     "name": "stdout",
     "output_type": "stream",
     "text": [
      "Addition: 55\n"
     ]
    }
   ],
   "source": [
    "# find the addition of numbers from 1 to 10\n",
    "\n",
    "num = 1\n",
    "add = 0\n",
    "\n",
    "while num <= 10:\n",
    "    add = add + num\n",
    "    num += 1\n",
    "\n",
    "print('Addition:', add)"
   ]
  },
  {
   "cell_type": "code",
   "execution_count": 5,
   "id": "db3d2222",
   "metadata": {},
   "outputs": [
    {
     "name": "stdout",
     "output_type": "stream",
     "text": [
      "Addition: 100\n"
     ]
    }
   ],
   "source": [
    "# find the addition of odd number from 1 to 20\n",
    "\n",
    "num = 1\n",
    "add = 0\n",
    "\n",
    "while num <= 20:\n",
    "    add = add + num\n",
    "    num += 2\n",
    "\n",
    "print('Addition:', add)"
   ]
  },
  {
   "cell_type": "code",
   "execution_count": 8,
   "id": "056a9af4",
   "metadata": {},
   "outputs": [
    {
     "name": "stdout",
     "output_type": "stream",
     "text": [
      "Enter the number 10\n",
      "Factorial is: 3628800\n"
     ]
    }
   ],
   "source": [
    "# find the factorial\n",
    "# 5! = 5 x 4 x 3 x2 x1 =120\n",
    "\n",
    "fact = 1\n",
    "num = int(input('Enter the number '))\n",
    "\n",
    "while num > 1:\n",
    "    fact = fact * num\n",
    "    num -= 1\n",
    "\n",
    "print(\"Factorial is:\", fact)"
   ]
  },
  {
   "cell_type": "code",
   "execution_count": 12,
   "id": "a3c51645",
   "metadata": {},
   "outputs": [
    {
     "name": "stdout",
     "output_type": "stream",
     "text": [
      "Enter the number 12345\n",
      "Addition of digits: 15\n"
     ]
    }
   ],
   "source": [
    "# find the addition of digits\n",
    "# ex: 12345 = 1 + 2 + 3 + 4 + 5 = 15\n",
    "\n",
    "num = int(input('Enter the number '))\n",
    "add = 0\n",
    "\n",
    "while num > 0:\n",
    "    rem = num % 10\n",
    "    add = add + rem\n",
    "    num = num // 10\n",
    "    \n",
    "print('Addition of digits:', add)"
   ]
  },
  {
   "cell_type": "code",
   "execution_count": 9,
   "id": "e3eb486a",
   "metadata": {},
   "outputs": [
    {
     "data": {
      "text/plain": [
       "5"
      ]
     },
     "execution_count": 9,
     "metadata": {},
     "output_type": "execute_result"
    }
   ],
   "source": [
    "12345 % 10"
   ]
  },
  {
   "cell_type": "code",
   "execution_count": 10,
   "id": "d8ec2ea8",
   "metadata": {},
   "outputs": [
    {
     "data": {
      "text/plain": [
       "1234"
      ]
     },
     "execution_count": 10,
     "metadata": {},
     "output_type": "execute_result"
    }
   ],
   "source": [
    "12345 // 10"
   ]
  },
  {
   "cell_type": "code",
   "execution_count": 11,
   "id": "258f26d8",
   "metadata": {
    "scrolled": true
   },
   "outputs": [
    {
     "data": {
      "text/plain": [
       "4"
      ]
     },
     "execution_count": 11,
     "metadata": {},
     "output_type": "execute_result"
    }
   ],
   "source": [
    "1234 % 10"
   ]
  },
  {
   "cell_type": "code",
   "execution_count": null,
   "id": "0b3b6000",
   "metadata": {},
   "outputs": [],
   "source": [
    "# infinite loop\n",
    "num = 1\n",
    "\n",
    "while num <= 5:\n",
    "    print('Aditya')\n",
    "    "
   ]
  },
  {
   "cell_type": "markdown",
   "id": "0092c81e",
   "metadata": {},
   "source": [
    "#### For Loop"
   ]
  },
  {
   "cell_type": "code",
   "execution_count": 13,
   "id": "0cdb6f89",
   "metadata": {},
   "outputs": [
    {
     "name": "stdout",
     "output_type": "stream",
     "text": [
      "45\n",
      "34\n",
      "21\n",
      "55\n",
      "7\n"
     ]
    }
   ],
   "source": [
    "for n in 45,34,21,55,7:\n",
    "    print(n)"
   ]
  },
  {
   "cell_type": "code",
   "execution_count": 14,
   "id": "f2616cee",
   "metadata": {},
   "outputs": [
    {
     "name": "stdout",
     "output_type": "stream",
     "text": [
      "2025\n",
      "1156\n",
      "441\n",
      "3025\n",
      "49\n"
     ]
    }
   ],
   "source": [
    "for n in 45,34,21,55,7:\n",
    "    print(n*n)"
   ]
  },
  {
   "cell_type": "code",
   "execution_count": 19,
   "id": "2107c439",
   "metadata": {},
   "outputs": [
    {
     "name": "stdout",
     "output_type": "stream",
     "text": [
      "45 34 21 Aditya True 55 7 "
     ]
    }
   ],
   "source": [
    "for n in 45,34,21,'Aditya',True,55,7:\n",
    "    print(n, end = ' ')"
   ]
  },
  {
   "cell_type": "code",
   "execution_count": 20,
   "id": "349b6bbb",
   "metadata": {},
   "outputs": [],
   "source": [
    "# Range function"
   ]
  },
  {
   "cell_type": "code",
   "execution_count": 22,
   "id": "da210102",
   "metadata": {},
   "outputs": [
    {
     "data": {
      "text/plain": [
       "[0, 1, 2, 3, 4, 5, 6, 7, 8, 9]"
      ]
     },
     "execution_count": 22,
     "metadata": {},
     "output_type": "execute_result"
    }
   ],
   "source": [
    "list(range(10))   # range(n) => 0, n - 1"
   ]
  },
  {
   "cell_type": "code",
   "execution_count": 23,
   "id": "0abe792a",
   "metadata": {},
   "outputs": [
    {
     "data": {
      "text/plain": [
       "[1, 2, 3, 4, 5, 6, 7, 8, 9]"
      ]
     },
     "execution_count": 23,
     "metadata": {},
     "output_type": "execute_result"
    }
   ],
   "source": [
    "list(range(1,10))"
   ]
  },
  {
   "cell_type": "code",
   "execution_count": 24,
   "id": "156d26ec",
   "metadata": {},
   "outputs": [
    {
     "data": {
      "text/plain": [
       "[1, 3, 5, 7, 9]"
      ]
     },
     "execution_count": 24,
     "metadata": {},
     "output_type": "execute_result"
    }
   ],
   "source": [
    "list(range(1,10,2))  # start, end, step"
   ]
  },
  {
   "cell_type": "code",
   "execution_count": 25,
   "id": "fc82b1e9",
   "metadata": {},
   "outputs": [
    {
     "name": "stdout",
     "output_type": "stream",
     "text": [
      "0\n",
      "1\n",
      "2\n",
      "3\n",
      "4\n"
     ]
    }
   ],
   "source": [
    "for n in range(5):\n",
    "    print(n)"
   ]
  },
  {
   "cell_type": "code",
   "execution_count": 27,
   "id": "3eba1855",
   "metadata": {},
   "outputs": [
    {
     "name": "stdout",
     "output_type": "stream",
     "text": [
      "Aditya\n",
      "Aditya\n",
      "Aditya\n",
      "Aditya\n",
      "Aditya\n"
     ]
    }
   ],
   "source": [
    "for n in range(5):\n",
    "    print(\"Aditya\")"
   ]
  },
  {
   "cell_type": "code",
   "execution_count": 28,
   "id": "154754d6",
   "metadata": {},
   "outputs": [
    {
     "name": "stdout",
     "output_type": "stream",
     "text": [
      "Addition: 55\n"
     ]
    }
   ],
   "source": [
    "# addition of first 10 natural numbers\n",
    "\n",
    "add = 0\n",
    "for num in range(1,11):\n",
    "    add = add + num\n",
    "print('Addition:', add)"
   ]
  },
  {
   "cell_type": "code",
   "execution_count": 29,
   "id": "b0946e73",
   "metadata": {},
   "outputs": [],
   "source": [
    "# Loop control statements"
   ]
  },
  {
   "cell_type": "code",
   "execution_count": 31,
   "id": "2ef694e6",
   "metadata": {},
   "outputs": [
    {
     "name": "stdout",
     "output_type": "stream",
     "text": [
      "0\n",
      "1\n",
      "2\n",
      "3\n",
      "4\n"
     ]
    }
   ],
   "source": [
    "for i in range(10):\n",
    "    if i == 5:\n",
    "        break\n",
    "    print(i)"
   ]
  },
  {
   "cell_type": "code",
   "execution_count": 33,
   "id": "b98bdd49",
   "metadata": {},
   "outputs": [
    {
     "name": "stdout",
     "output_type": "stream",
     "text": [
      "0\n",
      "1\n",
      "2\n",
      "3\n",
      "4\n",
      "6\n",
      "7\n",
      "8\n",
      "9\n"
     ]
    }
   ],
   "source": [
    "for i in range(10):\n",
    "    if i == 5:\n",
    "        continue\n",
    "    print(i)"
   ]
  },
  {
   "cell_type": "code",
   "execution_count": 34,
   "id": "5946c10c",
   "metadata": {},
   "outputs": [
    {
     "name": "stdout",
     "output_type": "stream",
     "text": [
      "0\n",
      "1\n",
      "2\n",
      "3\n",
      "4\n",
      "OK\n",
      "5\n",
      "6\n",
      "7\n",
      "8\n",
      "9\n"
     ]
    }
   ],
   "source": [
    "for i in range(10):\n",
    "    if i == 5:\n",
    "        print('OK')\n",
    "    print(i)"
   ]
  },
  {
   "cell_type": "code",
   "execution_count": 36,
   "id": "1baa77b0",
   "metadata": {},
   "outputs": [],
   "source": [
    "num = 50\n",
    "\n",
    "if num < 100:\n",
    "    pass"
   ]
  },
  {
   "cell_type": "code",
   "execution_count": null,
   "id": "3b4708cb",
   "metadata": {},
   "outputs": [],
   "source": []
  }
 ],
 "metadata": {
  "kernelspec": {
   "display_name": "Python 3 (ipykernel)",
   "language": "python",
   "name": "python3"
  },
  "language_info": {
   "codemirror_mode": {
    "name": "ipython",
    "version": 3
   },
   "file_extension": ".py",
   "mimetype": "text/x-python",
   "name": "python",
   "nbconvert_exporter": "python",
   "pygments_lexer": "ipython3",
   "version": "3.11.5"
  }
 },
 "nbformat": 4,
 "nbformat_minor": 5
}
