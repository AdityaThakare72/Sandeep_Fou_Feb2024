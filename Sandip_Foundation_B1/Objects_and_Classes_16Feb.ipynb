{
 "cells": [
  {
   "cell_type": "code",
   "execution_count": 1,
   "id": "97ea3a54",
   "metadata": {},
   "outputs": [],
   "source": [
    "class Employee():\n",
    "    pass"
   ]
  },
  {
   "cell_type": "code",
   "execution_count": 2,
   "id": "c46530bf",
   "metadata": {},
   "outputs": [],
   "source": [
    "emp1 = Employee()\n",
    "emp2 = Employee()"
   ]
  },
  {
   "cell_type": "code",
   "execution_count": 3,
   "id": "8db84c7c",
   "metadata": {},
   "outputs": [
    {
     "name": "stdout",
     "output_type": "stream",
     "text": [
      "<__main__.Employee object at 0x7f4712945b10>\n",
      "<__main__.Employee object at 0x7f4700dac050>\n"
     ]
    }
   ],
   "source": [
    "print(emp1)\n",
    "print(emp2)"
   ]
  },
  {
   "cell_type": "code",
   "execution_count": 4,
   "id": "767ab190",
   "metadata": {},
   "outputs": [],
   "source": [
    "emp1.first = 'Aditya'\n",
    "emp1.last = 'Thakare'\n",
    "emp1.salary = 51000\n",
    "\n",
    "emp2.first = 'Parag'\n",
    "emp2.last = 'Patel'\n",
    "emp2.salary =49000"
   ]
  },
  {
   "cell_type": "code",
   "execution_count": 5,
   "id": "a1236d50",
   "metadata": {},
   "outputs": [
    {
     "name": "stdout",
     "output_type": "stream",
     "text": [
      "Aditya\n"
     ]
    }
   ],
   "source": [
    "print(emp1.first)"
   ]
  },
  {
   "cell_type": "code",
   "execution_count": 6,
   "id": "bbfd6360",
   "metadata": {},
   "outputs": [
    {
     "name": "stdout",
     "output_type": "stream",
     "text": [
      "Patel\n"
     ]
    }
   ],
   "source": [
    "print(emp2.last)"
   ]
  },
  {
   "cell_type": "code",
   "execution_count": 12,
   "id": "93aa10f6",
   "metadata": {},
   "outputs": [],
   "source": [
    "class Employee():\n",
    "    def __init__ (self, first, last, salary):\n",
    "        self.first = first\n",
    "        self.last = last\n",
    "        self.salary = salary\n",
    "        \n",
    "    def show(self):\n",
    "        print(self.first + ' ' + 'OK')"
   ]
  },
  {
   "cell_type": "code",
   "execution_count": 13,
   "id": "08bcfd11",
   "metadata": {},
   "outputs": [],
   "source": [
    "emp1 = Employee('Aditya','Thakare',51000)"
   ]
  },
  {
   "cell_type": "code",
   "execution_count": 14,
   "id": "d0dbcbe2",
   "metadata": {},
   "outputs": [
    {
     "data": {
      "text/plain": [
       "'Aditya'"
      ]
     },
     "execution_count": 14,
     "metadata": {},
     "output_type": "execute_result"
    }
   ],
   "source": [
    "emp1.first"
   ]
  },
  {
   "cell_type": "code",
   "execution_count": 15,
   "id": "1b4a95c6",
   "metadata": {},
   "outputs": [],
   "source": [
    "emp2 = Employee('Parag', 'Patel', 49000)"
   ]
  },
  {
   "cell_type": "code",
   "execution_count": 16,
   "id": "f076f1f2",
   "metadata": {},
   "outputs": [
    {
     "data": {
      "text/plain": [
       "49000"
      ]
     },
     "execution_count": 16,
     "metadata": {},
     "output_type": "execute_result"
    }
   ],
   "source": [
    "emp2.salary"
   ]
  },
  {
   "cell_type": "code",
   "execution_count": 17,
   "id": "690f7ab2",
   "metadata": {},
   "outputs": [
    {
     "name": "stdout",
     "output_type": "stream",
     "text": [
      "Aditya OK\n"
     ]
    }
   ],
   "source": [
    "emp1.show()"
   ]
  },
  {
   "cell_type": "code",
   "execution_count": 18,
   "id": "ed2d5e4a",
   "metadata": {},
   "outputs": [
    {
     "name": "stdout",
     "output_type": "stream",
     "text": [
      "Parag OK\n"
     ]
    }
   ],
   "source": [
    "emp2.show()"
   ]
  },
  {
   "cell_type": "code",
   "execution_count": null,
   "id": "4b4c1d78",
   "metadata": {},
   "outputs": [],
   "source": [
    "# create a 'Car' class\n",
    "# attribute => car brand name, distance travelled, time taken\n",
    "# distance is in m, time is in minutes\n",
    "# create a method to calculate speed of the car"
   ]
  },
  {
   "cell_type": "code",
   "execution_count": 19,
   "id": "a48901c7",
   "metadata": {},
   "outputs": [],
   "source": [
    "class Car():\n",
    "    def __init__ (self, brand, distance, time):\n",
    "        self.brand = brand\n",
    "        self.distance = distance\n",
    "        self.time = time\n",
    "        \n",
    "    def get_speed(self):\n",
    "        print(self.distance / (self.time*60),'m/s')"
   ]
  },
  {
   "cell_type": "code",
   "execution_count": 20,
   "id": "84870219",
   "metadata": {},
   "outputs": [],
   "source": [
    "car1 = Car('tata', 5000, 10)"
   ]
  },
  {
   "cell_type": "code",
   "execution_count": 21,
   "id": "ad32c8cb",
   "metadata": {},
   "outputs": [
    {
     "name": "stdout",
     "output_type": "stream",
     "text": [
      "8.333333333333334 m/s\n"
     ]
    }
   ],
   "source": [
    "car1.get_speed()"
   ]
  },
  {
   "cell_type": "code",
   "execution_count": 92,
   "id": "1081e395",
   "metadata": {},
   "outputs": [],
   "source": [
    "class Employee1():\n",
    "    def __init__ (self, first, last, salary):\n",
    "        self.first = first\n",
    "        self.last = last\n",
    "        self.__salary = salary\n",
    "        \n",
    "    def show1(self):\n",
    "        print('Salary:', self.__salary)"
   ]
  },
  {
   "cell_type": "code",
   "execution_count": 93,
   "id": "5bdf8908",
   "metadata": {},
   "outputs": [],
   "source": [
    "emp1 = Employee1('Aditya','Thakare',51000)"
   ]
  },
  {
   "cell_type": "code",
   "execution_count": 94,
   "id": "0db552c6",
   "metadata": {},
   "outputs": [],
   "source": [
    "emp2 = Employee1('Parag', 'Patel', 49000)"
   ]
  },
  {
   "cell_type": "code",
   "execution_count": 95,
   "id": "467e0132",
   "metadata": {},
   "outputs": [
    {
     "data": {
      "text/plain": [
       "'Aditya'"
      ]
     },
     "execution_count": 95,
     "metadata": {},
     "output_type": "execute_result"
    }
   ],
   "source": [
    "emp1.first"
   ]
  },
  {
   "cell_type": "code",
   "execution_count": 96,
   "id": "3d9e659c",
   "metadata": {},
   "outputs": [
    {
     "ename": "AttributeError",
     "evalue": "'Employee1' object has no attribute 'salary'",
     "output_type": "error",
     "traceback": [
      "\u001b[0;31m---------------------------------------------------------------------------\u001b[0m",
      "\u001b[0;31mAttributeError\u001b[0m                            Traceback (most recent call last)",
      "Cell \u001b[0;32mIn[96], line 1\u001b[0m\n\u001b[0;32m----> 1\u001b[0m emp1\u001b[38;5;241m.\u001b[39msalary\n",
      "\u001b[0;31mAttributeError\u001b[0m: 'Employee1' object has no attribute 'salary'"
     ]
    }
   ],
   "source": [
    "emp1.salary"
   ]
  },
  {
   "cell_type": "code",
   "execution_count": 97,
   "id": "cdb16555",
   "metadata": {},
   "outputs": [
    {
     "name": "stdout",
     "output_type": "stream",
     "text": [
      "Salary: 51000\n"
     ]
    }
   ],
   "source": [
    "emp1.show1()"
   ]
  },
  {
   "cell_type": "code",
   "execution_count": 102,
   "id": "5d8adf46",
   "metadata": {},
   "outputs": [],
   "source": [
    "class Empl(Employee1):\n",
    "    pass"
   ]
  },
  {
   "cell_type": "code",
   "execution_count": 103,
   "id": "1a74e685",
   "metadata": {},
   "outputs": [],
   "source": [
    "emp3 = Empl('John', 'Wick', 10000000)"
   ]
  },
  {
   "cell_type": "code",
   "execution_count": 104,
   "id": "86f84f72",
   "metadata": {},
   "outputs": [
    {
     "name": "stdout",
     "output_type": "stream",
     "text": [
      "Salary: 10000000\n"
     ]
    }
   ],
   "source": [
    "emp3.show1()"
   ]
  },
  {
   "cell_type": "code",
   "execution_count": null,
   "id": "4f9d7107",
   "metadata": {},
   "outputs": [],
   "source": []
  }
 ],
 "metadata": {
  "kernelspec": {
   "display_name": "Python 3 (ipykernel)",
   "language": "python",
   "name": "python3"
  },
  "language_info": {
   "codemirror_mode": {
    "name": "ipython",
    "version": 3
   },
   "file_extension": ".py",
   "mimetype": "text/x-python",
   "name": "python",
   "nbconvert_exporter": "python",
   "pygments_lexer": "ipython3",
   "version": "3.11.5"
  }
 },
 "nbformat": 4,
 "nbformat_minor": 5
}
