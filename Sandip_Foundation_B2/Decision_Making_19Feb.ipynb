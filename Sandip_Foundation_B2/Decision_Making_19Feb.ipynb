{
 "cells": [
  {
   "cell_type": "code",
   "execution_count": 1,
   "id": "d58450a1",
   "metadata": {},
   "outputs": [],
   "source": [
    "num = 55"
   ]
  },
  {
   "cell_type": "code",
   "execution_count": 2,
   "id": "e07bf441",
   "metadata": {},
   "outputs": [
    {
     "name": "stdout",
     "output_type": "stream",
     "text": [
      "ok\n"
     ]
    }
   ],
   "source": [
    "if num > 50:\n",
    "    print(\"ok\")"
   ]
  },
  {
   "cell_type": "code",
   "execution_count": 4,
   "id": "2ab3eafd",
   "metadata": {},
   "outputs": [
    {
     "name": "stdout",
     "output_type": "stream",
     "text": [
      "Not ok\n"
     ]
    }
   ],
   "source": [
    "if num < 50:\n",
    "    print(\"ok\")\n",
    "else:\n",
    "    print('Not ok')"
   ]
  },
  {
   "cell_type": "code",
   "execution_count": 9,
   "id": "388dc86e",
   "metadata": {},
   "outputs": [
    {
     "name": "stdout",
     "output_type": "stream",
     "text": [
      "Enter the number 0\n",
      "ZERO\n"
     ]
    }
   ],
   "source": [
    "# take user input and check if the number is positive or -ve\n",
    "\n",
    "num = int(input('Enter the number '))\n",
    "\n",
    "if num > 0:\n",
    "    print('Positive')\n",
    "elif num == 0:\n",
    "    print('ZERO')\n",
    "else:\n",
    "    print('Negative')"
   ]
  },
  {
   "cell_type": "code",
   "execution_count": 11,
   "id": "a70cd949",
   "metadata": {},
   "outputs": [
    {
     "name": "stdout",
     "output_type": "stream",
     "text": [
      "Enter the number 13\n",
      "odd\n"
     ]
    }
   ],
   "source": [
    "# check number odd or even\n",
    "\n",
    "num = int(input('Enter the number '))\n",
    "\n",
    "if num % 2 == 0:\n",
    "    print('Even')\n",
    "else:\n",
    "    print(\"odd\")"
   ]
  },
  {
   "cell_type": "code",
   "execution_count": 14,
   "id": "eed45d59",
   "metadata": {},
   "outputs": [
    {
     "name": "stdout",
     "output_type": "stream",
     "text": [
      "Enter the number 106\n",
      "Not Correct\n"
     ]
    }
   ],
   "source": [
    "# check if the number is in between 50 and 100\n",
    "\n",
    "num = int(input('Enter the number '))\n",
    "\n",
    "if num > 50 and num < 100:\n",
    "    print('Correct')\n",
    "else:\n",
    "    print('Not Correct')"
   ]
  },
  {
   "cell_type": "code",
   "execution_count": 17,
   "id": "93050000",
   "metadata": {},
   "outputs": [
    {
     "name": "stdout",
     "output_type": "stream",
     "text": [
      "Enter the number 21\n",
      "Not correct\n"
     ]
    }
   ],
   "source": [
    "# nested if\n",
    "\n",
    "num = int(input('Enter the number '))\n",
    "\n",
    "if num > 50:\n",
    "    if num < 100:\n",
    "        print('Correct')\n",
    "    else:\n",
    "        print('greater than 100')\n",
    "else:\n",
    "    print('Not correct')"
   ]
  },
  {
   "cell_type": "code",
   "execution_count": 21,
   "id": "6d27cea1",
   "metadata": {},
   "outputs": [
    {
     "name": "stdout",
     "output_type": "stream",
     "text": [
      "Enter purchase cost 97\n",
      "Enter selling cost 80\n",
      "Loss 17\n"
     ]
    }
   ],
   "source": [
    "# read purchase cost and selling cost of a product\n",
    "# determine profit or loss and how much\n",
    "\n",
    "purchase_cost = int(input('Enter purchase cost '))\n",
    "selling_cost = int(input('Enter selling cost '))\n",
    "\n",
    "if selling_cost > purchase_cost:\n",
    "    print('Profit:', selling_cost - purchase_cost)\n",
    "else:\n",
    "    print('Loss', purchase_cost - selling_cost)"
   ]
  },
  {
   "cell_type": "code",
   "execution_count": null,
   "id": "1463c757",
   "metadata": {},
   "outputs": [],
   "source": [
    "# read 3 numbers and find largest \n",
    "# not allowed to use logical operator\n",
    "# use nested if only"
   ]
  },
  {
   "cell_type": "code",
   "execution_count": 25,
   "id": "c746a4d9",
   "metadata": {},
   "outputs": [
    {
     "name": "stdout",
     "output_type": "stream",
     "text": [
      "Enter the number 3\n",
      "Enter the number 2\n",
      "Enter the number 1\n",
      "Largest 3\n"
     ]
    }
   ],
   "source": [
    "num1 = int(input('Enter the number '))\n",
    "num2 = int(input('Enter the number '))\n",
    "num3 = int(input('Enter the number '))\n",
    "\n",
    "if num1 > num2:\n",
    "    if num1 > num3:\n",
    "        print('Largest', num1)\n",
    "    else:\n",
    "        print('Larger', num3)\n",
    "else:\n",
    "    if num2 > num3:\n",
    "        print('Largest', num2)\n",
    "    else:\n",
    "        print('Largest',num3)"
   ]
  },
  {
   "cell_type": "code",
   "execution_count": 32,
   "id": "513f77c8",
   "metadata": {},
   "outputs": [
    {
     "name": "stdout",
     "output_type": "stream",
     "text": [
      "Enter the number325\n",
      "MENU\n",
      "1.Square\n",
      "2.Cube\n",
      "3.positive or negative\n",
      "Enter Your Choice3\n",
      "Positive\n"
     ]
    }
   ],
   "source": [
    "'''\n",
    "read choices:\n",
    "1. square\n",
    "2. cube\n",
    "3. positive or negative\n",
    "'''\n",
    "\n",
    "num = int(input('Enter the number'))\n",
    "\n",
    "print('MENU\\n1.Square\\n2.Cube\\n3.positive or negative')\n",
    "\n",
    "ch = int(input('Enter Your Choice'))\n",
    "\n",
    "if ch == 1:\n",
    "    print('Square:', num * num)\n",
    "elif ch == 2:\n",
    "    print('Cube:', num ** 3)\n",
    "elif ch == 3:\n",
    "    if num > 0:\n",
    "        print('Positive')\n",
    "    else:\n",
    "        print('Negative')\n",
    "else:\n",
    "    print('INVALID CHOICE')"
   ]
  },
  {
   "cell_type": "code",
   "execution_count": null,
   "id": "354f5f14",
   "metadata": {},
   "outputs": [],
   "source": []
  },
  {
   "cell_type": "code",
   "execution_count": null,
   "id": "7b3966e7",
   "metadata": {},
   "outputs": [],
   "source": []
  }
 ],
 "metadata": {
  "kernelspec": {
   "display_name": "Python 3 (ipykernel)",
   "language": "python",
   "name": "python3"
  },
  "language_info": {
   "codemirror_mode": {
    "name": "ipython",
    "version": 3
   },
   "file_extension": ".py",
   "mimetype": "text/x-python",
   "name": "python",
   "nbconvert_exporter": "python",
   "pygments_lexer": "ipython3",
   "version": "3.11.5"
  }
 },
 "nbformat": 4,
 "nbformat_minor": 5
}
