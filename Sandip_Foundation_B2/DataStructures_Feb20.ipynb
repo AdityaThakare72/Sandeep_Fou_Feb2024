{
 "cells": [
  {
   "cell_type": "markdown",
   "id": "90ddc669",
   "metadata": {},
   "source": [
    "### List"
   ]
  },
  {
   "cell_type": "code",
   "execution_count": 1,
   "id": "3ae0ce3a",
   "metadata": {},
   "outputs": [],
   "source": [
    "'''\n",
    "list of some elements\n",
    "metals = ['silver','gold','copper','silver']\n",
    "make a new list that is almost identical to the metal list:\n",
    "the new list contains the same items, in same order, except that\n",
    "it does NOT contain the item copper\n",
    "''';\n",
    "'''\n",
    "arr = []\n",
    "count = int(input('How many elements? '))\n",
    "for i in range(count):\n",
    "    num = int(input('Enter the element: '))\n",
    "    arr.append(num)\n",
    "    \n",
    "print('Your list :-> ', arr)\n",
    "''';"
   ]
  },
  {
   "cell_type": "code",
   "execution_count": 2,
   "id": "7981a429",
   "metadata": {},
   "outputs": [],
   "source": [
    "# duplicate values are allowed\n",
    "# Heterogeneous\n",
    "# ordered \n",
    "# mutable"
   ]
  },
  {
   "cell_type": "code",
   "execution_count": 3,
   "id": "e68e55a7",
   "metadata": {},
   "outputs": [],
   "source": [
    "l1 = [43,56,56,7,56,78,54]"
   ]
  },
  {
   "cell_type": "code",
   "execution_count": 4,
   "id": "50275cc2",
   "metadata": {},
   "outputs": [
    {
     "name": "stdout",
     "output_type": "stream",
     "text": [
      "[43, 56, 56, 7, 56, 78, 54]\n"
     ]
    }
   ],
   "source": [
    "print(l1)"
   ]
  },
  {
   "cell_type": "code",
   "execution_count": 5,
   "id": "f81a152c",
   "metadata": {},
   "outputs": [
    {
     "data": {
      "text/plain": [
       "list"
      ]
     },
     "execution_count": 5,
     "metadata": {},
     "output_type": "execute_result"
    }
   ],
   "source": [
    "type(l1)"
   ]
  },
  {
   "cell_type": "code",
   "execution_count": 6,
   "id": "b4887aae",
   "metadata": {},
   "outputs": [],
   "source": [
    "l2 = [43,56,56,7,56,78,54,'Aditya',65.67,True]"
   ]
  },
  {
   "cell_type": "code",
   "execution_count": 7,
   "id": "cadaf249",
   "metadata": {},
   "outputs": [
    {
     "data": {
      "text/plain": [
       "[43, 56, 56, 7, 56, 78, 54, 'Aditya', 65.67, True]"
      ]
     },
     "execution_count": 7,
     "metadata": {},
     "output_type": "execute_result"
    }
   ],
   "source": [
    "l2"
   ]
  },
  {
   "cell_type": "code",
   "execution_count": 8,
   "id": "003c9e0c",
   "metadata": {},
   "outputs": [
    {
     "data": {
      "text/plain": [
       "43"
      ]
     },
     "execution_count": 8,
     "metadata": {},
     "output_type": "execute_result"
    }
   ],
   "source": [
    "l2[0]"
   ]
  },
  {
   "cell_type": "code",
   "execution_count": 9,
   "id": "c02654e7",
   "metadata": {},
   "outputs": [],
   "source": [
    "l2[2] = 10"
   ]
  },
  {
   "cell_type": "code",
   "execution_count": 10,
   "id": "a18f31e5",
   "metadata": {},
   "outputs": [
    {
     "data": {
      "text/plain": [
       "[43, 56, 10, 7, 56, 78, 54, 'Aditya', 65.67, True]"
      ]
     },
     "execution_count": 10,
     "metadata": {},
     "output_type": "execute_result"
    }
   ],
   "source": [
    "l2"
   ]
  },
  {
   "cell_type": "code",
   "execution_count": 11,
   "id": "0c44b6fb",
   "metadata": {},
   "outputs": [
    {
     "data": {
      "text/plain": [
       "[43, 56, 56, 7, 56, 78, 54]"
      ]
     },
     "execution_count": 11,
     "metadata": {},
     "output_type": "execute_result"
    }
   ],
   "source": [
    "l1"
   ]
  },
  {
   "cell_type": "code",
   "execution_count": 12,
   "id": "89b3bf96",
   "metadata": {},
   "outputs": [
    {
     "data": {
      "text/plain": [
       "[56, 56, 7, 56, 78]"
      ]
     },
     "execution_count": 12,
     "metadata": {},
     "output_type": "execute_result"
    }
   ],
   "source": [
    "# slice\n",
    "l1[1:6]"
   ]
  },
  {
   "cell_type": "code",
   "execution_count": 13,
   "id": "06a77087",
   "metadata": {},
   "outputs": [
    {
     "data": {
      "text/plain": [
       "[43, 56, 56, 7, 56, 78]"
      ]
     },
     "execution_count": 13,
     "metadata": {},
     "output_type": "execute_result"
    }
   ],
   "source": [
    "l1[:6]"
   ]
  },
  {
   "cell_type": "code",
   "execution_count": 14,
   "id": "8c26425e",
   "metadata": {},
   "outputs": [
    {
     "data": {
      "text/plain": [
       "[56, 56, 7, 56, 78, 54]"
      ]
     },
     "execution_count": 14,
     "metadata": {},
     "output_type": "execute_result"
    }
   ],
   "source": [
    "l1[1:]"
   ]
  },
  {
   "cell_type": "code",
   "execution_count": 15,
   "id": "402a2897",
   "metadata": {},
   "outputs": [
    {
     "data": {
      "text/plain": [
       "[43, 56, 56, 7, 56, 78, 54]"
      ]
     },
     "execution_count": 15,
     "metadata": {},
     "output_type": "execute_result"
    }
   ],
   "source": [
    "l1[:]"
   ]
  },
  {
   "cell_type": "code",
   "execution_count": 16,
   "id": "c280f3db",
   "metadata": {},
   "outputs": [],
   "source": [
    "l1[1:4] = [1,2,3]"
   ]
  },
  {
   "cell_type": "code",
   "execution_count": 17,
   "id": "44ad8ed6",
   "metadata": {},
   "outputs": [
    {
     "data": {
      "text/plain": [
       "[43, 1, 2, 3, 56, 78, 54]"
      ]
     },
     "execution_count": 17,
     "metadata": {},
     "output_type": "execute_result"
    }
   ],
   "source": [
    "l1"
   ]
  },
  {
   "cell_type": "code",
   "execution_count": 18,
   "id": "8cb4ef1a",
   "metadata": {},
   "outputs": [],
   "source": [
    "# in operator"
   ]
  },
  {
   "cell_type": "code",
   "execution_count": 19,
   "id": "f4de46b1",
   "metadata": {},
   "outputs": [
    {
     "data": {
      "text/plain": [
       "True"
      ]
     },
     "execution_count": 19,
     "metadata": {},
     "output_type": "execute_result"
    }
   ],
   "source": [
    "2 in l1"
   ]
  },
  {
   "cell_type": "code",
   "execution_count": 20,
   "id": "67ac92ca",
   "metadata": {},
   "outputs": [
    {
     "data": {
      "text/plain": [
       "False"
      ]
     },
     "execution_count": 20,
     "metadata": {},
     "output_type": "execute_result"
    }
   ],
   "source": [
    "1010 in l1"
   ]
  },
  {
   "cell_type": "code",
   "execution_count": 21,
   "id": "4ddfa72f",
   "metadata": {},
   "outputs": [],
   "source": [
    "# delete\n",
    "\n",
    "del l1[4]"
   ]
  },
  {
   "cell_type": "code",
   "execution_count": 22,
   "id": "dd7e876f",
   "metadata": {},
   "outputs": [
    {
     "data": {
      "text/plain": [
       "[43, 1, 2, 3, 78, 54]"
      ]
     },
     "execution_count": 22,
     "metadata": {},
     "output_type": "execute_result"
    }
   ],
   "source": [
    "l1"
   ]
  },
  {
   "cell_type": "code",
   "execution_count": 23,
   "id": "b73dcaa1",
   "metadata": {},
   "outputs": [
    {
     "data": {
      "text/plain": [
       "[43, 1, 2, 3, 78, 54, 43, 1, 2, 3, 78, 54, 43, 1, 2, 3, 78, 54]"
      ]
     },
     "execution_count": 23,
     "metadata": {},
     "output_type": "execute_result"
    }
   ],
   "source": [
    "l1 * 3"
   ]
  },
  {
   "cell_type": "code",
   "execution_count": 24,
   "id": "e1ad8dc4",
   "metadata": {},
   "outputs": [
    {
     "data": {
      "text/plain": [
       "[43, 1, 2, 3, 78, 54, 34]"
      ]
     },
     "execution_count": 24,
     "metadata": {},
     "output_type": "execute_result"
    }
   ],
   "source": [
    "l1 + [34]"
   ]
  },
  {
   "cell_type": "code",
   "execution_count": 25,
   "id": "0f93c74a",
   "metadata": {},
   "outputs": [],
   "source": [
    "l1 += [56,78]"
   ]
  },
  {
   "cell_type": "code",
   "execution_count": 26,
   "id": "af09c5c9",
   "metadata": {},
   "outputs": [
    {
     "data": {
      "text/plain": [
       "[43, 1, 2, 3, 78, 54, 56, 78]"
      ]
     },
     "execution_count": 26,
     "metadata": {},
     "output_type": "execute_result"
    }
   ],
   "source": [
    "l1 "
   ]
  },
  {
   "cell_type": "code",
   "execution_count": 27,
   "id": "a945a0b6",
   "metadata": {},
   "outputs": [
    {
     "name": "stdout",
     "output_type": "stream",
     "text": [
      "43\n",
      "1\n",
      "3\n"
     ]
    }
   ],
   "source": [
    "# use loop and print odd numbers from the list\n",
    "\n",
    "for n in l1:\n",
    "    if n % 2 == 1:\n",
    "        print(n)"
   ]
  },
  {
   "cell_type": "code",
   "execution_count": 28,
   "id": "b909c9c4",
   "metadata": {},
   "outputs": [],
   "source": [
    "# list comprehension\n",
    "l3 = [n/2 for n in l1]  # map"
   ]
  },
  {
   "cell_type": "code",
   "execution_count": 29,
   "id": "f1285f48",
   "metadata": {},
   "outputs": [
    {
     "data": {
      "text/plain": [
       "[21.5, 0.5, 1.0, 1.5, 39.0, 27.0, 28.0, 39.0]"
      ]
     },
     "execution_count": 29,
     "metadata": {},
     "output_type": "execute_result"
    }
   ],
   "source": [
    "l3"
   ]
  },
  {
   "cell_type": "code",
   "execution_count": 30,
   "id": "fcbe3c57",
   "metadata": {},
   "outputs": [
    {
     "data": {
      "text/plain": [
       "[1849, 1, 4, 9, 6084, 2916, 3136, 6084]"
      ]
     },
     "execution_count": 30,
     "metadata": {},
     "output_type": "execute_result"
    }
   ],
   "source": [
    "new = [n*n for n in l1]\n",
    "new"
   ]
  },
  {
   "cell_type": "code",
   "execution_count": 31,
   "id": "3a5036e5",
   "metadata": {},
   "outputs": [
    {
     "data": {
      "text/plain": [
       "[43, 78, 54, 56, 78]"
      ]
     },
     "execution_count": 31,
     "metadata": {},
     "output_type": "execute_result"
    }
   ],
   "source": [
    "# filter\n",
    "new1 = [n for n in l1 if n > 40]\n",
    "new1 "
   ]
  },
  {
   "cell_type": "code",
   "execution_count": 32,
   "id": "d4238da7",
   "metadata": {},
   "outputs": [
    {
     "data": {
      "text/plain": [
       "[1, 4, 9]"
      ]
     },
     "execution_count": 32,
     "metadata": {},
     "output_type": "execute_result"
    }
   ],
   "source": [
    "[n*n for n in l1 if n < 40]"
   ]
  },
  {
   "cell_type": "code",
   "execution_count": 33,
   "id": "7cad6aa1",
   "metadata": {},
   "outputs": [],
   "source": [
    "l = [34,56,24,56,89,64]"
   ]
  },
  {
   "cell_type": "code",
   "execution_count": 34,
   "id": "656cb35e",
   "metadata": {
    "scrolled": true
   },
   "outputs": [
    {
     "data": {
      "text/plain": [
       "[34, 56, 24, 56, 89, 64]"
      ]
     },
     "execution_count": 34,
     "metadata": {},
     "output_type": "execute_result"
    }
   ],
   "source": [
    "l"
   ]
  },
  {
   "cell_type": "code",
   "execution_count": 35,
   "id": "66d9c26f",
   "metadata": {},
   "outputs": [
    {
     "data": {
      "text/plain": [
       "[56, 56, 89]"
      ]
     },
     "execution_count": 35,
     "metadata": {},
     "output_type": "execute_result"
    }
   ],
   "source": [
    "# filter out the elements whose last digit is not 4\n",
    "\n",
    "[n for n in l if n % 10 != 4]"
   ]
  },
  {
   "cell_type": "code",
   "execution_count": 36,
   "id": "289a8f0b",
   "metadata": {},
   "outputs": [],
   "source": [
    "e = []  # empty"
   ]
  },
  {
   "cell_type": "code",
   "execution_count": 37,
   "id": "be1f17de",
   "metadata": {},
   "outputs": [],
   "source": [
    "e += [2]"
   ]
  },
  {
   "cell_type": "code",
   "execution_count": 38,
   "id": "997766bc",
   "metadata": {},
   "outputs": [
    {
     "data": {
      "text/plain": [
       "[2]"
      ]
     },
     "execution_count": 38,
     "metadata": {},
     "output_type": "execute_result"
    }
   ],
   "source": [
    "e"
   ]
  },
  {
   "cell_type": "code",
   "execution_count": 39,
   "id": "a1bdff89",
   "metadata": {},
   "outputs": [],
   "source": [
    "l = [43,45,32,[56,67,62],78,90]"
   ]
  },
  {
   "cell_type": "code",
   "execution_count": 40,
   "id": "61ff3290",
   "metadata": {},
   "outputs": [
    {
     "data": {
      "text/plain": [
       "[56, 67, 62]"
      ]
     },
     "execution_count": 40,
     "metadata": {},
     "output_type": "execute_result"
    }
   ],
   "source": [
    "l[3]"
   ]
  },
  {
   "cell_type": "code",
   "execution_count": 41,
   "id": "7ad00256",
   "metadata": {},
   "outputs": [
    {
     "data": {
      "text/plain": [
       "67"
      ]
     },
     "execution_count": 41,
     "metadata": {},
     "output_type": "execute_result"
    }
   ],
   "source": [
    "l[3][1]"
   ]
  },
  {
   "cell_type": "code",
   "execution_count": 42,
   "id": "496eba38",
   "metadata": {},
   "outputs": [],
   "source": [
    "l = [1,2,3]"
   ]
  },
  {
   "cell_type": "code",
   "execution_count": 43,
   "id": "f0f6fc21",
   "metadata": {},
   "outputs": [],
   "source": [
    "x, y, z = l"
   ]
  },
  {
   "cell_type": "code",
   "execution_count": 44,
   "id": "82cca6f4",
   "metadata": {},
   "outputs": [
    {
     "data": {
      "text/plain": [
       "1"
      ]
     },
     "execution_count": 44,
     "metadata": {},
     "output_type": "execute_result"
    }
   ],
   "source": [
    "x"
   ]
  },
  {
   "cell_type": "code",
   "execution_count": 45,
   "id": "cd7f9570",
   "metadata": {},
   "outputs": [
    {
     "data": {
      "text/plain": [
       "2"
      ]
     },
     "execution_count": 45,
     "metadata": {},
     "output_type": "execute_result"
    }
   ],
   "source": [
    "y"
   ]
  },
  {
   "cell_type": "code",
   "execution_count": 46,
   "id": "e34d5007",
   "metadata": {},
   "outputs": [
    {
     "data": {
      "text/plain": [
       "3"
      ]
     },
     "execution_count": 46,
     "metadata": {},
     "output_type": "execute_result"
    }
   ],
   "source": [
    "z"
   ]
  },
  {
   "cell_type": "code",
   "execution_count": 47,
   "id": "8e6fbcbc",
   "metadata": {},
   "outputs": [],
   "source": [
    "# functions on list"
   ]
  },
  {
   "cell_type": "code",
   "execution_count": 48,
   "id": "ad41739c",
   "metadata": {},
   "outputs": [
    {
     "data": {
      "text/plain": [
       "[43, 1, 2, 3, 78, 54, 56, 78]"
      ]
     },
     "execution_count": 48,
     "metadata": {},
     "output_type": "execute_result"
    }
   ],
   "source": [
    "l1"
   ]
  },
  {
   "cell_type": "code",
   "execution_count": 49,
   "id": "e529eaa3",
   "metadata": {},
   "outputs": [
    {
     "data": {
      "text/plain": [
       "315"
      ]
     },
     "execution_count": 49,
     "metadata": {},
     "output_type": "execute_result"
    }
   ],
   "source": [
    "sum(l1)"
   ]
  },
  {
   "cell_type": "code",
   "execution_count": 50,
   "id": "b9c43dd3",
   "metadata": {},
   "outputs": [
    {
     "data": {
      "text/plain": [
       "78"
      ]
     },
     "execution_count": 50,
     "metadata": {},
     "output_type": "execute_result"
    }
   ],
   "source": [
    "max(l1)"
   ]
  },
  {
   "cell_type": "code",
   "execution_count": 51,
   "id": "720b9e34",
   "metadata": {},
   "outputs": [
    {
     "data": {
      "text/plain": [
       "1"
      ]
     },
     "execution_count": 51,
     "metadata": {},
     "output_type": "execute_result"
    }
   ],
   "source": [
    "min(l1)"
   ]
  },
  {
   "cell_type": "code",
   "execution_count": 52,
   "id": "2763567a",
   "metadata": {},
   "outputs": [
    {
     "data": {
      "text/plain": [
       "[1, 2, 3, 43, 54, 56, 78, 78]"
      ]
     },
     "execution_count": 52,
     "metadata": {},
     "output_type": "execute_result"
    }
   ],
   "source": [
    "sorted(l1)"
   ]
  },
  {
   "cell_type": "code",
   "execution_count": 53,
   "id": "affb9a05",
   "metadata": {},
   "outputs": [
    {
     "data": {
      "text/plain": [
       "[78, 78, 56, 54, 43, 3, 2, 1]"
      ]
     },
     "execution_count": 53,
     "metadata": {},
     "output_type": "execute_result"
    }
   ],
   "source": [
    "sorted(l1, reverse= True)"
   ]
  },
  {
   "cell_type": "code",
   "execution_count": 54,
   "id": "ba4caff3",
   "metadata": {},
   "outputs": [],
   "source": [
    "name = 'Aditya'"
   ]
  },
  {
   "cell_type": "code",
   "execution_count": 55,
   "id": "941a8680",
   "metadata": {},
   "outputs": [
    {
     "data": {
      "text/plain": [
       "['A', 'd', 'i', 't', 'y', 'a']"
      ]
     },
     "execution_count": 55,
     "metadata": {},
     "output_type": "execute_result"
    }
   ],
   "source": [
    "list(name)"
   ]
  },
  {
   "cell_type": "code",
   "execution_count": 56,
   "id": "baa7c812",
   "metadata": {},
   "outputs": [],
   "source": [
    "# method"
   ]
  },
  {
   "cell_type": "code",
   "execution_count": 57,
   "id": "e698bc88",
   "metadata": {},
   "outputs": [
    {
     "data": {
      "text/plain": [
       "[43, 1, 2, 3, 78, 54, 56, 78]"
      ]
     },
     "execution_count": 57,
     "metadata": {},
     "output_type": "execute_result"
    }
   ],
   "source": [
    "l1"
   ]
  },
  {
   "cell_type": "code",
   "execution_count": 58,
   "id": "314b2c9c",
   "metadata": {},
   "outputs": [],
   "source": [
    "l1.append(67)"
   ]
  },
  {
   "cell_type": "code",
   "execution_count": 59,
   "id": "d21a2754",
   "metadata": {},
   "outputs": [
    {
     "data": {
      "text/plain": [
       "[43, 1, 2, 3, 78, 54, 56, 78, 67]"
      ]
     },
     "execution_count": 59,
     "metadata": {},
     "output_type": "execute_result"
    }
   ],
   "source": [
    "l1"
   ]
  },
  {
   "cell_type": "code",
   "execution_count": 60,
   "id": "adfdd745",
   "metadata": {},
   "outputs": [],
   "source": [
    "x = [23,34,45]\n",
    "y = [23,34,45]"
   ]
  },
  {
   "cell_type": "code",
   "execution_count": 61,
   "id": "698c53df",
   "metadata": {},
   "outputs": [],
   "source": [
    "x.append([1,2])\n",
    "y.extend([1,2])"
   ]
  },
  {
   "cell_type": "code",
   "execution_count": 62,
   "id": "958e38da",
   "metadata": {},
   "outputs": [
    {
     "name": "stdout",
     "output_type": "stream",
     "text": [
      "[23, 34, 45, [1, 2]]\n",
      "[23, 34, 45, 1, 2]\n"
     ]
    }
   ],
   "source": [
    "print(x)\n",
    "print(y)"
   ]
  },
  {
   "cell_type": "code",
   "execution_count": 66,
   "id": "b08a9f3f",
   "metadata": {},
   "outputs": [],
   "source": [
    "x = y.copy()"
   ]
  },
  {
   "cell_type": "code",
   "execution_count": 67,
   "id": "5d957107",
   "metadata": {},
   "outputs": [
    {
     "data": {
      "text/plain": [
       "[23, 34, 45, 1, 2]"
      ]
     },
     "execution_count": 67,
     "metadata": {},
     "output_type": "execute_result"
    }
   ],
   "source": [
    "x"
   ]
  },
  {
   "cell_type": "code",
   "execution_count": 68,
   "id": "7dc1c93d",
   "metadata": {},
   "outputs": [],
   "source": [
    "y[2] = 100"
   ]
  },
  {
   "cell_type": "code",
   "execution_count": 69,
   "id": "ed6587ce",
   "metadata": {},
   "outputs": [
    {
     "data": {
      "text/plain": [
       "[23, 34, 100, 1, 2]"
      ]
     },
     "execution_count": 69,
     "metadata": {},
     "output_type": "execute_result"
    }
   ],
   "source": [
    "y"
   ]
  },
  {
   "cell_type": "code",
   "execution_count": 70,
   "id": "378cf112",
   "metadata": {},
   "outputs": [
    {
     "data": {
      "text/plain": [
       "[23, 34, 45, 1, 2]"
      ]
     },
     "execution_count": 70,
     "metadata": {},
     "output_type": "execute_result"
    }
   ],
   "source": [
    "x"
   ]
  },
  {
   "cell_type": "code",
   "execution_count": 71,
   "id": "3de29707",
   "metadata": {},
   "outputs": [],
   "source": [
    "x = y"
   ]
  },
  {
   "cell_type": "code",
   "execution_count": 72,
   "id": "cd159cef",
   "metadata": {},
   "outputs": [
    {
     "data": {
      "text/plain": [
       "[23, 34, 100, 1, 2]"
      ]
     },
     "execution_count": 72,
     "metadata": {},
     "output_type": "execute_result"
    }
   ],
   "source": [
    "x"
   ]
  },
  {
   "cell_type": "code",
   "execution_count": 73,
   "id": "4b8c2e93",
   "metadata": {},
   "outputs": [],
   "source": [
    "y[2] = 200"
   ]
  },
  {
   "cell_type": "code",
   "execution_count": 74,
   "id": "be6d7c9e",
   "metadata": {},
   "outputs": [
    {
     "data": {
      "text/plain": [
       "[23, 34, 200, 1, 2]"
      ]
     },
     "execution_count": 74,
     "metadata": {},
     "output_type": "execute_result"
    }
   ],
   "source": [
    "y"
   ]
  },
  {
   "cell_type": "code",
   "execution_count": 75,
   "id": "be41c274",
   "metadata": {},
   "outputs": [
    {
     "data": {
      "text/plain": [
       "[23, 34, 200, 1, 2]"
      ]
     },
     "execution_count": 75,
     "metadata": {},
     "output_type": "execute_result"
    }
   ],
   "source": [
    "x"
   ]
  },
  {
   "cell_type": "code",
   "execution_count": 76,
   "id": "530b1ad6",
   "metadata": {},
   "outputs": [
    {
     "data": {
      "text/plain": [
       "[43, 1, 2, 3, 78, 54, 56, 78, 67]"
      ]
     },
     "execution_count": 76,
     "metadata": {},
     "output_type": "execute_result"
    }
   ],
   "source": [
    "# insert\n",
    "l1"
   ]
  },
  {
   "cell_type": "code",
   "execution_count": 77,
   "id": "5043fecd",
   "metadata": {},
   "outputs": [],
   "source": [
    "l1.insert(2, 400)"
   ]
  },
  {
   "cell_type": "code",
   "execution_count": 78,
   "id": "7a59e52f",
   "metadata": {},
   "outputs": [
    {
     "data": {
      "text/plain": [
       "[43, 1, 400, 2, 3, 78, 54, 56, 78, 67]"
      ]
     },
     "execution_count": 78,
     "metadata": {},
     "output_type": "execute_result"
    }
   ],
   "source": [
    "l1"
   ]
  },
  {
   "cell_type": "code",
   "execution_count": 79,
   "id": "d979da84",
   "metadata": {},
   "outputs": [],
   "source": [
    "l1.remove(400)"
   ]
  },
  {
   "cell_type": "code",
   "execution_count": 80,
   "id": "cc1ec171",
   "metadata": {},
   "outputs": [
    {
     "data": {
      "text/plain": [
       "[43, 1, 2, 3, 78, 54, 56, 78, 67]"
      ]
     },
     "execution_count": 80,
     "metadata": {},
     "output_type": "execute_result"
    }
   ],
   "source": [
    "l1"
   ]
  },
  {
   "cell_type": "code",
   "execution_count": 81,
   "id": "8e375b27",
   "metadata": {},
   "outputs": [
    {
     "data": {
      "text/plain": [
       "67"
      ]
     },
     "execution_count": 81,
     "metadata": {},
     "output_type": "execute_result"
    }
   ],
   "source": [
    "l1.pop()"
   ]
  },
  {
   "cell_type": "code",
   "execution_count": 82,
   "id": "47aba772",
   "metadata": {},
   "outputs": [
    {
     "data": {
      "text/plain": [
       "1"
      ]
     },
     "execution_count": 82,
     "metadata": {},
     "output_type": "execute_result"
    }
   ],
   "source": [
    "l1.pop(1)"
   ]
  },
  {
   "cell_type": "code",
   "execution_count": 83,
   "id": "87ada31c",
   "metadata": {},
   "outputs": [
    {
     "data": {
      "text/plain": [
       "[43, 2, 3, 78, 54, 56, 78]"
      ]
     },
     "execution_count": 83,
     "metadata": {},
     "output_type": "execute_result"
    }
   ],
   "source": [
    "l1"
   ]
  },
  {
   "cell_type": "code",
   "execution_count": 84,
   "id": "2a9b108a",
   "metadata": {},
   "outputs": [],
   "source": [
    "l1.sort(reverse=True)"
   ]
  },
  {
   "cell_type": "code",
   "execution_count": 85,
   "id": "b57ab94a",
   "metadata": {},
   "outputs": [
    {
     "data": {
      "text/plain": [
       "[78, 78, 56, 54, 43, 3, 2]"
      ]
     },
     "execution_count": 85,
     "metadata": {},
     "output_type": "execute_result"
    }
   ],
   "source": [
    "l1"
   ]
  },
  {
   "cell_type": "code",
   "execution_count": 86,
   "id": "8f185334",
   "metadata": {},
   "outputs": [],
   "source": [
    "'''\n",
    "list of some elements\n",
    "metals = ['silver','gold','copper','silver','copper','silver']\n",
    "make a new list that is almost identical to the metal list:\n",
    "the new list contains the same items, in same order, except that\n",
    "it does NOT contain the item copper\n",
    "''';\n",
    "\n",
    "metals = ['silver','gold','copper','silver','copper','silver']"
   ]
  },
  {
   "cell_type": "code",
   "execution_count": 88,
   "id": "ebe933dd",
   "metadata": {},
   "outputs": [],
   "source": [
    "new_metals = [n for n in metals if n != 'copper']"
   ]
  },
  {
   "cell_type": "code",
   "execution_count": 89,
   "id": "461b8b12",
   "metadata": {},
   "outputs": [
    {
     "data": {
      "text/plain": [
       "['silver', 'gold', 'silver', 'silver']"
      ]
     },
     "execution_count": 89,
     "metadata": {},
     "output_type": "execute_result"
    }
   ],
   "source": [
    "new_metals"
   ]
  },
  {
   "cell_type": "markdown",
   "id": "c43254f2",
   "metadata": {},
   "source": [
    "## tuple"
   ]
  },
  {
   "cell_type": "code",
   "execution_count": 90,
   "id": "ef825853",
   "metadata": {},
   "outputs": [],
   "source": [
    "t = (12,23,45,12,34)"
   ]
  },
  {
   "cell_type": "code",
   "execution_count": 91,
   "id": "7109be82",
   "metadata": {},
   "outputs": [
    {
     "data": {
      "text/plain": [
       "(12, 23, 45, 12, 34)"
      ]
     },
     "execution_count": 91,
     "metadata": {},
     "output_type": "execute_result"
    }
   ],
   "source": [
    "t"
   ]
  },
  {
   "cell_type": "code",
   "execution_count": 92,
   "id": "b202e1b8",
   "metadata": {},
   "outputs": [],
   "source": [
    "t1 = (34,22,12,3,'Aditya',44.32)"
   ]
  },
  {
   "cell_type": "code",
   "execution_count": 93,
   "id": "19df4022",
   "metadata": {},
   "outputs": [
    {
     "data": {
      "text/plain": [
       "(34, 22, 12, 3, 'Aditya', 44.32)"
      ]
     },
     "execution_count": 93,
     "metadata": {},
     "output_type": "execute_result"
    }
   ],
   "source": [
    "t1"
   ]
  },
  {
   "cell_type": "code",
   "execution_count": 94,
   "id": "81b97bd4",
   "metadata": {},
   "outputs": [
    {
     "data": {
      "text/plain": [
       "12"
      ]
     },
     "execution_count": 94,
     "metadata": {},
     "output_type": "execute_result"
    }
   ],
   "source": [
    "t1[2]"
   ]
  },
  {
   "cell_type": "code",
   "execution_count": 96,
   "id": "4385616e",
   "metadata": {},
   "outputs": [
    {
     "ename": "TypeError",
     "evalue": "'tuple' object does not support item assignment",
     "output_type": "error",
     "traceback": [
      "\u001b[0;31m---------------------------------------------------------------------------\u001b[0m",
      "\u001b[0;31mTypeError\u001b[0m                                 Traceback (most recent call last)",
      "Cell \u001b[0;32mIn[96], line 1\u001b[0m\n\u001b[0;32m----> 1\u001b[0m t1[\u001b[38;5;241m2\u001b[39m] \u001b[38;5;241m=\u001b[39m \u001b[38;5;241m45\u001b[39m\n",
      "\u001b[0;31mTypeError\u001b[0m: 'tuple' object does not support item assignment"
     ]
    }
   ],
   "source": [
    "t1[2] = 45  # immutable"
   ]
  },
  {
   "cell_type": "code",
   "execution_count": 98,
   "id": "6d99d26d",
   "metadata": {},
   "outputs": [],
   "source": [
    "x = list(t1)"
   ]
  },
  {
   "cell_type": "code",
   "execution_count": 99,
   "id": "c87c9abc",
   "metadata": {},
   "outputs": [
    {
     "data": {
      "text/plain": [
       "[34, 22, 12, 3, 'Aditya', 44.32]"
      ]
     },
     "execution_count": 99,
     "metadata": {},
     "output_type": "execute_result"
    }
   ],
   "source": [
    "x"
   ]
  },
  {
   "cell_type": "code",
   "execution_count": 100,
   "id": "50497038",
   "metadata": {},
   "outputs": [
    {
     "data": {
      "text/plain": [
       "(12, 23, 45, 12, 34)"
      ]
     },
     "execution_count": 100,
     "metadata": {},
     "output_type": "execute_result"
    }
   ],
   "source": [
    "t"
   ]
  },
  {
   "cell_type": "code",
   "execution_count": 101,
   "id": "76dea9e0",
   "metadata": {},
   "outputs": [
    {
     "data": {
      "text/plain": [
       "(12, 23, 45, 12, 34, 40, 80)"
      ]
     },
     "execution_count": 101,
     "metadata": {},
     "output_type": "execute_result"
    }
   ],
   "source": [
    "t + (40,80)"
   ]
  },
  {
   "cell_type": "code",
   "execution_count": 102,
   "id": "90dc647c",
   "metadata": {},
   "outputs": [
    {
     "data": {
      "text/plain": [
       "2"
      ]
     },
     "execution_count": 102,
     "metadata": {},
     "output_type": "execute_result"
    }
   ],
   "source": [
    "t.index(45)"
   ]
  },
  {
   "cell_type": "code",
   "execution_count": 103,
   "id": "17745aba",
   "metadata": {},
   "outputs": [
    {
     "data": {
      "text/plain": [
       "2"
      ]
     },
     "execution_count": 103,
     "metadata": {},
     "output_type": "execute_result"
    }
   ],
   "source": [
    "t.count(12)"
   ]
  },
  {
   "cell_type": "markdown",
   "id": "008ceafa",
   "metadata": {},
   "source": [
    "## set"
   ]
  },
  {
   "cell_type": "code",
   "execution_count": 104,
   "id": "781619ef",
   "metadata": {},
   "outputs": [],
   "source": [
    "s1 = { 1,2,2,3,4,4,5,6,8}"
   ]
  },
  {
   "cell_type": "code",
   "execution_count": 105,
   "id": "2da1cc73",
   "metadata": {},
   "outputs": [
    {
     "data": {
      "text/plain": [
       "{1, 2, 3, 4, 5, 6, 8}"
      ]
     },
     "execution_count": 105,
     "metadata": {},
     "output_type": "execute_result"
    }
   ],
   "source": [
    "s1"
   ]
  },
  {
   "cell_type": "code",
   "execution_count": 106,
   "id": "bf8cf135",
   "metadata": {},
   "outputs": [
    {
     "data": {
      "text/plain": [
       "set"
      ]
     },
     "execution_count": 106,
     "metadata": {},
     "output_type": "execute_result"
    }
   ],
   "source": [
    "type(s1)"
   ]
  },
  {
   "cell_type": "code",
   "execution_count": 107,
   "id": "d03e9385",
   "metadata": {},
   "outputs": [
    {
     "ename": "TypeError",
     "evalue": "'set' object is not subscriptable",
     "output_type": "error",
     "traceback": [
      "\u001b[0;31m---------------------------------------------------------------------------\u001b[0m",
      "\u001b[0;31mTypeError\u001b[0m                                 Traceback (most recent call last)",
      "Cell \u001b[0;32mIn[107], line 1\u001b[0m\n\u001b[0;32m----> 1\u001b[0m s1[\u001b[38;5;241m2\u001b[39m]\n",
      "\u001b[0;31mTypeError\u001b[0m: 'set' object is not subscriptable"
     ]
    }
   ],
   "source": [
    "s1[2]"
   ]
  },
  {
   "cell_type": "code",
   "execution_count": 108,
   "id": "00dea18b",
   "metadata": {},
   "outputs": [],
   "source": [
    "# immutable\n",
    "# unordered\n",
    "# duplicates not allowed"
   ]
  },
  {
   "cell_type": "code",
   "execution_count": 109,
   "id": "9215cf7d",
   "metadata": {},
   "outputs": [],
   "source": [
    "s1.add(56)"
   ]
  },
  {
   "cell_type": "code",
   "execution_count": 110,
   "id": "9f307d41",
   "metadata": {},
   "outputs": [
    {
     "data": {
      "text/plain": [
       "{1, 2, 3, 4, 5, 6, 8, 56}"
      ]
     },
     "execution_count": 110,
     "metadata": {},
     "output_type": "execute_result"
    }
   ],
   "source": [
    "s1"
   ]
  },
  {
   "cell_type": "code",
   "execution_count": 111,
   "id": "7beeb7c7",
   "metadata": {},
   "outputs": [
    {
     "data": {
      "text/plain": [
       "{1, 2, 3, 4, 5, 6, 8, 33, 56}"
      ]
     },
     "execution_count": 111,
     "metadata": {},
     "output_type": "execute_result"
    }
   ],
   "source": [
    "s1.add(33)\n",
    "s1"
   ]
  },
  {
   "cell_type": "markdown",
   "id": "39bee571",
   "metadata": {},
   "source": [
    "## Dictionary"
   ]
  },
  {
   "cell_type": "code",
   "execution_count": 112,
   "id": "77f38166",
   "metadata": {},
   "outputs": [],
   "source": [
    "d = {1: 'Akash', 2: 'Natasha', 3: 'Raj'}"
   ]
  },
  {
   "cell_type": "code",
   "execution_count": 113,
   "id": "5c24eec5",
   "metadata": {},
   "outputs": [
    {
     "data": {
      "text/plain": [
       "{1: 'Akash', 2: 'Natasha', 3: 'Raj'}"
      ]
     },
     "execution_count": 113,
     "metadata": {},
     "output_type": "execute_result"
    }
   ],
   "source": [
    "d"
   ]
  },
  {
   "cell_type": "code",
   "execution_count": 114,
   "id": "b7b1ca46",
   "metadata": {},
   "outputs": [],
   "source": [
    "d[10] = 'Riya'"
   ]
  },
  {
   "cell_type": "code",
   "execution_count": 115,
   "id": "d4ab9d26",
   "metadata": {},
   "outputs": [
    {
     "data": {
      "text/plain": [
       "{1: 'Akash', 2: 'Natasha', 3: 'Raj', 10: 'Riya'}"
      ]
     },
     "execution_count": 115,
     "metadata": {},
     "output_type": "execute_result"
    }
   ],
   "source": [
    "d"
   ]
  },
  {
   "cell_type": "code",
   "execution_count": 116,
   "id": "0cf9bc23",
   "metadata": {},
   "outputs": [
    {
     "data": {
      "text/plain": [
       "'Riya'"
      ]
     },
     "execution_count": 116,
     "metadata": {},
     "output_type": "execute_result"
    }
   ],
   "source": [
    "d[10]"
   ]
  },
  {
   "cell_type": "code",
   "execution_count": 121,
   "id": "d547835f",
   "metadata": {},
   "outputs": [],
   "source": [
    "d[15] = 'Ajay', 'Nitin', 'Jaya'"
   ]
  },
  {
   "cell_type": "code",
   "execution_count": 122,
   "id": "e7e261fe",
   "metadata": {},
   "outputs": [
    {
     "data": {
      "text/plain": [
       "{1: 'Akash', 2: 'Natasha', 3: 'Raj', 10: 'Riya', 15: ('Ajay', 'Nitin', 'Jaya')}"
      ]
     },
     "execution_count": 122,
     "metadata": {},
     "output_type": "execute_result"
    }
   ],
   "source": [
    "d"
   ]
  },
  {
   "cell_type": "code",
   "execution_count": 123,
   "id": "ab65066f",
   "metadata": {},
   "outputs": [],
   "source": [
    "d[2] = 'Aditya'"
   ]
  },
  {
   "cell_type": "code",
   "execution_count": 124,
   "id": "97b4fc57",
   "metadata": {},
   "outputs": [
    {
     "data": {
      "text/plain": [
       "{1: 'Akash', 2: 'Aditya', 3: 'Raj', 10: 'Riya', 15: ('Ajay', 'Nitin', 'Jaya')}"
      ]
     },
     "execution_count": 124,
     "metadata": {},
     "output_type": "execute_result"
    }
   ],
   "source": [
    "d"
   ]
  },
  {
   "cell_type": "code",
   "execution_count": 126,
   "id": "ae7deab3",
   "metadata": {},
   "outputs": [
    {
     "data": {
      "text/plain": [
       "dict_keys([1, 2, 3, 10, 15])"
      ]
     },
     "execution_count": 126,
     "metadata": {},
     "output_type": "execute_result"
    }
   ],
   "source": [
    "d.keys()"
   ]
  },
  {
   "cell_type": "code",
   "execution_count": 127,
   "id": "f07595cf",
   "metadata": {},
   "outputs": [
    {
     "data": {
      "text/plain": [
       "dict_values(['Akash', 'Aditya', 'Raj', 'Riya', ('Ajay', 'Nitin', 'Jaya')])"
      ]
     },
     "execution_count": 127,
     "metadata": {},
     "output_type": "execute_result"
    }
   ],
   "source": [
    "d.values()"
   ]
  },
  {
   "cell_type": "code",
   "execution_count": null,
   "id": "66dac101",
   "metadata": {},
   "outputs": [],
   "source": []
  }
 ],
 "metadata": {
  "kernelspec": {
   "display_name": "Python 3 (ipykernel)",
   "language": "python",
   "name": "python3"
  },
  "language_info": {
   "codemirror_mode": {
    "name": "ipython",
    "version": 3
   },
   "file_extension": ".py",
   "mimetype": "text/x-python",
   "name": "python",
   "nbconvert_exporter": "python",
   "pygments_lexer": "ipython3",
   "version": "3.11.5"
  }
 },
 "nbformat": 4,
 "nbformat_minor": 5
}
