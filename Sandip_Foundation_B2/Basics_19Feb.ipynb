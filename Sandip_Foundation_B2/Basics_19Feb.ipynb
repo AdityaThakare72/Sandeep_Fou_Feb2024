{
 "cells": [
  {
   "cell_type": "code",
   "execution_count": 1,
   "id": "12d171d9",
   "metadata": {},
   "outputs": [
    {
     "name": "stdout",
     "output_type": "stream",
     "text": [
      "hello world\n"
     ]
    }
   ],
   "source": [
    "print(\"hello world\")"
   ]
  },
  {
   "cell_type": "code",
   "execution_count": 2,
   "id": "2aec7a2c",
   "metadata": {},
   "outputs": [
    {
     "name": "stdout",
     "output_type": "stream",
     "text": [
      "hello world\n"
     ]
    }
   ],
   "source": [
    "print('hello world')"
   ]
  },
  {
   "cell_type": "code",
   "execution_count": 3,
   "id": "b087dbc6",
   "metadata": {},
   "outputs": [],
   "source": [
    "num = 2345"
   ]
  },
  {
   "cell_type": "code",
   "execution_count": 4,
   "id": "1b53e83a",
   "metadata": {},
   "outputs": [
    {
     "name": "stdout",
     "output_type": "stream",
     "text": [
      "2345\n"
     ]
    }
   ],
   "source": [
    "print(num)"
   ]
  },
  {
   "cell_type": "code",
   "execution_count": 5,
   "id": "402fe3f9",
   "metadata": {},
   "outputs": [
    {
     "data": {
      "text/plain": [
       "int"
      ]
     },
     "execution_count": 5,
     "metadata": {},
     "output_type": "execute_result"
    }
   ],
   "source": [
    "type(num)"
   ]
  },
  {
   "cell_type": "code",
   "execution_count": 6,
   "id": "c22e6c12",
   "metadata": {},
   "outputs": [],
   "source": [
    "num1 = 56.67"
   ]
  },
  {
   "cell_type": "code",
   "execution_count": 7,
   "id": "25bef361",
   "metadata": {},
   "outputs": [
    {
     "data": {
      "text/plain": [
       "float"
      ]
     },
     "execution_count": 7,
     "metadata": {},
     "output_type": "execute_result"
    }
   ],
   "source": [
    "type(num1)"
   ]
  },
  {
   "cell_type": "code",
   "execution_count": 8,
   "id": "482a5597",
   "metadata": {},
   "outputs": [],
   "source": [
    "name = 'Aditya'"
   ]
  },
  {
   "cell_type": "code",
   "execution_count": 9,
   "id": "c0d801e7",
   "metadata": {},
   "outputs": [
    {
     "data": {
      "text/plain": [
       "str"
      ]
     },
     "execution_count": 9,
     "metadata": {},
     "output_type": "execute_result"
    }
   ],
   "source": [
    "type(name)"
   ]
  },
  {
   "cell_type": "code",
   "execution_count": 10,
   "id": "efbaeaca",
   "metadata": {},
   "outputs": [
    {
     "ename": "SyntaxError",
     "evalue": "invalid syntax (1859998687.py, line 1)",
     "output_type": "error",
     "traceback": [
      "\u001b[0;36m  Cell \u001b[0;32mIn[10], line 1\u001b[0;36m\u001b[0m\n\u001b[0;31m    pass= 12      # keyword\u001b[0m\n\u001b[0m        ^\u001b[0m\n\u001b[0;31mSyntaxError\u001b[0m\u001b[0;31m:\u001b[0m invalid syntax\n"
     ]
    }
   ],
   "source": [
    "pass= 12      # keyword"
   ]
  },
  {
   "cell_type": "code",
   "execution_count": 11,
   "id": "f78863d9",
   "metadata": {},
   "outputs": [],
   "source": [
    "num1 = '342'"
   ]
  },
  {
   "cell_type": "code",
   "execution_count": 12,
   "id": "ee805aae",
   "metadata": {},
   "outputs": [
    {
     "data": {
      "text/plain": [
       "str"
      ]
     },
     "execution_count": 12,
     "metadata": {},
     "output_type": "execute_result"
    }
   ],
   "source": [
    "type(num1)"
   ]
  },
  {
   "cell_type": "code",
   "execution_count": 13,
   "id": "97acf850",
   "metadata": {},
   "outputs": [],
   "source": [
    "num = 141214215 ** 123"
   ]
  },
  {
   "cell_type": "code",
   "execution_count": 14,
   "id": "49c2c44d",
   "metadata": {},
   "outputs": [
    {
     "data": {
      "text/plain": [
       "2722984614687053117309127019809429957902791275183933559702424648514154779682196809306117823124703892162413051630509904721613592212372155674326091727257149831162958010765933253366600331016220678918793009643749652366607556792573181703724177653705159485789078301188111873504103659159640350368019717276806659155846749039947460344427134817995965118290292196005500409497109619790366285240483684594826966790002170394098390566867781000943531900714008338779645970982773061951836486575575669339118217123024948188661826371903358708205846697894235623509139217256877835296642112300824579140225163781248224683863302351759577963595216149607478253852035805052056591603658833059376765410138664327951523688823463034522356752621148279280112000273636920524141293027002983670392125594037768190905241632067255395308385732906044605095069033951477685299826866783952749880484735817640877195353762254875414063600117516697631951281818569019875791536513482661800390355277702188672129686420296523774453589794575236737728118896484375"
      ]
     },
     "execution_count": 14,
     "metadata": {},
     "output_type": "execute_result"
    }
   ],
   "source": [
    "num"
   ]
  },
  {
   "cell_type": "code",
   "execution_count": 15,
   "id": "21a21c7f",
   "metadata": {},
   "outputs": [],
   "source": [
    "num = 45"
   ]
  },
  {
   "cell_type": "code",
   "execution_count": 16,
   "id": "46c75f64",
   "metadata": {},
   "outputs": [],
   "source": [
    "result = num + 60"
   ]
  },
  {
   "cell_type": "code",
   "execution_count": 17,
   "id": "e6e1383f",
   "metadata": {},
   "outputs": [
    {
     "name": "stdout",
     "output_type": "stream",
     "text": [
      "105\n"
     ]
    }
   ],
   "source": [
    "print(result)"
   ]
  },
  {
   "cell_type": "code",
   "execution_count": 18,
   "id": "b1848154",
   "metadata": {},
   "outputs": [],
   "source": [
    "# float data type"
   ]
  },
  {
   "cell_type": "code",
   "execution_count": 19,
   "id": "a4fbd1a7",
   "metadata": {},
   "outputs": [],
   "source": [
    "num = 43.56"
   ]
  },
  {
   "cell_type": "code",
   "execution_count": 20,
   "id": "86e9beb1",
   "metadata": {},
   "outputs": [
    {
     "data": {
      "text/plain": [
       "522.72"
      ]
     },
     "execution_count": 20,
     "metadata": {},
     "output_type": "execute_result"
    }
   ],
   "source": [
    "num * 12"
   ]
  },
  {
   "cell_type": "code",
   "execution_count": 21,
   "id": "93964a97",
   "metadata": {},
   "outputs": [],
   "source": [
    "num1 = 12e3"
   ]
  },
  {
   "cell_type": "code",
   "execution_count": 22,
   "id": "490819c3",
   "metadata": {
    "scrolled": true
   },
   "outputs": [
    {
     "data": {
      "text/plain": [
       "12000.0"
      ]
     },
     "execution_count": 22,
     "metadata": {},
     "output_type": "execute_result"
    }
   ],
   "source": [
    "num1"
   ]
  },
  {
   "cell_type": "code",
   "execution_count": 28,
   "id": "1650c09d",
   "metadata": {},
   "outputs": [],
   "source": [
    "num = 49e-2"
   ]
  },
  {
   "cell_type": "code",
   "execution_count": 29,
   "id": "98600627",
   "metadata": {},
   "outputs": [
    {
     "data": {
      "text/plain": [
       "0.49"
      ]
     },
     "execution_count": 29,
     "metadata": {},
     "output_type": "execute_result"
    }
   ],
   "source": [
    "num"
   ]
  },
  {
   "cell_type": "code",
   "execution_count": 30,
   "id": "2041c9bf",
   "metadata": {},
   "outputs": [],
   "source": [
    "sent = \"I like python programming\""
   ]
  },
  {
   "cell_type": "code",
   "execution_count": 31,
   "id": "72fe8c12",
   "metadata": {},
   "outputs": [
    {
     "name": "stdout",
     "output_type": "stream",
     "text": [
      "I like python programming\n"
     ]
    }
   ],
   "source": [
    "print(sent)"
   ]
  },
  {
   "cell_type": "code",
   "execution_count": 32,
   "id": "9d3d55a5",
   "metadata": {},
   "outputs": [
    {
     "name": "stdout",
     "output_type": "stream",
     "text": [
      "I like \"python\" programming\n"
     ]
    }
   ],
   "source": [
    "print('I like \"python\" programming')"
   ]
  },
  {
   "cell_type": "code",
   "execution_count": 33,
   "id": "444c3972",
   "metadata": {},
   "outputs": [
    {
     "name": "stdout",
     "output_type": "stream",
     "text": [
      "I like 'python' programming\n"
     ]
    }
   ],
   "source": [
    "print(\"I like 'python' programming\")"
   ]
  },
  {
   "cell_type": "code",
   "execution_count": 34,
   "id": "2e73a55e",
   "metadata": {},
   "outputs": [],
   "source": [
    "# multiple assignament\n",
    "num1, num2, num3 = 23, 34, 56"
   ]
  },
  {
   "cell_type": "code",
   "execution_count": 35,
   "id": "eb68659f",
   "metadata": {},
   "outputs": [
    {
     "name": "stdout",
     "output_type": "stream",
     "text": [
      "23 56\n"
     ]
    }
   ],
   "source": [
    "print(num1, num3)"
   ]
  },
  {
   "cell_type": "code",
   "execution_count": 36,
   "id": "63491947",
   "metadata": {},
   "outputs": [],
   "source": [
    "num1, num2, num3 = 23, 34, 'Aditya'"
   ]
  },
  {
   "cell_type": "code",
   "execution_count": 37,
   "id": "bc3bda6e",
   "metadata": {},
   "outputs": [
    {
     "name": "stdout",
     "output_type": "stream",
     "text": [
      "23 Aditya\n"
     ]
    }
   ],
   "source": [
    "print(num1, num3)"
   ]
  },
  {
   "cell_type": "code",
   "execution_count": 40,
   "id": "b1faf18b",
   "metadata": {},
   "outputs": [
    {
     "name": "stdout",
     "output_type": "stream",
     "text": [
      "63\n"
     ]
    }
   ],
   "source": [
    "num1 = 23\n",
    "num2 = 40\n",
    "result = num1 + num2\n",
    "print(result)"
   ]
  },
  {
   "cell_type": "code",
   "execution_count": 41,
   "id": "a1e0974f",
   "metadata": {},
   "outputs": [
    {
     "name": "stdout",
     "output_type": "stream",
     "text": [
      "66\n"
     ]
    }
   ],
   "source": [
    "num1 = 23; num2 = 43; result = num1 + num2; print(result)"
   ]
  },
  {
   "cell_type": "code",
   "execution_count": 42,
   "id": "05ae5d25",
   "metadata": {},
   "outputs": [],
   "source": [
    "# string operations"
   ]
  },
  {
   "cell_type": "code",
   "execution_count": 43,
   "id": "357d529c",
   "metadata": {},
   "outputs": [],
   "source": [
    "name = 'Aditya'"
   ]
  },
  {
   "cell_type": "code",
   "execution_count": 44,
   "id": "66772ced",
   "metadata": {},
   "outputs": [
    {
     "data": {
      "text/plain": [
       "'aditya'"
      ]
     },
     "execution_count": 44,
     "metadata": {},
     "output_type": "execute_result"
    }
   ],
   "source": [
    "name.lower()"
   ]
  },
  {
   "cell_type": "code",
   "execution_count": 45,
   "id": "8f139917",
   "metadata": {},
   "outputs": [
    {
     "data": {
      "text/plain": [
       "'ADITYA'"
      ]
     },
     "execution_count": 45,
     "metadata": {},
     "output_type": "execute_result"
    }
   ],
   "source": [
    "name.upper()"
   ]
  },
  {
   "cell_type": "code",
   "execution_count": 46,
   "id": "2e91bc17",
   "metadata": {},
   "outputs": [
    {
     "data": {
      "text/plain": [
       "'aDITYA'"
      ]
     },
     "execution_count": 46,
     "metadata": {},
     "output_type": "execute_result"
    }
   ],
   "source": [
    "name.swapcase()"
   ]
  },
  {
   "cell_type": "code",
   "execution_count": 47,
   "id": "7488f5da",
   "metadata": {},
   "outputs": [
    {
     "data": {
      "text/plain": [
       "False"
      ]
     },
     "execution_count": 47,
     "metadata": {},
     "output_type": "execute_result"
    }
   ],
   "source": [
    "name.islower()"
   ]
  },
  {
   "cell_type": "code",
   "execution_count": 48,
   "id": "4e28f317",
   "metadata": {},
   "outputs": [
    {
     "data": {
      "text/plain": [
       "False"
      ]
     },
     "execution_count": 48,
     "metadata": {},
     "output_type": "execute_result"
    }
   ],
   "source": [
    "name.isupper()"
   ]
  },
  {
   "cell_type": "code",
   "execution_count": 50,
   "id": "458367e1",
   "metadata": {},
   "outputs": [
    {
     "data": {
      "text/plain": [
       "True"
      ]
     },
     "execution_count": 50,
     "metadata": {},
     "output_type": "execute_result"
    }
   ],
   "source": [
    "name.istitle()"
   ]
  },
  {
   "cell_type": "code",
   "execution_count": 51,
   "id": "9953e22a",
   "metadata": {},
   "outputs": [],
   "source": [
    "data1 = 'Hello'\n",
    "data2 = '1234'\n",
    "data3 = 'hello123'"
   ]
  },
  {
   "cell_type": "code",
   "execution_count": 52,
   "id": "fdc3f168",
   "metadata": {},
   "outputs": [
    {
     "data": {
      "text/plain": [
       "True"
      ]
     },
     "execution_count": 52,
     "metadata": {},
     "output_type": "execute_result"
    }
   ],
   "source": [
    "data1.isalpha()"
   ]
  },
  {
   "cell_type": "code",
   "execution_count": 53,
   "id": "5470f3b6",
   "metadata": {},
   "outputs": [
    {
     "data": {
      "text/plain": [
       "False"
      ]
     },
     "execution_count": 53,
     "metadata": {},
     "output_type": "execute_result"
    }
   ],
   "source": [
    "data2.isalpha()"
   ]
  },
  {
   "cell_type": "code",
   "execution_count": 55,
   "id": "95feacf5",
   "metadata": {},
   "outputs": [
    {
     "data": {
      "text/plain": [
       "False"
      ]
     },
     "execution_count": 55,
     "metadata": {},
     "output_type": "execute_result"
    }
   ],
   "source": [
    "data3.isalpha()"
   ]
  },
  {
   "cell_type": "code",
   "execution_count": 56,
   "id": "15354e2c",
   "metadata": {},
   "outputs": [
    {
     "data": {
      "text/plain": [
       "False"
      ]
     },
     "execution_count": 56,
     "metadata": {},
     "output_type": "execute_result"
    }
   ],
   "source": [
    "data1.isdigit()"
   ]
  },
  {
   "cell_type": "code",
   "execution_count": 57,
   "id": "78b7893d",
   "metadata": {},
   "outputs": [
    {
     "data": {
      "text/plain": [
       "True"
      ]
     },
     "execution_count": 57,
     "metadata": {},
     "output_type": "execute_result"
    }
   ],
   "source": [
    "data2.isdigit()"
   ]
  },
  {
   "cell_type": "code",
   "execution_count": 58,
   "id": "56383310",
   "metadata": {},
   "outputs": [
    {
     "data": {
      "text/plain": [
       "True"
      ]
     },
     "execution_count": 58,
     "metadata": {},
     "output_type": "execute_result"
    }
   ],
   "source": [
    "data3.isalnum()"
   ]
  },
  {
   "cell_type": "code",
   "execution_count": 59,
   "id": "a963fb1b",
   "metadata": {},
   "outputs": [],
   "source": [
    "data = ' Aditya '"
   ]
  },
  {
   "cell_type": "code",
   "execution_count": 60,
   "id": "2949c827",
   "metadata": {},
   "outputs": [
    {
     "data": {
      "text/plain": [
       "' Aditya '"
      ]
     },
     "execution_count": 60,
     "metadata": {},
     "output_type": "execute_result"
    }
   ],
   "source": [
    "data"
   ]
  },
  {
   "cell_type": "code",
   "execution_count": 61,
   "id": "c4e02b77",
   "metadata": {},
   "outputs": [
    {
     "data": {
      "text/plain": [
       "'Aditya '"
      ]
     },
     "execution_count": 61,
     "metadata": {},
     "output_type": "execute_result"
    }
   ],
   "source": [
    "data.lstrip()"
   ]
  },
  {
   "cell_type": "code",
   "execution_count": 62,
   "id": "332e1e88",
   "metadata": {},
   "outputs": [
    {
     "data": {
      "text/plain": [
       "' Aditya'"
      ]
     },
     "execution_count": 62,
     "metadata": {},
     "output_type": "execute_result"
    }
   ],
   "source": [
    "data.rstrip()"
   ]
  },
  {
   "cell_type": "code",
   "execution_count": 63,
   "id": "e64e0fc2",
   "metadata": {},
   "outputs": [
    {
     "data": {
      "text/plain": [
       "'Aditya'"
      ]
     },
     "execution_count": 63,
     "metadata": {},
     "output_type": "execute_result"
    }
   ],
   "source": [
    "data.strip()"
   ]
  },
  {
   "cell_type": "code",
   "execution_count": 64,
   "id": "e0986e21",
   "metadata": {},
   "outputs": [],
   "source": [
    "name = 'Aditya'"
   ]
  },
  {
   "cell_type": "code",
   "execution_count": 65,
   "id": "76e0f3d5",
   "metadata": {},
   "outputs": [
    {
     "data": {
      "text/plain": [
       "True"
      ]
     },
     "execution_count": 65,
     "metadata": {},
     "output_type": "execute_result"
    }
   ],
   "source": [
    "name.startswith('A')"
   ]
  },
  {
   "cell_type": "code",
   "execution_count": 66,
   "id": "1f6603db",
   "metadata": {},
   "outputs": [
    {
     "data": {
      "text/plain": [
       "False"
      ]
     },
     "execution_count": 66,
     "metadata": {},
     "output_type": "execute_result"
    }
   ],
   "source": [
    "name.startswith('a')"
   ]
  },
  {
   "cell_type": "code",
   "execution_count": 67,
   "id": "3c3bf0ca",
   "metadata": {},
   "outputs": [
    {
     "data": {
      "text/plain": [
       "False"
      ]
     },
     "execution_count": 67,
     "metadata": {},
     "output_type": "execute_result"
    }
   ],
   "source": [
    "name.endswith('A')"
   ]
  },
  {
   "cell_type": "code",
   "execution_count": 68,
   "id": "15458b8b",
   "metadata": {
    "scrolled": true
   },
   "outputs": [
    {
     "data": {
      "text/plain": [
       "'Aaditya'"
      ]
     },
     "execution_count": 68,
     "metadata": {},
     "output_type": "execute_result"
    }
   ],
   "source": [
    "name.replace('A', 'Aa')"
   ]
  },
  {
   "cell_type": "code",
   "execution_count": 70,
   "id": "e133210e",
   "metadata": {},
   "outputs": [
    {
     "data": {
      "text/plain": [
       "'Aditya'"
      ]
     },
     "execution_count": 70,
     "metadata": {},
     "output_type": "execute_result"
    }
   ],
   "source": [
    "name"
   ]
  },
  {
   "cell_type": "code",
   "execution_count": 69,
   "id": "0a310d4a",
   "metadata": {},
   "outputs": [
    {
     "data": {
      "text/plain": [
       "1"
      ]
     },
     "execution_count": 69,
     "metadata": {},
     "output_type": "execute_result"
    }
   ],
   "source": [
    "name.find('d')"
   ]
  },
  {
   "cell_type": "code",
   "execution_count": 71,
   "id": "4763049e",
   "metadata": {},
   "outputs": [
    {
     "data": {
      "text/plain": [
       "['__add__',\n",
       " '__class__',\n",
       " '__contains__',\n",
       " '__delattr__',\n",
       " '__dir__',\n",
       " '__doc__',\n",
       " '__eq__',\n",
       " '__format__',\n",
       " '__ge__',\n",
       " '__getattribute__',\n",
       " '__getitem__',\n",
       " '__getnewargs__',\n",
       " '__getstate__',\n",
       " '__gt__',\n",
       " '__hash__',\n",
       " '__init__',\n",
       " '__init_subclass__',\n",
       " '__iter__',\n",
       " '__le__',\n",
       " '__len__',\n",
       " '__lt__',\n",
       " '__mod__',\n",
       " '__mul__',\n",
       " '__ne__',\n",
       " '__new__',\n",
       " '__reduce__',\n",
       " '__reduce_ex__',\n",
       " '__repr__',\n",
       " '__rmod__',\n",
       " '__rmul__',\n",
       " '__setattr__',\n",
       " '__sizeof__',\n",
       " '__str__',\n",
       " '__subclasshook__',\n",
       " 'capitalize',\n",
       " 'casefold',\n",
       " 'center',\n",
       " 'count',\n",
       " 'encode',\n",
       " 'endswith',\n",
       " 'expandtabs',\n",
       " 'find',\n",
       " 'format',\n",
       " 'format_map',\n",
       " 'index',\n",
       " 'isalnum',\n",
       " 'isalpha',\n",
       " 'isascii',\n",
       " 'isdecimal',\n",
       " 'isdigit',\n",
       " 'isidentifier',\n",
       " 'islower',\n",
       " 'isnumeric',\n",
       " 'isprintable',\n",
       " 'isspace',\n",
       " 'istitle',\n",
       " 'isupper',\n",
       " 'join',\n",
       " 'ljust',\n",
       " 'lower',\n",
       " 'lstrip',\n",
       " 'maketrans',\n",
       " 'partition',\n",
       " 'removeprefix',\n",
       " 'removesuffix',\n",
       " 'replace',\n",
       " 'rfind',\n",
       " 'rindex',\n",
       " 'rjust',\n",
       " 'rpartition',\n",
       " 'rsplit',\n",
       " 'rstrip',\n",
       " 'split',\n",
       " 'splitlines',\n",
       " 'startswith',\n",
       " 'strip',\n",
       " 'swapcase',\n",
       " 'title',\n",
       " 'translate',\n",
       " 'upper',\n",
       " 'zfill']"
      ]
     },
     "execution_count": 71,
     "metadata": {},
     "output_type": "execute_result"
    }
   ],
   "source": [
    "dir(name)"
   ]
  },
  {
   "cell_type": "code",
   "execution_count": 73,
   "id": "5941feec",
   "metadata": {},
   "outputs": [
    {
     "name": "stdout",
     "output_type": "stream",
     "text": [
      "Help on built-in function strip:\n",
      "\n",
      "strip(chars=None, /) method of builtins.str instance\n",
      "    Return a copy of the string with leading and trailing whitespace removed.\n",
      "    \n",
      "    If chars is given and not None, remove characters in chars instead.\n",
      "\n"
     ]
    }
   ],
   "source": [
    "help(name.strip)"
   ]
  },
  {
   "cell_type": "code",
   "execution_count": 74,
   "id": "e425c88d",
   "metadata": {},
   "outputs": [],
   "source": [
    "# string concatenation"
   ]
  },
  {
   "cell_type": "code",
   "execution_count": 75,
   "id": "f9f715f5",
   "metadata": {},
   "outputs": [],
   "source": [
    "d1 = 'Hello'\n",
    "d2 = 'World'"
   ]
  },
  {
   "cell_type": "code",
   "execution_count": 76,
   "id": "2ad940fe",
   "metadata": {},
   "outputs": [
    {
     "data": {
      "text/plain": [
       "'HelloWorld'"
      ]
     },
     "execution_count": 76,
     "metadata": {},
     "output_type": "execute_result"
    }
   ],
   "source": [
    "d1 + d2"
   ]
  },
  {
   "cell_type": "code",
   "execution_count": 77,
   "id": "dcc6ea69",
   "metadata": {},
   "outputs": [
    {
     "data": {
      "text/plain": [
       "'HelloHelloHello'"
      ]
     },
     "execution_count": 77,
     "metadata": {},
     "output_type": "execute_result"
    }
   ],
   "source": [
    "# string repeatation\n",
    "d1 * 3"
   ]
  },
  {
   "cell_type": "code",
   "execution_count": 78,
   "id": "d1d77119",
   "metadata": {},
   "outputs": [],
   "source": [
    "# Escape Sequence"
   ]
  },
  {
   "cell_type": "code",
   "execution_count": 80,
   "id": "b9e28907",
   "metadata": {},
   "outputs": [
    {
     "name": "stdout",
     "output_type": "stream",
     "text": [
      "hello\n",
      "world\n"
     ]
    }
   ],
   "source": [
    "print('hello\\nworld')"
   ]
  },
  {
   "cell_type": "code",
   "execution_count": 81,
   "id": "5cb72132",
   "metadata": {},
   "outputs": [
    {
     "name": "stdout",
     "output_type": "stream",
     "text": [
      "hello\tworld\n"
     ]
    }
   ],
   "source": [
    "print('hello\\tworld')"
   ]
  },
  {
   "cell_type": "code",
   "execution_count": 82,
   "id": "20a27d09",
   "metadata": {},
   "outputs": [
    {
     "name": "stdout",
     "output_type": "stream",
     "text": [
      "hello\\world\n"
     ]
    }
   ],
   "source": [
    "print('hello\\\\world')"
   ]
  },
  {
   "cell_type": "code",
   "execution_count": 83,
   "id": "6c740dae",
   "metadata": {},
   "outputs": [],
   "source": [
    "# docstring\n",
    "\n",
    "line = '''hello\n",
    "how r u\n",
    "goodbyE!!!\n",
    "'''"
   ]
  },
  {
   "cell_type": "code",
   "execution_count": 84,
   "id": "cb48ab51",
   "metadata": {},
   "outputs": [
    {
     "name": "stdout",
     "output_type": "stream",
     "text": [
      "hello\n",
      "how r u\n",
      "goodbyE!!!\n",
      "\n"
     ]
    }
   ],
   "source": [
    "print(line)"
   ]
  },
  {
   "cell_type": "code",
   "execution_count": 85,
   "id": "f7cf3d29",
   "metadata": {},
   "outputs": [],
   "source": [
    "name = 'Aditya'\n",
    "marks = 81"
   ]
  },
  {
   "cell_type": "code",
   "execution_count": 86,
   "id": "16f668bf",
   "metadata": {},
   "outputs": [
    {
     "name": "stdout",
     "output_type": "stream",
     "text": [
      "my name is Aditya and marks are 81\n"
     ]
    }
   ],
   "source": [
    "print('my name is', name,'and marks are', marks)"
   ]
  },
  {
   "cell_type": "code",
   "execution_count": 87,
   "id": "bb817d6f",
   "metadata": {},
   "outputs": [
    {
     "name": "stdout",
     "output_type": "stream",
     "text": [
      "my name is Aditya and marks are 81\n"
     ]
    }
   ],
   "source": [
    "print('my name is %s and marks are %i' %(name,marks))"
   ]
  },
  {
   "cell_type": "code",
   "execution_count": 88,
   "id": "58dd31d6",
   "metadata": {},
   "outputs": [
    {
     "name": "stdout",
     "output_type": "stream",
     "text": [
      "my name is Aditya and marks are 81.00\n"
     ]
    }
   ],
   "source": [
    "print('my name is %s and marks are %.2f' %(name,marks))"
   ]
  },
  {
   "cell_type": "code",
   "execution_count": 89,
   "id": "662af957",
   "metadata": {},
   "outputs": [],
   "source": [
    "name = 'Aditya'\n",
    "marks = 81\n",
    "city = 'pune'"
   ]
  },
  {
   "cell_type": "code",
   "execution_count": 90,
   "id": "9ec5f7de",
   "metadata": {},
   "outputs": [
    {
     "name": "stdout",
     "output_type": "stream",
     "text": [
      "Aditya 81 pune\n"
     ]
    }
   ],
   "source": [
    "print(name, marks, city)"
   ]
  },
  {
   "cell_type": "code",
   "execution_count": 91,
   "id": "66b8ae6c",
   "metadata": {},
   "outputs": [
    {
     "name": "stdout",
     "output_type": "stream",
     "text": [
      "Aditya\n",
      "81\n",
      "pune\n"
     ]
    }
   ],
   "source": [
    "print(name, marks, city, sep = '\\n')"
   ]
  },
  {
   "cell_type": "code",
   "execution_count": 92,
   "id": "f5ad4e18",
   "metadata": {},
   "outputs": [
    {
     "name": "stdout",
     "output_type": "stream",
     "text": [
      "Aditya*81*pune\n"
     ]
    }
   ],
   "source": [
    "print(name, marks, city, sep = '*')"
   ]
  },
  {
   "cell_type": "code",
   "execution_count": 93,
   "id": "48fe0002",
   "metadata": {},
   "outputs": [],
   "source": [
    "# Operators"
   ]
  },
  {
   "cell_type": "code",
   "execution_count": 107,
   "id": "8ea6edff",
   "metadata": {},
   "outputs": [],
   "source": [
    "num1 = 30\n",
    "num2 = 40"
   ]
  },
  {
   "cell_type": "code",
   "execution_count": 95,
   "id": "598f9dbb",
   "metadata": {},
   "outputs": [
    {
     "data": {
      "text/plain": [
       "70"
      ]
     },
     "execution_count": 95,
     "metadata": {},
     "output_type": "execute_result"
    }
   ],
   "source": [
    "num1 + num2"
   ]
  },
  {
   "cell_type": "code",
   "execution_count": 96,
   "id": "a4dd7c4e",
   "metadata": {},
   "outputs": [
    {
     "data": {
      "text/plain": [
       "-10"
      ]
     },
     "execution_count": 96,
     "metadata": {},
     "output_type": "execute_result"
    }
   ],
   "source": [
    "num1 - num2"
   ]
  },
  {
   "cell_type": "code",
   "execution_count": 97,
   "id": "7a36727a",
   "metadata": {},
   "outputs": [
    {
     "data": {
      "text/plain": [
       "1200"
      ]
     },
     "execution_count": 97,
     "metadata": {},
     "output_type": "execute_result"
    }
   ],
   "source": [
    "num1 * num2"
   ]
  },
  {
   "cell_type": "code",
   "execution_count": 98,
   "id": "b51b8801",
   "metadata": {},
   "outputs": [
    {
     "data": {
      "text/plain": [
       "0.75"
      ]
     },
     "execution_count": 98,
     "metadata": {},
     "output_type": "execute_result"
    }
   ],
   "source": [
    "num1 / num2"
   ]
  },
  {
   "cell_type": "code",
   "execution_count": 99,
   "id": "17d7372e",
   "metadata": {},
   "outputs": [
    {
     "data": {
      "text/plain": [
       "121576654590569288010000000000000000000000000000000000000000"
      ]
     },
     "execution_count": 99,
     "metadata": {},
     "output_type": "execute_result"
    }
   ],
   "source": [
    "num1 ** num2"
   ]
  },
  {
   "cell_type": "code",
   "execution_count": 100,
   "id": "2a755191",
   "metadata": {},
   "outputs": [
    {
     "data": {
      "text/plain": [
       "0"
      ]
     },
     "execution_count": 100,
     "metadata": {},
     "output_type": "execute_result"
    }
   ],
   "source": [
    "num1 // num2   # floor division"
   ]
  },
  {
   "cell_type": "code",
   "execution_count": 101,
   "id": "e9da15b7",
   "metadata": {},
   "outputs": [
    {
     "data": {
      "text/plain": [
       "30"
      ]
     },
     "execution_count": 101,
     "metadata": {},
     "output_type": "execute_result"
    }
   ],
   "source": [
    "num1 % num2 # remainder"
   ]
  },
  {
   "cell_type": "code",
   "execution_count": 102,
   "id": "e3dd58ab",
   "metadata": {},
   "outputs": [],
   "source": [
    "# relational operators"
   ]
  },
  {
   "cell_type": "code",
   "execution_count": 103,
   "id": "b426eac4",
   "metadata": {},
   "outputs": [
    {
     "data": {
      "text/plain": [
       "False"
      ]
     },
     "execution_count": 103,
     "metadata": {},
     "output_type": "execute_result"
    }
   ],
   "source": [
    "num1 > num2"
   ]
  },
  {
   "cell_type": "code",
   "execution_count": 104,
   "id": "a3536c62",
   "metadata": {},
   "outputs": [
    {
     "data": {
      "text/plain": [
       "True"
      ]
     },
     "execution_count": 104,
     "metadata": {},
     "output_type": "execute_result"
    }
   ],
   "source": [
    "num1 < num2"
   ]
  },
  {
   "cell_type": "code",
   "execution_count": 105,
   "id": "8e33de1a",
   "metadata": {},
   "outputs": [
    {
     "data": {
      "text/plain": [
       "False"
      ]
     },
     "execution_count": 105,
     "metadata": {},
     "output_type": "execute_result"
    }
   ],
   "source": [
    "num1 >= num2"
   ]
  },
  {
   "cell_type": "code",
   "execution_count": 108,
   "id": "2cd5e148",
   "metadata": {},
   "outputs": [
    {
     "data": {
      "text/plain": [
       "False"
      ]
     },
     "execution_count": 108,
     "metadata": {},
     "output_type": "execute_result"
    }
   ],
   "source": [
    "num1 == num2"
   ]
  },
  {
   "cell_type": "code",
   "execution_count": 109,
   "id": "d875ecfe",
   "metadata": {},
   "outputs": [
    {
     "data": {
      "text/plain": [
       "True"
      ]
     },
     "execution_count": 109,
     "metadata": {},
     "output_type": "execute_result"
    }
   ],
   "source": [
    "num1 != num2"
   ]
  },
  {
   "cell_type": "code",
   "execution_count": 110,
   "id": "83b5d315",
   "metadata": {},
   "outputs": [],
   "source": [
    "# Assignment operator"
   ]
  },
  {
   "cell_type": "code",
   "execution_count": 111,
   "id": "542b1005",
   "metadata": {},
   "outputs": [],
   "source": [
    "num1 = 20"
   ]
  },
  {
   "cell_type": "code",
   "execution_count": 112,
   "id": "c317ddc8",
   "metadata": {},
   "outputs": [],
   "source": [
    "num1 += 4    # num1 = num1 + 4"
   ]
  },
  {
   "cell_type": "code",
   "execution_count": 117,
   "id": "1ae3629e",
   "metadata": {},
   "outputs": [],
   "source": [
    "num1 *= 2"
   ]
  },
  {
   "cell_type": "code",
   "execution_count": 118,
   "id": "bce461a1",
   "metadata": {},
   "outputs": [
    {
     "data": {
      "text/plain": [
       "48"
      ]
     },
     "execution_count": 118,
     "metadata": {},
     "output_type": "execute_result"
    }
   ],
   "source": [
    "num1"
   ]
  },
  {
   "cell_type": "code",
   "execution_count": 119,
   "id": "3b6813a0",
   "metadata": {},
   "outputs": [],
   "source": [
    "# Logical Operator"
   ]
  },
  {
   "cell_type": "code",
   "execution_count": 120,
   "id": "95bcd8c8",
   "metadata": {},
   "outputs": [
    {
     "data": {
      "text/plain": [
       "False"
      ]
     },
     "execution_count": 120,
     "metadata": {},
     "output_type": "execute_result"
    }
   ],
   "source": [
    "num1 > num2 and num1 > 100"
   ]
  },
  {
   "cell_type": "code",
   "execution_count": 121,
   "id": "10eb5258",
   "metadata": {},
   "outputs": [
    {
     "data": {
      "text/plain": [
       "True"
      ]
     },
     "execution_count": 121,
     "metadata": {},
     "output_type": "execute_result"
    }
   ],
   "source": [
    "num1 > 1 and num1 > 2"
   ]
  },
  {
   "cell_type": "code",
   "execution_count": 124,
   "id": "5108695b",
   "metadata": {
    "scrolled": true
   },
   "outputs": [
    {
     "data": {
      "text/plain": [
       "True"
      ]
     },
     "execution_count": 124,
     "metadata": {},
     "output_type": "execute_result"
    }
   ],
   "source": [
    "num1 > num2 or num1 > 100"
   ]
  },
  {
   "cell_type": "code",
   "execution_count": 125,
   "id": "d913b49e",
   "metadata": {},
   "outputs": [
    {
     "data": {
      "text/plain": [
       "True"
      ]
     },
     "execution_count": 125,
     "metadata": {},
     "output_type": "execute_result"
    }
   ],
   "source": [
    "num1 > 1 or num1 > 100"
   ]
  },
  {
   "cell_type": "code",
   "execution_count": 126,
   "id": "c856d4eb",
   "metadata": {},
   "outputs": [],
   "source": [
    "# type casting"
   ]
  },
  {
   "cell_type": "code",
   "execution_count": 127,
   "id": "ff292fc9",
   "metadata": {},
   "outputs": [],
   "source": [
    "num1 = 23\n",
    "num2 = 10.10"
   ]
  },
  {
   "cell_type": "code",
   "execution_count": 128,
   "id": "80ab33d4",
   "metadata": {},
   "outputs": [
    {
     "data": {
      "text/plain": [
       "33.1"
      ]
     },
     "execution_count": 128,
     "metadata": {},
     "output_type": "execute_result"
    }
   ],
   "source": [
    "num1 + num2 "
   ]
  },
  {
   "cell_type": "code",
   "execution_count": 129,
   "id": "779d9f80",
   "metadata": {},
   "outputs": [
    {
     "data": {
      "text/plain": [
       "33"
      ]
     },
     "execution_count": 129,
     "metadata": {},
     "output_type": "execute_result"
    }
   ],
   "source": [
    "num1 + int(num2)"
   ]
  },
  {
   "cell_type": "code",
   "execution_count": 131,
   "id": "e685cbbc",
   "metadata": {},
   "outputs": [
    {
     "data": {
      "text/plain": [
       "'2310.1'"
      ]
     },
     "execution_count": 131,
     "metadata": {},
     "output_type": "execute_result"
    }
   ],
   "source": [
    "str(num1) + str(num2)"
   ]
  },
  {
   "cell_type": "code",
   "execution_count": 132,
   "id": "a7faa8d9",
   "metadata": {},
   "outputs": [],
   "source": [
    "# User input"
   ]
  },
  {
   "cell_type": "code",
   "execution_count": 135,
   "id": "b2390e97",
   "metadata": {},
   "outputs": [
    {
     "name": "stdout",
     "output_type": "stream",
     "text": [
      "Enter the 1st number 10\n",
      "Enter the 2nd number 20\n",
      "Addition: 30\n"
     ]
    }
   ],
   "source": [
    "num1 = int(input('Enter the 1st number '))\n",
    "num2 = int(input('Enter the 2nd number '))\n",
    "\n",
    "result = num1 + num2\n",
    "print('Addition:', result)"
   ]
  },
  {
   "cell_type": "code",
   "execution_count": null,
   "id": "1c54da17",
   "metadata": {},
   "outputs": [],
   "source": []
  }
 ],
 "metadata": {
  "kernelspec": {
   "display_name": "Python 3 (ipykernel)",
   "language": "python",
   "name": "python3"
  },
  "language_info": {
   "codemirror_mode": {
    "name": "ipython",
    "version": 3
   },
   "file_extension": ".py",
   "mimetype": "text/x-python",
   "name": "python",
   "nbconvert_exporter": "python",
   "pygments_lexer": "ipython3",
   "version": "3.11.5"
  }
 },
 "nbformat": 4,
 "nbformat_minor": 5
}
