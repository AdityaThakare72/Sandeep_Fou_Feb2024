{
 "cells": [
  {
   "cell_type": "code",
   "execution_count": 1,
   "id": "0f6600f6",
   "metadata": {},
   "outputs": [],
   "source": [
    "class Employee():\n",
    "    pass"
   ]
  },
  {
   "cell_type": "code",
   "execution_count": 2,
   "id": "5c34b4d5",
   "metadata": {},
   "outputs": [],
   "source": [
    "emp1 = Employee()\n",
    "emp2 = Employee()"
   ]
  },
  {
   "cell_type": "code",
   "execution_count": 3,
   "id": "12788c96",
   "metadata": {},
   "outputs": [
    {
     "name": "stdout",
     "output_type": "stream",
     "text": [
      "<__main__.Employee object at 0x7f1a685753d0>\n"
     ]
    }
   ],
   "source": [
    "print(emp1)"
   ]
  },
  {
   "cell_type": "code",
   "execution_count": 4,
   "id": "a6682f90",
   "metadata": {},
   "outputs": [
    {
     "name": "stdout",
     "output_type": "stream",
     "text": [
      "<__main__.Employee object at 0x7f1a6842f2d0>\n"
     ]
    }
   ],
   "source": [
    "print(emp2)"
   ]
  },
  {
   "cell_type": "code",
   "execution_count": 5,
   "id": "41d3362d",
   "metadata": {},
   "outputs": [],
   "source": [
    "emp1.first = 'Aditya'     # instance variables\n",
    "emp1.last = 'Thakare'\n",
    "emp1.salary = 51000"
   ]
  },
  {
   "cell_type": "code",
   "execution_count": 6,
   "id": "7774523f",
   "metadata": {},
   "outputs": [],
   "source": [
    "emp2.first = 'Riya'\n",
    "emp2.last = 'Desai'\n",
    "emp2.salary = 48000"
   ]
  },
  {
   "cell_type": "code",
   "execution_count": 7,
   "id": "a54af921",
   "metadata": {},
   "outputs": [
    {
     "name": "stdout",
     "output_type": "stream",
     "text": [
      "Aditya\n"
     ]
    }
   ],
   "source": [
    "print(emp1.first)"
   ]
  },
  {
   "cell_type": "code",
   "execution_count": 8,
   "id": "54e89b4d",
   "metadata": {},
   "outputs": [
    {
     "name": "stdout",
     "output_type": "stream",
     "text": [
      "48000\n"
     ]
    }
   ],
   "source": [
    "print(emp2.salary)"
   ]
  },
  {
   "cell_type": "code",
   "execution_count": 9,
   "id": "f1640c06",
   "metadata": {},
   "outputs": [],
   "source": [
    "class Employee():\n",
    "    def __init__ (self,first,last,salary):\n",
    "        self.first = first\n",
    "        self.last = last\n",
    "        self.salary = salary"
   ]
  },
  {
   "cell_type": "code",
   "execution_count": 10,
   "id": "e363ddce",
   "metadata": {},
   "outputs": [],
   "source": [
    "emp1 = Employee('Aditya','Thakare', 51000)"
   ]
  },
  {
   "cell_type": "code",
   "execution_count": 11,
   "id": "f0c531f4",
   "metadata": {},
   "outputs": [
    {
     "data": {
      "text/plain": [
       "51000"
      ]
     },
     "execution_count": 11,
     "metadata": {},
     "output_type": "execute_result"
    }
   ],
   "source": [
    "emp1.salary"
   ]
  },
  {
   "cell_type": "code",
   "execution_count": 12,
   "id": "b121b8c7",
   "metadata": {},
   "outputs": [],
   "source": [
    "emp2 = Employee('Parag','Patel', 47000)"
   ]
  },
  {
   "cell_type": "code",
   "execution_count": 13,
   "id": "4b52f061",
   "metadata": {},
   "outputs": [
    {
     "data": {
      "text/plain": [
       "'Patel'"
      ]
     },
     "execution_count": 13,
     "metadata": {},
     "output_type": "execute_result"
    }
   ],
   "source": [
    "emp2.last"
   ]
  },
  {
   "cell_type": "code",
   "execution_count": 18,
   "id": "f80ac9c3",
   "metadata": {},
   "outputs": [],
   "source": [
    "class Employee2():\n",
    "    def __init__ (self,first,last,salary):\n",
    "        self.first = first\n",
    "        self.last = last\n",
    "        self.salary = salary\n",
    "        \n",
    "    def show(self):\n",
    "        print(self.first + ' ' + 'OK')"
   ]
  },
  {
   "cell_type": "code",
   "execution_count": 19,
   "id": "e900e737",
   "metadata": {},
   "outputs": [],
   "source": [
    "emp1 = Employee2('Aditya','Thakare', 51000)\n",
    "emp2 = Employee2('Parag','Patel', 47000)"
   ]
  },
  {
   "cell_type": "code",
   "execution_count": 20,
   "id": "bf2bff08",
   "metadata": {},
   "outputs": [
    {
     "name": "stdout",
     "output_type": "stream",
     "text": [
      "Aditya OK\n"
     ]
    }
   ],
   "source": [
    "emp1.show()"
   ]
  },
  {
   "cell_type": "code",
   "execution_count": 24,
   "id": "ced7e8af",
   "metadata": {},
   "outputs": [],
   "source": [
    "# Create a method to show anual salary of the emp\n",
    "\n",
    "class Employee2():\n",
    "    def __init__ (self,first,last,salary):\n",
    "        self.first = first\n",
    "        self.last = last\n",
    "        self.salary = salary\n",
    "        \n",
    "    def show(self):\n",
    "        print(self.first + ' ' + 'OK')\n",
    "        \n",
    "    def annual_sal(self):\n",
    "        print('Annual Salary is:', self.salary * 12)"
   ]
  },
  {
   "cell_type": "code",
   "execution_count": 25,
   "id": "aa897e8a",
   "metadata": {},
   "outputs": [],
   "source": [
    "emp1 = Employee2('Aditya','Thakare', 51000)\n",
    "emp2 = Employee2('Parag','Patel', 47000)"
   ]
  },
  {
   "cell_type": "code",
   "execution_count": 26,
   "id": "d2bcbb2f",
   "metadata": {},
   "outputs": [
    {
     "name": "stdout",
     "output_type": "stream",
     "text": [
      "Annual Salary is: 612000\n"
     ]
    }
   ],
   "source": [
    "emp1.annual_sal()"
   ]
  },
  {
   "cell_type": "code",
   "execution_count": 27,
   "id": "327b2325",
   "metadata": {},
   "outputs": [],
   "source": [
    "# create a class called car\n",
    "# attributes => name, distance, time\n",
    "# create the method to calculate the speed of the car \n",
    "# distance in m, time in minutes\n"
   ]
  },
  {
   "cell_type": "code",
   "execution_count": 28,
   "id": "4b7293d6",
   "metadata": {},
   "outputs": [],
   "source": [
    "class Car():\n",
    "    def __init__(self,name,distance,time):\n",
    "        self.name=name\n",
    "        self.distance=distance\n",
    "        self.time=time\n",
    "    def speed(self):\n",
    "        print(\"The name of car is =\",self.name)\n",
    "        print(\"Speed of car is =\",self.distance/self.time)\n",
    "        "
   ]
  },
  {
   "cell_type": "code",
   "execution_count": 29,
   "id": "5a50c121",
   "metadata": {},
   "outputs": [
    {
     "name": "stdout",
     "output_type": "stream",
     "text": [
      "The name of car is = Toyota\n",
      "Speed of car is = 100.0\n"
     ]
    }
   ],
   "source": [
    "c=Car('Toyota',500,5)\n",
    "c.speed()"
   ]
  },
  {
   "cell_type": "code",
   "execution_count": 30,
   "id": "c83e7d1f",
   "metadata": {},
   "outputs": [],
   "source": [
    "class Car():\n",
    "    \n",
    "    def __init__ (self, name, distance, time):\n",
    "        self.name = name\n",
    "        self.distance = distance\n",
    "        self.time = time\n",
    "        \n",
    "    def get_speed(self):\n",
    "        print('Speed of the car is:', self.distance/(self.time*60),'m/s')"
   ]
  },
  {
   "cell_type": "code",
   "execution_count": 31,
   "id": "0ed98091",
   "metadata": {},
   "outputs": [],
   "source": [
    "car1 = Car('Tata', 5000, 6)"
   ]
  },
  {
   "cell_type": "code",
   "execution_count": 32,
   "id": "b16663cb",
   "metadata": {},
   "outputs": [
    {
     "name": "stdout",
     "output_type": "stream",
     "text": [
      "Speed of the car is: 13.88888888888889 m/s\n"
     ]
    }
   ],
   "source": [
    "car1.get_speed()"
   ]
  },
  {
   "cell_type": "code",
   "execution_count": 43,
   "id": "12a1ff60",
   "metadata": {},
   "outputs": [],
   "source": [
    "# Encapsulation\n",
    "# make the instance variable private\n",
    "class Employee2():\n",
    "    def __init__ (self,first,last,salary):\n",
    "        self.first = first\n",
    "        self.last = last\n",
    "        self.__salary = salary\n",
    "        \n",
    "    def show(self):\n",
    "        print(self.first + ' ' + 'OK')"
   ]
  },
  {
   "cell_type": "code",
   "execution_count": 44,
   "id": "676d05d2",
   "metadata": {},
   "outputs": [],
   "source": [
    "emp1 = Employee2('Aditya','Thakare', 51000)\n",
    "emp2 = Employee2('Parag','Patel', 47000)"
   ]
  },
  {
   "cell_type": "code",
   "execution_count": 45,
   "id": "6ca74f94",
   "metadata": {},
   "outputs": [
    {
     "ename": "AttributeError",
     "evalue": "'Employee2' object has no attribute 'salary'",
     "output_type": "error",
     "traceback": [
      "\u001b[0;31m---------------------------------------------------------------------------\u001b[0m",
      "\u001b[0;31mAttributeError\u001b[0m                            Traceback (most recent call last)",
      "Cell \u001b[0;32mIn[45], line 1\u001b[0m\n\u001b[0;32m----> 1\u001b[0m emp1\u001b[38;5;241m.\u001b[39msalary\n",
      "\u001b[0;31mAttributeError\u001b[0m: 'Employee2' object has no attribute 'salary'"
     ]
    }
   ],
   "source": [
    "emp1.salary"
   ]
  },
  {
   "cell_type": "code",
   "execution_count": 50,
   "id": "b697a3af",
   "metadata": {},
   "outputs": [],
   "source": [
    "class Employee2():\n",
    "    def __init__ (self,first,last,salary):\n",
    "        self.first = first\n",
    "        self.last = last\n",
    "        self.__salary = salary\n",
    "        \n",
    "    def show_sal(self):\n",
    "        print('Salary is:', self.__salary)"
   ]
  },
  {
   "cell_type": "code",
   "execution_count": 51,
   "id": "ae07aa24",
   "metadata": {},
   "outputs": [],
   "source": [
    "emp1 = Employee2('Aditya','Thakare', 51000)\n",
    "emp2 = Employee2('Parag','Patel', 47000)"
   ]
  },
  {
   "cell_type": "code",
   "execution_count": 52,
   "id": "9a7f00c2",
   "metadata": {},
   "outputs": [
    {
     "name": "stdout",
     "output_type": "stream",
     "text": [
      "Salary is: 51000\n"
     ]
    }
   ],
   "source": [
    "emp1.show_sal()"
   ]
  },
  {
   "cell_type": "code",
   "execution_count": 56,
   "id": "4ce98535",
   "metadata": {},
   "outputs": [],
   "source": [
    "# Inheritance\n",
    "\n",
    "class Empl(Employee2):\n",
    "    pass\n",
    "\n",
    "# Empl => subclass\n",
    "# Employee2 => Superclass"
   ]
  },
  {
   "cell_type": "code",
   "execution_count": 57,
   "id": "b44a4d9e",
   "metadata": {},
   "outputs": [],
   "source": [
    "emp3 = Empl('Raj', 'Jain', 30000)"
   ]
  },
  {
   "cell_type": "code",
   "execution_count": 58,
   "id": "a1039608",
   "metadata": {},
   "outputs": [
    {
     "data": {
      "text/plain": [
       "'Raj'"
      ]
     },
     "execution_count": 58,
     "metadata": {},
     "output_type": "execute_result"
    }
   ],
   "source": [
    "emp3.first"
   ]
  },
  {
   "cell_type": "code",
   "execution_count": 60,
   "id": "1bedbccf",
   "metadata": {},
   "outputs": [],
   "source": [
    "def isempty(l):\n",
    "    if len(l) == 0:\n",
    "        print('Empty')\n",
    "    else:\n",
    "        print('Not empty')"
   ]
  },
  {
   "cell_type": "code",
   "execution_count": 61,
   "id": "41dda92b",
   "metadata": {},
   "outputs": [],
   "source": [
    "l1 = []"
   ]
  },
  {
   "cell_type": "code",
   "execution_count": 62,
   "id": "bf523fbe",
   "metadata": {},
   "outputs": [
    {
     "name": "stdout",
     "output_type": "stream",
     "text": [
      "Empty\n"
     ]
    }
   ],
   "source": [
    "isempty(l1)"
   ]
  },
  {
   "cell_type": "code",
   "execution_count": 63,
   "id": "c4710d61",
   "metadata": {},
   "outputs": [],
   "source": [
    "l2 = [54,23]"
   ]
  },
  {
   "cell_type": "code",
   "execution_count": 64,
   "id": "6236ce37",
   "metadata": {},
   "outputs": [
    {
     "name": "stdout",
     "output_type": "stream",
     "text": [
      "Not empty\n"
     ]
    }
   ],
   "source": [
    "isempty(l2)"
   ]
  },
  {
   "cell_type": "code",
   "execution_count": null,
   "id": "97229fa7",
   "metadata": {},
   "outputs": [],
   "source": []
  }
 ],
 "metadata": {
  "kernelspec": {
   "display_name": "Python 3 (ipykernel)",
   "language": "python",
   "name": "python3"
  },
  "language_info": {
   "codemirror_mode": {
    "name": "ipython",
    "version": 3
   },
   "file_extension": ".py",
   "mimetype": "text/x-python",
   "name": "python",
   "nbconvert_exporter": "python",
   "pygments_lexer": "ipython3",
   "version": "3.11.5"
  }
 },
 "nbformat": 4,
 "nbformat_minor": 5
}
