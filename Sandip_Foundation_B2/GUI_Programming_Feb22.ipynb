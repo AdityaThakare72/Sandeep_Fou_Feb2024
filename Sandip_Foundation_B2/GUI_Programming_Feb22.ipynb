{
 "cells": [
  {
   "cell_type": "code",
   "execution_count": 3,
   "id": "5929fe73",
   "metadata": {},
   "outputs": [],
   "source": [
    "import tkinter as tk"
   ]
  },
  {
   "cell_type": "code",
   "execution_count": 6,
   "id": "54937807",
   "metadata": {},
   "outputs": [],
   "source": [
    "top = tk.Tk()\n",
    "\n",
    "top.mainloop()"
   ]
  },
  {
   "cell_type": "code",
   "execution_count": 7,
   "id": "bb70d3a8",
   "metadata": {},
   "outputs": [],
   "source": [
    "top = tk.Tk()\n",
    "\n",
    "top.title('My App')\n",
    "top.geometry('500x300')  # width and height of our gui window\n",
    "\n",
    "top.mainloop()"
   ]
  },
  {
   "cell_type": "code",
   "execution_count": 8,
   "id": "ec48c1dd",
   "metadata": {},
   "outputs": [],
   "source": [
    "top = tk.Tk()\n",
    "\n",
    "top.title('My App')\n",
    "top.geometry('500x300')  # width and height of our gui window\n",
    "\n",
    "data = tk.IntVar()  # integer variable\n",
    "\n",
    "def show():\n",
    "    num = data.get()   #getting the data\n",
    "    sq = num * num\n",
    "    result = tk.Label(top, text = \" Square is:%i\" %sq).place(x=50, y=200)\n",
    "    \n",
    "l = tk.Label(top, text = \"input: \").place(x=20, y=100)   # Label widget \n",
    "e = tk.Entry(top, textvariable = data).place(x=100, y=100)    # Entry Widget\n",
    "b = tk.Button(top, text = \"Click me\", command = show).place(x=50,y=150)  # Button Widget\n",
    "\n",
    "top.mainloop()"
   ]
  },
  {
   "cell_type": "code",
   "execution_count": 9,
   "id": "7013b74c",
   "metadata": {},
   "outputs": [],
   "source": [
    "# Read 2 numbers and find addition\n",
    "\n",
    "top = tk.Tk()\n",
    "\n",
    "top.title('Addition')\n",
    "top.geometry('500x500')\n",
    "\n",
    "n1 = tk.IntVar()\n",
    "n2 = tk.IntVar()\n",
    "\n",
    "def show():\n",
    "    add = n1.get() + n2.get()\n",
    "    tk.Label(top, text = 'Addition: %i' %add).place(x=50, y=200)\n",
    "    #from tkinter import messagebox\n",
    "    #messagebox.showinfo(\"Result\",\"Addition: %i\" %add)\n",
    "    \n",
    "tk.Label(top, text = 'Enter: ').place(x=20, y=100)\n",
    "tk.Entry(top, textvariable = n1).place(x=100, y=100)\n",
    "tk.Entry(top, textvariable = n2).place(x=200, y=100)\n",
    "tk.Button(top, text = 'Add', command = show).place(x=50, y=150)\n",
    "\n",
    "top.mainloop()"
   ]
  },
  {
   "cell_type": "code",
   "execution_count": null,
   "id": "7cc74c6c",
   "metadata": {},
   "outputs": [],
   "source": []
  }
 ],
 "metadata": {
  "kernelspec": {
   "display_name": "Python 3 (ipykernel)",
   "language": "python",
   "name": "python3"
  },
  "language_info": {
   "codemirror_mode": {
    "name": "ipython",
    "version": 3
   },
   "file_extension": ".py",
   "mimetype": "text/x-python",
   "name": "python",
   "nbconvert_exporter": "python",
   "pygments_lexer": "ipython3",
   "version": "3.11.5"
  }
 },
 "nbformat": 4,
 "nbformat_minor": 5
}
