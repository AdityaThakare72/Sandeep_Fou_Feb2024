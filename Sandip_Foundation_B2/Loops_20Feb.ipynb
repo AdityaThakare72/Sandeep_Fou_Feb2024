{
 "cells": [
  {
   "cell_type": "code",
   "execution_count": 2,
   "id": "c6471c3c",
   "metadata": {},
   "outputs": [
    {
     "name": "stdout",
     "output_type": "stream",
     "text": [
      "Aditya\n",
      "Aditya\n",
      "Aditya\n",
      "Aditya\n",
      "Aditya\n",
      "Aditya\n",
      "Aditya\n",
      "Aditya\n",
      "Aditya\n",
      "Aditya\n"
     ]
    }
   ],
   "source": [
    "count = 1\n",
    "while count <= 10:\n",
    "    print('Aditya')\n",
    "    count += 1   # count = count + 1"
   ]
  },
  {
   "cell_type": "code",
   "execution_count": 3,
   "id": "24fe8566",
   "metadata": {},
   "outputs": [
    {
     "name": "stdout",
     "output_type": "stream",
     "text": [
      "11\n"
     ]
    }
   ],
   "source": [
    "print(count)"
   ]
  },
  {
   "cell_type": "code",
   "execution_count": 4,
   "id": "f9bc59e4",
   "metadata": {},
   "outputs": [
    {
     "name": "stdout",
     "output_type": "stream",
     "text": [
      "11\n",
      "12\n",
      "13\n",
      "14\n",
      "15\n",
      "16\n",
      "17\n",
      "18\n",
      "19\n",
      "20\n"
     ]
    }
   ],
   "source": [
    "# numbers from 11 to 20\n",
    "count = 11\n",
    "while count <=20:\n",
    "    print(count)\n",
    "    count +=1"
   ]
  },
  {
   "cell_type": "code",
   "execution_count": 8,
   "id": "b39fcd8b",
   "metadata": {},
   "outputs": [
    {
     "name": "stdout",
     "output_type": "stream",
     "text": [
      "Addition: 55\n"
     ]
    }
   ],
   "source": [
    "# find the addition of numbers from 1 to 10\n",
    "\n",
    "count = 1\n",
    "add = 0\n",
    "while count <= 10:\n",
    "    add = add + count\n",
    "    count += 1\n",
    "\n",
    "print('Addition:', add)"
   ]
  },
  {
   "cell_type": "code",
   "execution_count": 11,
   "id": "40d9e471",
   "metadata": {},
   "outputs": [
    {
     "name": "stdout",
     "output_type": "stream",
     "text": [
      "Addition: 100\n"
     ]
    }
   ],
   "source": [
    "# find the addition of odd numbers from 1 to 20\n",
    "\n",
    "count = 1\n",
    "add = 0\n",
    "while count <= 20:\n",
    "    add = add + count\n",
    "    count += 2\n",
    "\n",
    "print('Addition:', add)"
   ]
  },
  {
   "cell_type": "code",
   "execution_count": 15,
   "id": "389b102c",
   "metadata": {},
   "outputs": [
    {
     "name": "stdout",
     "output_type": "stream",
     "text": [
      "Enter the number 100\n",
      "93326215443944152681699238856266700490715968264381621468592963895217599993229915608941463976156518286253697920827223758251185210916864000000000000000000000000\n"
     ]
    }
   ],
   "source": [
    "# find the factorial\n",
    "# ex=> 5! = 5 x 4 x 3 x 2 x 1 = 120\n",
    "\n",
    "count = int(input('Enter the number '))\n",
    "fact = 1\n",
    "while count > 1:\n",
    "    fact = fact * count\n",
    "    count -=1\n",
    "    \n",
    "print(fact)"
   ]
  },
  {
   "cell_type": "code",
   "execution_count": 18,
   "id": "22ef2706",
   "metadata": {},
   "outputs": [
    {
     "name": "stdout",
     "output_type": "stream",
     "text": [
      "Enter the number 150\n",
      "6\n"
     ]
    }
   ],
   "source": [
    "# find the of digits in a number\n",
    "# ex => 12345 = 1 + 2 + 3 + 4 + 5 = 15\n",
    "\n",
    "num = int(input('Enter the number '))\n",
    "add = 0\n",
    "while num > 0:\n",
    "    rem = num % 10\n",
    "    add = add + rem\n",
    "    num = num // 10\n",
    "\n",
    "print(add)"
   ]
  },
  {
   "cell_type": "markdown",
   "id": "9eedd939",
   "metadata": {},
   "source": [
    "## For Loop"
   ]
  },
  {
   "cell_type": "code",
   "execution_count": 19,
   "id": "dc965eb2",
   "metadata": {},
   "outputs": [
    {
     "name": "stdout",
     "output_type": "stream",
     "text": [
      "34\n",
      "5\n",
      "6\n",
      "21\n",
      "34\n"
     ]
    }
   ],
   "source": [
    "for n in 34,5,6,21,34:\n",
    "    print(n)"
   ]
  },
  {
   "cell_type": "code",
   "execution_count": 20,
   "id": "35ad0d66",
   "metadata": {},
   "outputs": [
    {
     "name": "stdout",
     "output_type": "stream",
     "text": [
      "1156\n",
      "25\n",
      "36\n",
      "441\n",
      "1156\n"
     ]
    }
   ],
   "source": [
    "for n in 34,5,6,21,34:\n",
    "    print(n * n)"
   ]
  },
  {
   "cell_type": "code",
   "execution_count": 23,
   "id": "ab387346",
   "metadata": {},
   "outputs": [
    {
     "name": "stdout",
     "output_type": "stream",
     "text": [
      "34\n",
      "5\n",
      "6\n",
      "21\n",
      "34\n",
      "Aditya\n",
      "4.43\n"
     ]
    }
   ],
   "source": [
    "for n in 34,5,6,21,34, 'Aditya',4.43:\n",
    "    print(n)"
   ]
  },
  {
   "cell_type": "code",
   "execution_count": 25,
   "id": "d2d9aaa6",
   "metadata": {},
   "outputs": [],
   "source": [
    "# range function"
   ]
  },
  {
   "cell_type": "code",
   "execution_count": 26,
   "id": "ff55f2b1",
   "metadata": {},
   "outputs": [
    {
     "data": {
      "text/plain": [
       "[0, 1, 2, 3, 4, 5, 6, 7, 8, 9]"
      ]
     },
     "execution_count": 26,
     "metadata": {},
     "output_type": "execute_result"
    }
   ],
   "source": [
    "list(range(10))   # 0 to n-1"
   ]
  },
  {
   "cell_type": "code",
   "execution_count": 27,
   "id": "d85f1671",
   "metadata": {},
   "outputs": [
    {
     "data": {
      "text/plain": [
       "[4, 5, 6, 7, 8, 9]"
      ]
     },
     "execution_count": 27,
     "metadata": {},
     "output_type": "execute_result"
    }
   ],
   "source": [
    "list(range(4,10))"
   ]
  },
  {
   "cell_type": "code",
   "execution_count": 28,
   "id": "08e72f99",
   "metadata": {},
   "outputs": [
    {
     "data": {
      "text/plain": [
       "[4, 6, 8]"
      ]
     },
     "execution_count": 28,
     "metadata": {},
     "output_type": "execute_result"
    }
   ],
   "source": [
    "list(range(4,10,2))   # (start, end, step)"
   ]
  },
  {
   "cell_type": "code",
   "execution_count": 32,
   "id": "c3b3576e",
   "metadata": {},
   "outputs": [
    {
     "name": "stdout",
     "output_type": "stream",
     "text": [
      "0 1 2 3 4 5 6 7 8 9 "
     ]
    }
   ],
   "source": [
    "for n in range(10):\n",
    "    print(n, end = ' ')"
   ]
  },
  {
   "cell_type": "code",
   "execution_count": 33,
   "id": "1ba5babf",
   "metadata": {},
   "outputs": [
    {
     "name": "stdout",
     "output_type": "stream",
     "text": [
      "Aditya\n",
      "Aditya\n",
      "Aditya\n",
      "Aditya\n",
      "Aditya\n",
      "Aditya\n",
      "Aditya\n",
      "Aditya\n",
      "Aditya\n",
      "Aditya\n"
     ]
    }
   ],
   "source": [
    "for n in range(10):\n",
    "    print('Aditya')"
   ]
  },
  {
   "cell_type": "code",
   "execution_count": 35,
   "id": "d79a5fc7",
   "metadata": {},
   "outputs": [
    {
     "name": "stdout",
     "output_type": "stream",
     "text": [
      "55\n"
     ]
    }
   ],
   "source": [
    "# find the addition of 10 natural numbers\n",
    "\n",
    "add = 0\n",
    "for num in range(1,11):\n",
    "    add = add + num\n",
    "\n",
    "print(add)"
   ]
  },
  {
   "cell_type": "code",
   "execution_count": 36,
   "id": "2a30d870",
   "metadata": {},
   "outputs": [
    {
     "name": "stdout",
     "output_type": "stream",
     "text": [
      "100\n"
     ]
    }
   ],
   "source": [
    "# Addition of odd numbers from 1 to 20\n",
    "\n",
    "add = 0\n",
    "for num in range(1,20,2):\n",
    "    add = add + num\n",
    "\n",
    "print(add)"
   ]
  },
  {
   "cell_type": "code",
   "execution_count": 39,
   "id": "49a86e22",
   "metadata": {},
   "outputs": [
    {
     "name": "stdout",
     "output_type": "stream",
     "text": [
      "Enter the number 10\n",
      "3628800\n"
     ]
    }
   ],
   "source": [
    "# find the factorial \n",
    "\n",
    "num = int(input('Enter the number '))\n",
    "fact = 1\n",
    "for n in range(1,num+1):\n",
    "    fact = fact * n\n",
    "print(fact)"
   ]
  },
  {
   "cell_type": "code",
   "execution_count": 40,
   "id": "d6a5b3a4",
   "metadata": {},
   "outputs": [],
   "source": [
    "## Loop control statements"
   ]
  },
  {
   "cell_type": "code",
   "execution_count": 42,
   "id": "0f05829e",
   "metadata": {},
   "outputs": [
    {
     "name": "stdout",
     "output_type": "stream",
     "text": [
      "0\n",
      "1\n",
      "2\n",
      "3\n",
      "4\n"
     ]
    }
   ],
   "source": [
    "# break\n",
    "\n",
    "for n in range(10):\n",
    "    if n == 5:\n",
    "        break\n",
    "    print(n)"
   ]
  },
  {
   "cell_type": "code",
   "execution_count": 43,
   "id": "c006a0d2",
   "metadata": {},
   "outputs": [
    {
     "name": "stdout",
     "output_type": "stream",
     "text": [
      "0\n",
      "1\n",
      "2\n",
      "3\n",
      "4\n",
      "6\n",
      "7\n",
      "8\n",
      "9\n"
     ]
    }
   ],
   "source": [
    "# continue\n",
    "\n",
    "for n in range(10):\n",
    "    if n == 5:\n",
    "        continue\n",
    "    print(n)"
   ]
  },
  {
   "cell_type": "code",
   "execution_count": 46,
   "id": "853da81a",
   "metadata": {},
   "outputs": [],
   "source": [
    "# pass\n",
    "\n",
    "for n in range(10):\n",
    "    pass"
   ]
  },
  {
   "cell_type": "code",
   "execution_count": 47,
   "id": "7c3ef42a",
   "metadata": {},
   "outputs": [],
   "source": [
    "num = 5\n",
    "if num > 1:\n",
    "    pass"
   ]
  },
  {
   "cell_type": "code",
   "execution_count": 50,
   "id": "e8671999",
   "metadata": {},
   "outputs": [
    {
     "name": "stdout",
     "output_type": "stream",
     "text": [
      "Enter the number76532\n",
      "No of digits 5\n"
     ]
    }
   ],
   "source": [
    "# Write a Python program to count number of digits in a number.\n",
    "#Read value of n from user.\n",
    "\n",
    "\n",
    "num = int(input('Enter the number'))\n",
    "count = 0\n",
    "while num != 0:\n",
    "    num //= 10  # num = num // 10\n",
    "    count += 1\n",
    "    \n",
    "print('No of digits', count)"
   ]
  },
  {
   "cell_type": "code",
   "execution_count": null,
   "id": "5b5743bc",
   "metadata": {},
   "outputs": [],
   "source": []
  }
 ],
 "metadata": {
  "kernelspec": {
   "display_name": "Python 3 (ipykernel)",
   "language": "python",
   "name": "python3"
  },
  "language_info": {
   "codemirror_mode": {
    "name": "ipython",
    "version": 3
   },
   "file_extension": ".py",
   "mimetype": "text/x-python",
   "name": "python",
   "nbconvert_exporter": "python",
   "pygments_lexer": "ipython3",
   "version": "3.11.5"
  }
 },
 "nbformat": 4,
 "nbformat_minor": 5
}
