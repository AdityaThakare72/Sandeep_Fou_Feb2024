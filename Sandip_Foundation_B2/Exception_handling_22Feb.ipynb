{
 "cells": [
  {
   "cell_type": "code",
   "execution_count": 2,
   "id": "92fe61d1",
   "metadata": {
    "scrolled": true
   },
   "outputs": [
    {
     "ename": "FileNotFoundError",
     "evalue": "[Errno 2] No such file or directory: 'maha1.txt'",
     "output_type": "error",
     "traceback": [
      "\u001b[0;31m---------------------------------------------------------------------------\u001b[0m",
      "\u001b[0;31mFileNotFoundError\u001b[0m                         Traceback (most recent call last)",
      "Cell \u001b[0;32mIn[2], line 1\u001b[0m\n\u001b[0;32m----> 1\u001b[0m f \u001b[38;5;241m=\u001b[39m \u001b[38;5;28mopen\u001b[39m(\u001b[38;5;124m'\u001b[39m\u001b[38;5;124mmaha1.txt\u001b[39m\u001b[38;5;124m'\u001b[39m)\n",
      "File \u001b[0;32m~/anaconda3/lib/python3.11/site-packages/IPython/core/interactiveshell.py:286\u001b[0m, in \u001b[0;36m_modified_open\u001b[0;34m(file, *args, **kwargs)\u001b[0m\n\u001b[1;32m    279\u001b[0m \u001b[38;5;28;01mif\u001b[39;00m file \u001b[38;5;129;01min\u001b[39;00m {\u001b[38;5;241m0\u001b[39m, \u001b[38;5;241m1\u001b[39m, \u001b[38;5;241m2\u001b[39m}:\n\u001b[1;32m    280\u001b[0m     \u001b[38;5;28;01mraise\u001b[39;00m \u001b[38;5;167;01mValueError\u001b[39;00m(\n\u001b[1;32m    281\u001b[0m         \u001b[38;5;124mf\u001b[39m\u001b[38;5;124m\"\u001b[39m\u001b[38;5;124mIPython won\u001b[39m\u001b[38;5;124m'\u001b[39m\u001b[38;5;124mt let you open fd=\u001b[39m\u001b[38;5;132;01m{\u001b[39;00mfile\u001b[38;5;132;01m}\u001b[39;00m\u001b[38;5;124m by default \u001b[39m\u001b[38;5;124m\"\u001b[39m\n\u001b[1;32m    282\u001b[0m         \u001b[38;5;124m\"\u001b[39m\u001b[38;5;124mas it is likely to crash IPython. If you know what you are doing, \u001b[39m\u001b[38;5;124m\"\u001b[39m\n\u001b[1;32m    283\u001b[0m         \u001b[38;5;124m\"\u001b[39m\u001b[38;5;124myou can use builtins\u001b[39m\u001b[38;5;124m'\u001b[39m\u001b[38;5;124m open.\u001b[39m\u001b[38;5;124m\"\u001b[39m\n\u001b[1;32m    284\u001b[0m     )\n\u001b[0;32m--> 286\u001b[0m \u001b[38;5;28;01mreturn\u001b[39;00m io_open(file, \u001b[38;5;241m*\u001b[39margs, \u001b[38;5;241m*\u001b[39m\u001b[38;5;241m*\u001b[39mkwargs)\n",
      "\u001b[0;31mFileNotFoundError\u001b[0m: [Errno 2] No such file or directory: 'maha1.txt'"
     ]
    }
   ],
   "source": [
    "f = open('maha1.txt')"
   ]
  },
  {
   "cell_type": "code",
   "execution_count": 3,
   "id": "5aa47bcb",
   "metadata": {},
   "outputs": [
    {
     "name": "stdout",
     "output_type": "stream",
     "text": [
      "Check the file name\n"
     ]
    }
   ],
   "source": [
    "try:\n",
    "    f = open('maha1.txt')\n",
    "except Exception:\n",
    "    print('Check the file name')"
   ]
  },
  {
   "cell_type": "code",
   "execution_count": 4,
   "id": "8865535b",
   "metadata": {},
   "outputs": [],
   "source": [
    "try:\n",
    "    f = open('maha.txt')\n",
    "except Exception:\n",
    "    print('Check the file name')"
   ]
  },
  {
   "cell_type": "code",
   "execution_count": 8,
   "id": "0559f851",
   "metadata": {},
   "outputs": [
    {
     "ename": "NameError",
     "evalue": "name 'b' is not defined",
     "output_type": "error",
     "traceback": [
      "\u001b[0;31m---------------------------------------------------------------------------\u001b[0m",
      "\u001b[0;31mNameError\u001b[0m                                 Traceback (most recent call last)",
      "Cell \u001b[0;32mIn[8], line 3\u001b[0m\n\u001b[1;32m      1\u001b[0m \u001b[38;5;28;01mtry\u001b[39;00m:\n\u001b[1;32m      2\u001b[0m     f \u001b[38;5;241m=\u001b[39m \u001b[38;5;28mopen\u001b[39m(\u001b[38;5;124m'\u001b[39m\u001b[38;5;124mmaha.txt\u001b[39m\u001b[38;5;124m'\u001b[39m)\n\u001b[0;32m----> 3\u001b[0m     var \u001b[38;5;241m=\u001b[39m b\n\u001b[1;32m      4\u001b[0m \u001b[38;5;28;01mexcept\u001b[39;00m \u001b[38;5;167;01mFileNotFoundError\u001b[39;00m:\n\u001b[1;32m      5\u001b[0m     \u001b[38;5;28mprint\u001b[39m(\u001b[38;5;124m'\u001b[39m\u001b[38;5;124mCheck the file name\u001b[39m\u001b[38;5;124m'\u001b[39m)\n",
      "\u001b[0;31mNameError\u001b[0m: name 'b' is not defined"
     ]
    }
   ],
   "source": [
    "try:\n",
    "    f = open('maha.txt')\n",
    "    var = b\n",
    "except FileNotFoundError:\n",
    "    print('Check the file name')"
   ]
  },
  {
   "cell_type": "code",
   "execution_count": 7,
   "id": "f3a6cc1e",
   "metadata": {},
   "outputs": [
    {
     "name": "stdout",
     "output_type": "stream",
     "text": [
      "define the variable\n"
     ]
    }
   ],
   "source": [
    "try:\n",
    "    f = open('maha.txt')\n",
    "    var = b\n",
    "except FileNotFoundError:\n",
    "    print('Check the file name')\n",
    "except NameError:\n",
    "    print('define the variable')"
   ]
  },
  {
   "cell_type": "code",
   "execution_count": 9,
   "id": "1f84a8fa",
   "metadata": {},
   "outputs": [
    {
     "name": "stdout",
     "output_type": "stream",
     "text": [
      "name 'b' is not defined\n"
     ]
    }
   ],
   "source": [
    "try:\n",
    "    f = open('maha.txt')\n",
    "    var = b\n",
    "except FileNotFoundError:\n",
    "    print('Check the file name')\n",
    "except Exception as e:\n",
    "    print(e)"
   ]
  },
  {
   "cell_type": "code",
   "execution_count": 10,
   "id": "080c084a",
   "metadata": {},
   "outputs": [
    {
     "name": "stdout",
     "output_type": "stream",
     "text": [
      "The region that encompasses the state has a history going back many millennia. Notable dynasties that ruled the region include the Asmakas, the Mauryas, the Satavahanas, the Western Satraps, the Abhiras, the Vakatakas, the Chalukyas, the Rashtrakutas, the Western Chalukyas, the Seuna Yadavas, the Khaljis, the Tughlaqs, the Bahamanis and the Mughals. In the early nineteenth century, the region was divided beween the Dominions of the Peshwa in the Maratha Confederacy and the Nizamate of Hyderabad. After two wars and the proclamation of the Indian Empire, the region became a part of the Bombay Province, the Berar Province and the Central Provinces of India under direct British rule and the Deccan States Agency under Crown suzerainty. Between 1950 and 1956, the Bombay Province became the Bombay State in the Indian Union, and Berar, the Deccan states and the Gujarat states were merged into the Bombay State. On 1 May 1960, the State of Bombay was bifurcated into the State of Maharasthra and State of Gujarat after a long struggle for special state for Marathi language speaking people through Samyukta Maharashtra Movement (transl. United Maharashtra movement).\n",
      "\n"
     ]
    }
   ],
   "source": [
    "try:\n",
    "    f = open('maha.txt')\n",
    "except FileNotFoundError:\n",
    "    print('Check the file name')\n",
    "except Exception as e:\n",
    "    print(e)\n",
    "else:\n",
    "    print(f.read())\n",
    "    f.close()\n",
    "    \n",
    "# else -> will execute if 'try' doesnt raise and error"
   ]
  },
  {
   "cell_type": "code",
   "execution_count": 11,
   "id": "045106d1",
   "metadata": {},
   "outputs": [
    {
     "name": "stdout",
     "output_type": "stream",
     "text": [
      "Check the file name\n",
      "Done!!!!\n"
     ]
    }
   ],
   "source": [
    "try:\n",
    "    f = open('maha1.txt')\n",
    "except FileNotFoundError:\n",
    "    print('Check the file name')\n",
    "except Exception as e:\n",
    "    print(e)\n",
    "else:\n",
    "    print(f.read())\n",
    "    f.close()\n",
    "finally:\n",
    "    print('Done!!!!')\n",
    "    \n",
    "# no matter what 'finally' will get executed"
   ]
  },
  {
   "cell_type": "code",
   "execution_count": 15,
   "id": "fe780c96",
   "metadata": {},
   "outputs": [
    {
     "name": "stdout",
     "output_type": "stream",
     "text": [
      "Try different file\n",
      "Done!!!!\n"
     ]
    }
   ],
   "source": [
    "try:\n",
    "    f = open('maha.txt')\n",
    "    if f.name == 'maha.txt':\n",
    "        raise Exception\n",
    "except FileNotFoundError:\n",
    "    print('Check the file name')\n",
    "except Exception:\n",
    "    print('Try different file')\n",
    "else:\n",
    "    print(f.read())\n",
    "    f.close()\n",
    "finally:\n",
    "    print('Done!!!!')\n",
    "    \n",
    "# Raising the exception manually"
   ]
  },
  {
   "cell_type": "code",
   "execution_count": null,
   "id": "7d84ccf8",
   "metadata": {},
   "outputs": [],
   "source": []
  }
 ],
 "metadata": {
  "kernelspec": {
   "display_name": "Python 3 (ipykernel)",
   "language": "python",
   "name": "python3"
  },
  "language_info": {
   "codemirror_mode": {
    "name": "ipython",
    "version": 3
   },
   "file_extension": ".py",
   "mimetype": "text/x-python",
   "name": "python",
   "nbconvert_exporter": "python",
   "pygments_lexer": "ipython3",
   "version": "3.11.5"
  }
 },
 "nbformat": 4,
 "nbformat_minor": 5
}
