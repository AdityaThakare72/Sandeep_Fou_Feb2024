{
 "cells": [
  {
   "cell_type": "code",
   "execution_count": 5,
   "id": "766e6915",
   "metadata": {},
   "outputs": [],
   "source": [
    "f = open('maha.txt')"
   ]
  },
  {
   "cell_type": "code",
   "execution_count": 6,
   "id": "0a3be24f",
   "metadata": {},
   "outputs": [],
   "source": [
    "data = f.read()"
   ]
  },
  {
   "cell_type": "code",
   "execution_count": 7,
   "id": "a386121f",
   "metadata": {},
   "outputs": [
    {
     "data": {
      "text/plain": [
       "'The region that encompasses the state has a history going back many millennia. Notable dynasties that ruled the region include the Asmakas, the Mauryas, the Satavahanas, the Western Satraps, the Abhiras, the Vakatakas, the Chalukyas, the Rashtrakutas, the Western Chalukyas, the Seuna Yadavas, the Khaljis, the Tughlaqs, the Bahamanis and the Mughals. In the early nineteenth century, the region was divided beween the Dominions of the Peshwa in the Maratha Confederacy and the Nizamate of Hyderabad. After two wars and the proclamation of the Indian Empire, the region became a part of the Bombay Province, the Berar Province and the Central Provinces of India under direct British rule and the Deccan States Agency under Crown suzerainty. Between 1950 and 1956, the Bombay Province became the Bombay State in the Indian Union, and Berar, the Deccan states and the Gujarat states were merged into the Bombay State. On 1 May 1960, the State of Bombay was bifurcated into the State of Maharasthra and State of Gujarat after a long struggle for special state for Marathi language speaking people through Samyukta Maharashtra Movement (transl.\\u2009United Maharashtra movement).\\n'"
      ]
     },
     "execution_count": 7,
     "metadata": {},
     "output_type": "execute_result"
    }
   ],
   "source": [
    "data"
   ]
  },
  {
   "cell_type": "code",
   "execution_count": 8,
   "id": "be135532",
   "metadata": {},
   "outputs": [],
   "source": [
    "words = data.split()"
   ]
  },
  {
   "cell_type": "code",
   "execution_count": 9,
   "id": "244bb50e",
   "metadata": {},
   "outputs": [
    {
     "data": {
      "text/plain": [
       "['The',\n",
       " 'region',\n",
       " 'that',\n",
       " 'encompasses',\n",
       " 'the',\n",
       " 'state',\n",
       " 'has',\n",
       " 'a',\n",
       " 'history',\n",
       " 'going',\n",
       " 'back',\n",
       " 'many',\n",
       " 'millennia.',\n",
       " 'Notable',\n",
       " 'dynasties',\n",
       " 'that',\n",
       " 'ruled',\n",
       " 'the',\n",
       " 'region',\n",
       " 'include',\n",
       " 'the',\n",
       " 'Asmakas,',\n",
       " 'the',\n",
       " 'Mauryas,',\n",
       " 'the',\n",
       " 'Satavahanas,',\n",
       " 'the',\n",
       " 'Western',\n",
       " 'Satraps,',\n",
       " 'the',\n",
       " 'Abhiras,',\n",
       " 'the',\n",
       " 'Vakatakas,',\n",
       " 'the',\n",
       " 'Chalukyas,',\n",
       " 'the',\n",
       " 'Rashtrakutas,',\n",
       " 'the',\n",
       " 'Western',\n",
       " 'Chalukyas,',\n",
       " 'the',\n",
       " 'Seuna',\n",
       " 'Yadavas,',\n",
       " 'the',\n",
       " 'Khaljis,',\n",
       " 'the',\n",
       " 'Tughlaqs,',\n",
       " 'the',\n",
       " 'Bahamanis',\n",
       " 'and',\n",
       " 'the',\n",
       " 'Mughals.',\n",
       " 'In',\n",
       " 'the',\n",
       " 'early',\n",
       " 'nineteenth',\n",
       " 'century,',\n",
       " 'the',\n",
       " 'region',\n",
       " 'was',\n",
       " 'divided',\n",
       " 'beween',\n",
       " 'the',\n",
       " 'Dominions',\n",
       " 'of',\n",
       " 'the',\n",
       " 'Peshwa',\n",
       " 'in',\n",
       " 'the',\n",
       " 'Maratha',\n",
       " 'Confederacy',\n",
       " 'and',\n",
       " 'the',\n",
       " 'Nizamate',\n",
       " 'of',\n",
       " 'Hyderabad.',\n",
       " 'After',\n",
       " 'two',\n",
       " 'wars',\n",
       " 'and',\n",
       " 'the',\n",
       " 'proclamation',\n",
       " 'of',\n",
       " 'the',\n",
       " 'Indian',\n",
       " 'Empire,',\n",
       " 'the',\n",
       " 'region',\n",
       " 'became',\n",
       " 'a',\n",
       " 'part',\n",
       " 'of',\n",
       " 'the',\n",
       " 'Bombay',\n",
       " 'Province,',\n",
       " 'the',\n",
       " 'Berar',\n",
       " 'Province',\n",
       " 'and',\n",
       " 'the',\n",
       " 'Central',\n",
       " 'Provinces',\n",
       " 'of',\n",
       " 'India',\n",
       " 'under',\n",
       " 'direct',\n",
       " 'British',\n",
       " 'rule',\n",
       " 'and',\n",
       " 'the',\n",
       " 'Deccan',\n",
       " 'States',\n",
       " 'Agency',\n",
       " 'under',\n",
       " 'Crown',\n",
       " 'suzerainty.',\n",
       " 'Between',\n",
       " '1950',\n",
       " 'and',\n",
       " '1956,',\n",
       " 'the',\n",
       " 'Bombay',\n",
       " 'Province',\n",
       " 'became',\n",
       " 'the',\n",
       " 'Bombay',\n",
       " 'State',\n",
       " 'in',\n",
       " 'the',\n",
       " 'Indian',\n",
       " 'Union,',\n",
       " 'and',\n",
       " 'Berar,',\n",
       " 'the',\n",
       " 'Deccan',\n",
       " 'states',\n",
       " 'and',\n",
       " 'the',\n",
       " 'Gujarat',\n",
       " 'states',\n",
       " 'were',\n",
       " 'merged',\n",
       " 'into',\n",
       " 'the',\n",
       " 'Bombay',\n",
       " 'State.',\n",
       " 'On',\n",
       " '1',\n",
       " 'May',\n",
       " '1960,',\n",
       " 'the',\n",
       " 'State',\n",
       " 'of',\n",
       " 'Bombay',\n",
       " 'was',\n",
       " 'bifurcated',\n",
       " 'into',\n",
       " 'the',\n",
       " 'State',\n",
       " 'of',\n",
       " 'Maharasthra',\n",
       " 'and',\n",
       " 'State',\n",
       " 'of',\n",
       " 'Gujarat',\n",
       " 'after',\n",
       " 'a',\n",
       " 'long',\n",
       " 'struggle',\n",
       " 'for',\n",
       " 'special',\n",
       " 'state',\n",
       " 'for',\n",
       " 'Marathi',\n",
       " 'language',\n",
       " 'speaking',\n",
       " 'people',\n",
       " 'through',\n",
       " 'Samyukta',\n",
       " 'Maharashtra',\n",
       " 'Movement',\n",
       " '(transl.',\n",
       " 'United',\n",
       " 'Maharashtra',\n",
       " 'movement).']"
      ]
     },
     "execution_count": 9,
     "metadata": {},
     "output_type": "execute_result"
    }
   ],
   "source": [
    "words"
   ]
  },
  {
   "cell_type": "code",
   "execution_count": 11,
   "id": "f9084670",
   "metadata": {},
   "outputs": [
    {
     "name": "stdout",
     "output_type": "stream",
     "text": [
      "4\n"
     ]
    }
   ],
   "source": [
    "print(words.count('region'))"
   ]
  },
  {
   "cell_type": "code",
   "execution_count": 13,
   "id": "e355f253",
   "metadata": {},
   "outputs": [
    {
     "name": "stdout",
     "output_type": "stream",
     "text": [
      "r\n"
     ]
    }
   ],
   "source": [
    "print(f.mode)"
   ]
  },
  {
   "cell_type": "code",
   "execution_count": 14,
   "id": "a323192e",
   "metadata": {},
   "outputs": [
    {
     "name": "stdout",
     "output_type": "stream",
     "text": [
      "maha.txt\n"
     ]
    }
   ],
   "source": [
    "print(f.name)"
   ]
  },
  {
   "cell_type": "code",
   "execution_count": 15,
   "id": "928ced4f",
   "metadata": {},
   "outputs": [],
   "source": [
    "f.close()   # have to manually close the file"
   ]
  },
  {
   "cell_type": "code",
   "execution_count": 18,
   "id": "bcae6b97",
   "metadata": {},
   "outputs": [
    {
     "data": {
      "text/plain": [
       "True"
      ]
     },
     "execution_count": 18,
     "metadata": {},
     "output_type": "execute_result"
    }
   ],
   "source": [
    "f.closed"
   ]
  },
  {
   "cell_type": "code",
   "execution_count": 21,
   "id": "83f4334f",
   "metadata": {},
   "outputs": [
    {
     "name": "stdout",
     "output_type": "stream",
     "text": [
      "The region that encompasses the state has a history going back many millennia. Notable dynasties that ruled the region include the Asmakas, the Mauryas, the Satavahanas, the Western Satraps, the Abhiras, the Vakatakas, the Chalukyas, the Rashtrakutas, the Western Chalukyas, the Seuna Yadavas, the Khaljis, the Tughlaqs, the Bahamanis and the Mughals. In the early nineteenth century, the region was divided beween the Dominions of the Peshwa in the Maratha Confederacy and the Nizamate of Hyderabad. After two wars and the proclamation of the Indian Empire, the region became a part of the Bombay Province, the Berar Province and the Central Provinces of India under direct British rule and the Deccan States Agency under Crown suzerainty. Between 1950 and 1956, the Bombay Province became the Bombay State in the Indian Union, and Berar, the Deccan states and the Gujarat states were merged into the Bombay State. On 1 May 1960, the State of Bombay was bifurcated into the State of Maharasthra and State of Gujarat after a long struggle for special state for Marathi language speaking people through Samyukta Maharashtra Movement (transl. United Maharashtra movement).\n",
      "\n"
     ]
    },
    {
     "data": {
      "text/plain": [
       "True"
      ]
     },
     "execution_count": 21,
     "metadata": {},
     "output_type": "execute_result"
    }
   ],
   "source": [
    "# reading the file using context manager\n",
    "with open('maha.txt', 'r') as f:\n",
    "    data = f.read()\n",
    "    print(data)\n",
    "    \n",
    "f.closed"
   ]
  },
  {
   "cell_type": "code",
   "execution_count": 23,
   "id": "35eb8a88",
   "metadata": {},
   "outputs": [
    {
     "name": "stdout",
     "output_type": "stream",
     "text": [
      "['this is first line\\n', 'this is second line\\n', 'this is third line\\n', 'this is fourth line']\n"
     ]
    }
   ],
   "source": [
    "with open('lines.txt', 'r') as f:\n",
    "    data = f.readlines()            # reads the data line by line\n",
    "    print(data)"
   ]
  },
  {
   "cell_type": "code",
   "execution_count": 26,
   "id": "fbf50855",
   "metadata": {},
   "outputs": [
    {
     "name": "stdout",
     "output_type": "stream",
     "text": [
      "this is first line\n",
      "this is second line\n"
     ]
    }
   ],
   "source": [
    "with open('lines.txt', 'r') as f:\n",
    "    data = f.readline()\n",
    "    print(data, end = '')\n",
    "    \n",
    "    data = f.readline()\n",
    "    print(data, end = '')"
   ]
  },
  {
   "cell_type": "code",
   "execution_count": 28,
   "id": "460c07d6",
   "metadata": {},
   "outputs": [
    {
     "name": "stdout",
     "output_type": "stream",
     "text": [
      "this is first line\n",
      "this is second line\n",
      "this is third line\n",
      "this is fourth line"
     ]
    }
   ],
   "source": [
    "# read all the content using readline using for loop\n",
    "with open('lines.txt', 'r') as f:\n",
    "    for line in f:\n",
    "        print(line, end = '')"
   ]
  },
  {
   "cell_type": "code",
   "execution_count": 31,
   "id": "6fb5046d",
   "metadata": {},
   "outputs": [
    {
     "name": "stdout",
     "output_type": "stream",
     "text": [
      "this is first \n"
     ]
    }
   ],
   "source": [
    "with open('lines.txt', 'r') as f:\n",
    "    data = f.read(14)\n",
    "    print(data)"
   ]
  },
  {
   "cell_type": "code",
   "execution_count": 33,
   "id": "4117af3b",
   "metadata": {},
   "outputs": [
    {
     "name": "stdout",
     "output_type": "stream",
     "text": [
      "this is first line\n",
      "line\n"
     ]
    }
   ],
   "source": [
    "with open('lines.txt', 'r') as f:\n",
    "    data = f.readline()\n",
    "    print(data, end = '')\n",
    "    \n",
    "    f.seek(14)\n",
    "    \n",
    "    data = f.readline()\n",
    "    print(data, end = '')"
   ]
  },
  {
   "cell_type": "code",
   "execution_count": 34,
   "id": "eba6f961",
   "metadata": {},
   "outputs": [],
   "source": [
    "with open('text.txt', 'w') as f:\n",
    "    pass     \n",
    "# this will create a file"
   ]
  },
  {
   "cell_type": "code",
   "execution_count": 38,
   "id": "3971797b",
   "metadata": {},
   "outputs": [],
   "source": [
    "with open('text.txt', 'w') as f:\n",
    "    f.write('test') \n",
    "    f.write('test')"
   ]
  },
  {
   "cell_type": "code",
   "execution_count": 42,
   "id": "bc4c4eb9",
   "metadata": {},
   "outputs": [],
   "source": [
    "with open('text.txt', 'w') as f:\n",
    "    f.write('TEST') \n",
    "    f.seek(2)\n",
    "    f.write('!!!!')\n",
    "# overwriting the previous content"
   ]
  },
  {
   "cell_type": "code",
   "execution_count": 43,
   "id": "65b16b33",
   "metadata": {},
   "outputs": [],
   "source": [
    "with open('lines.txt') as rf:\n",
    "    with open('lines_copy.txt', 'w') as wf:\n",
    "        for line in rf:\n",
    "            wf.write(line)\n",
    "# creating a new file and copying the content in it"
   ]
  },
  {
   "cell_type": "code",
   "execution_count": null,
   "id": "1ac6bc94",
   "metadata": {},
   "outputs": [],
   "source": []
  }
 ],
 "metadata": {
  "kernelspec": {
   "display_name": "Python 3 (ipykernel)",
   "language": "python",
   "name": "python3"
  },
  "language_info": {
   "codemirror_mode": {
    "name": "ipython",
    "version": 3
   },
   "file_extension": ".py",
   "mimetype": "text/x-python",
   "name": "python",
   "nbconvert_exporter": "python",
   "pygments_lexer": "ipython3",
   "version": "3.11.5"
  }
 },
 "nbformat": 4,
 "nbformat_minor": 5
}
